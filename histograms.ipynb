{
 "cells": [
  {
   "cell_type": "code",
   "execution_count": 1,
   "id": "4b3a3a08",
   "metadata": {},
   "outputs": [],
   "source": [
    "import pandas as pd\n",
    "import seaborn as sns\n",
    "import matplotlib.pyplot as plt"
   ]
  },
  {
   "cell_type": "code",
   "execution_count": 2,
   "id": "3a069418",
   "metadata": {},
   "outputs": [],
   "source": [
    "l_nstops = pd.read_csv('gen/l_nstops.csv')"
   ]
  },
  {
   "cell_type": "code",
   "execution_count": 3,
   "id": "09a98579",
   "metadata": {},
   "outputs": [],
   "source": [
    "l_nstops = l_nstops.set_index('Route')"
   ]
  },
  {
   "cell_type": "code",
   "execution_count": 4,
   "id": "6728fe38",
   "metadata": {},
   "outputs": [],
   "source": [
    "d_nstops = pd.read_csv('gen/d_nstops2.csv')"
   ]
  },
  {
   "cell_type": "code",
   "execution_count": 5,
   "id": "75670b7c",
   "metadata": {},
   "outputs": [],
   "source": [
    "d_nstops = d_nstops.set_index('route_id')"
   ]
  },
  {
   "cell_type": "code",
   "execution_count": 6,
   "id": "a53c621e",
   "metadata": {},
   "outputs": [],
   "source": [
    "d_nstops['City'] = 'Delhi'"
   ]
  },
  {
   "cell_type": "code",
   "execution_count": 7,
   "id": "b4d56e8b",
   "metadata": {},
   "outputs": [],
   "source": [
    "l_nstops['City'] = 'London'"
   ]
  },
  {
   "cell_type": "code",
   "execution_count": 8,
   "id": "1bc60200",
   "metadata": {},
   "outputs": [],
   "source": [
    "d_nstops.rename(columns={'0': 'Stops'}, inplace=True)"
   ]
  },
  {
   "cell_type": "code",
   "execution_count": 9,
   "id": "4ca0cd97",
   "metadata": {},
   "outputs": [],
   "source": [
    "l_nstops.rename(columns={'Stop_Code_LBSL': 'Stops'}, inplace=True)"
   ]
  },
  {
   "cell_type": "code",
   "execution_count": 10,
   "id": "f49fcccd",
   "metadata": {},
   "outputs": [
    {
     "data": {
      "text/html": [
       "<div>\n",
       "<style scoped>\n",
       "    .dataframe tbody tr th:only-of-type {\n",
       "        vertical-align: middle;\n",
       "    }\n",
       "\n",
       "    .dataframe tbody tr th {\n",
       "        vertical-align: top;\n",
       "    }\n",
       "\n",
       "    .dataframe thead th {\n",
       "        text-align: right;\n",
       "    }\n",
       "</style>\n",
       "<table border=\"1\" class=\"dataframe\">\n",
       "  <thead>\n",
       "    <tr style=\"text-align: right;\">\n",
       "      <th></th>\n",
       "      <th>Stops_x</th>\n",
       "      <th>City</th>\n",
       "      <th>Stops_y</th>\n",
       "    </tr>\n",
       "  </thead>\n",
       "  <tbody>\n",
       "    <tr>\n",
       "      <th>0</th>\n",
       "      <td>20.0</td>\n",
       "      <td>Delhi</td>\n",
       "      <td>NaN</td>\n",
       "    </tr>\n",
       "    <tr>\n",
       "      <th>1</th>\n",
       "      <td>46.0</td>\n",
       "      <td>Delhi</td>\n",
       "      <td>NaN</td>\n",
       "    </tr>\n",
       "    <tr>\n",
       "      <th>2</th>\n",
       "      <td>7.0</td>\n",
       "      <td>Delhi</td>\n",
       "      <td>NaN</td>\n",
       "    </tr>\n",
       "    <tr>\n",
       "      <th>3</th>\n",
       "      <td>28.0</td>\n",
       "      <td>Delhi</td>\n",
       "      <td>NaN</td>\n",
       "    </tr>\n",
       "    <tr>\n",
       "      <th>4</th>\n",
       "      <td>31.0</td>\n",
       "      <td>Delhi</td>\n",
       "      <td>NaN</td>\n",
       "    </tr>\n",
       "    <tr>\n",
       "      <th>...</th>\n",
       "      <td>...</td>\n",
       "      <td>...</td>\n",
       "      <td>...</td>\n",
       "    </tr>\n",
       "    <tr>\n",
       "      <th>1955</th>\n",
       "      <td>NaN</td>\n",
       "      <td>London</td>\n",
       "      <td>73.0</td>\n",
       "    </tr>\n",
       "    <tr>\n",
       "      <th>1956</th>\n",
       "      <td>NaN</td>\n",
       "      <td>London</td>\n",
       "      <td>37.0</td>\n",
       "    </tr>\n",
       "    <tr>\n",
       "      <th>1957</th>\n",
       "      <td>NaN</td>\n",
       "      <td>London</td>\n",
       "      <td>26.0</td>\n",
       "    </tr>\n",
       "    <tr>\n",
       "      <th>1958</th>\n",
       "      <td>NaN</td>\n",
       "      <td>London</td>\n",
       "      <td>28.0</td>\n",
       "    </tr>\n",
       "    <tr>\n",
       "      <th>1959</th>\n",
       "      <td>NaN</td>\n",
       "      <td>London</td>\n",
       "      <td>69.0</td>\n",
       "    </tr>\n",
       "  </tbody>\n",
       "</table>\n",
       "<p>1960 rows × 3 columns</p>\n",
       "</div>"
      ],
      "text/plain": [
       "      Stops_x    City  Stops_y\n",
       "0        20.0   Delhi      NaN\n",
       "1        46.0   Delhi      NaN\n",
       "2         7.0   Delhi      NaN\n",
       "3        28.0   Delhi      NaN\n",
       "4        31.0   Delhi      NaN\n",
       "...       ...     ...      ...\n",
       "1955      NaN  London     73.0\n",
       "1956      NaN  London     37.0\n",
       "1957      NaN  London     26.0\n",
       "1958      NaN  London     28.0\n",
       "1959      NaN  London     69.0\n",
       "\n",
       "[1960 rows x 3 columns]"
      ]
     },
     "execution_count": 10,
     "metadata": {},
     "output_type": "execute_result"
    }
   ],
   "source": [
    "nstops = pd.merge(d_nstops, l_nstops, on='City', how='outer')\n",
    "nstops"
   ]
  },
  {
   "cell_type": "code",
   "execution_count": 11,
   "id": "85791505",
   "metadata": {},
   "outputs": [
    {
     "data": {
      "text/plain": [
       "(1960, 3)"
      ]
     },
     "execution_count": 11,
     "metadata": {},
     "output_type": "execute_result"
    }
   ],
   "source": [
    "nstops.shape"
   ]
  },
  {
   "cell_type": "code",
   "execution_count": 12,
   "id": "1cb90614",
   "metadata": {},
   "outputs": [
    {
     "data": {
      "text/plain": [
       "1960"
      ]
     },
     "execution_count": 12,
     "metadata": {},
     "output_type": "execute_result"
    }
   ],
   "source": [
    "d_nstops.shape[0] + l_nstops.shape[0]"
   ]
  },
  {
   "cell_type": "code",
   "execution_count": 13,
   "id": "d0b51620",
   "metadata": {},
   "outputs": [],
   "source": [
    "cols = ['Stops_x', 'Stops_y']\n",
    "nstops = nstops.assign(value=nstops[cols].sum(1)).drop(labels=cols, axis=1)"
   ]
  },
  {
   "cell_type": "code",
   "execution_count": 29,
   "id": "c5fa522f",
   "metadata": {},
   "outputs": [
    {
     "data": {
      "image/png": "[encoded data removed]",
      "text/plain": [
       "<Figure size 432x288 with 1 Axes>"
      ]
     },
     "metadata": {
      "needs_background": "light"
     },
     "output_type": "display_data"
    }
   ],
   "source": [
    "_, ax = plt.subplots()\n",
    "sns.histplot(data=nstops, ax=ax, x='value', hue='City')\n",
    "sns.despine()\n",
    "plt.xlabel('Number of stops')\n",
    "plt.savefig('figures/nstops.png')"
   ]
  },
  {
   "cell_type": "code",
   "execution_count": 15,
   "id": "3fd72de3",
   "metadata": {},
   "outputs": [],
   "source": [
    "l_rlengths = pd.read_csv('gen/l_rlengths.csv')"
   ]
  },
  {
   "cell_type": "code",
   "execution_count": 16,
   "id": "fc664e4d",
   "metadata": {},
   "outputs": [],
   "source": [
    "d_rlengths = pd.read_csv('gen/d_rlengths2.csv')"
   ]
  },
  {
   "cell_type": "code",
   "execution_count": 17,
   "id": "bbb2bddc",
   "metadata": {},
   "outputs": [],
   "source": [
    "d_rlengths['City'] = 'Delhi'"
   ]
  },
  {
   "cell_type": "code",
   "execution_count": 18,
   "id": "95c964e9",
   "metadata": {},
   "outputs": [],
   "source": [
    "l_rlengths['City'] = 'London'"
   ]
  },
  {
   "cell_type": "code",
   "execution_count": 19,
   "id": "835acb46",
   "metadata": {},
   "outputs": [],
   "source": [
    "d_rlengths.rename(columns={'0': 'Length'}, inplace=True)"
   ]
  },
  {
   "cell_type": "code",
   "execution_count": 20,
   "id": "0e27f9c6",
   "metadata": {},
   "outputs": [],
   "source": [
    "l_rlengths.rename(columns={'0': 'Length'}, inplace=True)"
   ]
  },
  {
   "cell_type": "code",
   "execution_count": 21,
   "id": "958122fa",
   "metadata": {},
   "outputs": [
    {
     "data": {
      "text/html": [
       "<div>\n",
       "<style scoped>\n",
       "    .dataframe tbody tr th:only-of-type {\n",
       "        vertical-align: middle;\n",
       "    }\n",
       "\n",
       "    .dataframe tbody tr th {\n",
       "        vertical-align: top;\n",
       "    }\n",
       "\n",
       "    .dataframe thead th {\n",
       "        text-align: right;\n",
       "    }\n",
       "</style>\n",
       "<table border=\"1\" class=\"dataframe\">\n",
       "  <thead>\n",
       "    <tr style=\"text-align: right;\">\n",
       "      <th></th>\n",
       "      <th>City</th>\n",
       "      <th>Length_x</th>\n",
       "      <th>Length_y</th>\n",
       "    </tr>\n",
       "  </thead>\n",
       "  <tbody>\n",
       "    <tr>\n",
       "      <th>0</th>\n",
       "      <td>Delhi</td>\n",
       "      <td>12877.486982</td>\n",
       "      <td>NaN</td>\n",
       "    </tr>\n",
       "    <tr>\n",
       "      <th>1</th>\n",
       "      <td>Delhi</td>\n",
       "      <td>30744.084545</td>\n",
       "      <td>NaN</td>\n",
       "    </tr>\n",
       "    <tr>\n",
       "      <th>2</th>\n",
       "      <td>Delhi</td>\n",
       "      <td>8262.196860</td>\n",
       "      <td>NaN</td>\n",
       "    </tr>\n",
       "    <tr>\n",
       "      <th>3</th>\n",
       "      <td>Delhi</td>\n",
       "      <td>22570.834831</td>\n",
       "      <td>NaN</td>\n",
       "    </tr>\n",
       "    <tr>\n",
       "      <th>4</th>\n",
       "      <td>Delhi</td>\n",
       "      <td>18806.029158</td>\n",
       "      <td>NaN</td>\n",
       "    </tr>\n",
       "    <tr>\n",
       "      <th>...</th>\n",
       "      <td>...</td>\n",
       "      <td>...</td>\n",
       "      <td>...</td>\n",
       "    </tr>\n",
       "    <tr>\n",
       "      <th>2729</th>\n",
       "      <td>London</td>\n",
       "      <td>NaN</td>\n",
       "      <td>14821.371159</td>\n",
       "    </tr>\n",
       "    <tr>\n",
       "      <th>2730</th>\n",
       "      <td>London</td>\n",
       "      <td>NaN</td>\n",
       "      <td>30937.166032</td>\n",
       "    </tr>\n",
       "    <tr>\n",
       "      <th>2731</th>\n",
       "      <td>London</td>\n",
       "      <td>NaN</td>\n",
       "      <td>31094.572755</td>\n",
       "    </tr>\n",
       "    <tr>\n",
       "      <th>2732</th>\n",
       "      <td>London</td>\n",
       "      <td>NaN</td>\n",
       "      <td>17299.840987</td>\n",
       "    </tr>\n",
       "    <tr>\n",
       "      <th>2733</th>\n",
       "      <td>London</td>\n",
       "      <td>NaN</td>\n",
       "      <td>17573.124391</td>\n",
       "    </tr>\n",
       "  </tbody>\n",
       "</table>\n",
       "<p>2734 rows × 3 columns</p>\n",
       "</div>"
      ],
      "text/plain": [
       "        City      Length_x      Length_y\n",
       "0      Delhi  12877.486982           NaN\n",
       "1      Delhi  30744.084545           NaN\n",
       "2      Delhi   8262.196860           NaN\n",
       "3      Delhi  22570.834831           NaN\n",
       "4      Delhi  18806.029158           NaN\n",
       "...      ...           ...           ...\n",
       "2729  London           NaN  14821.371159\n",
       "2730  London           NaN  30937.166032\n",
       "2731  London           NaN  31094.572755\n",
       "2732  London           NaN  17299.840987\n",
       "2733  London           NaN  17573.124391\n",
       "\n",
       "[2734 rows x 3 columns]"
      ]
     },
     "execution_count": 21,
     "metadata": {},
     "output_type": "execute_result"
    }
   ],
   "source": [
    "lengths = pd.merge(d_rlengths[['City', 'Length']], l_rlengths[['City', 'Length']], on='City', how='outer')\n",
    "lengths"
   ]
  },
  {
   "cell_type": "code",
   "execution_count": 22,
   "id": "0e954bec",
   "metadata": {},
   "outputs": [
    {
     "data": {
      "text/plain": [
       "(2734, 3)"
      ]
     },
     "execution_count": 22,
     "metadata": {},
     "output_type": "execute_result"
    }
   ],
   "source": [
    "lengths.shape"
   ]
  },
  {
   "cell_type": "code",
   "execution_count": 23,
   "id": "7a259e0f",
   "metadata": {},
   "outputs": [
    {
     "data": {
      "text/plain": [
       "2734"
      ]
     },
     "execution_count": 23,
     "metadata": {},
     "output_type": "execute_result"
    }
   ],
   "source": [
    "d_rlengths.shape[0] + l_rlengths.shape[0]"
   ]
  },
  {
   "cell_type": "code",
   "execution_count": 24,
   "id": "2b28b243",
   "metadata": {},
   "outputs": [],
   "source": [
    "cols = ['Length_x', 'Length_y']\n",
    "lengths = lengths.assign(value=lengths[cols].sum(1)).drop(labels=cols, axis=1)"
   ]
  },
  {
   "cell_type": "code",
   "execution_count": 33,
   "id": "4d08b3c6",
   "metadata": {},
   "outputs": [],
   "source": [
    "lengths['value'] = lengths.value / 1000"
   ]
  },
  {
   "cell_type": "code",
   "execution_count": 34,
   "id": "0c2f1f46",
   "metadata": {},
   "outputs": [
    {
     "data": {
      "image/png": "[encoded data removed]",
      "text/plain": [
       "<Figure size 432x288 with 1 Axes>"
      ]
     },
     "metadata": {
      "needs_background": "light"
     },
     "output_type": "display_data"
    }
   ],
   "source": [
    "_, ax = plt.subplots()\n",
    "sns.histplot(data=lengths, ax=ax, x='value', hue='City')\n",
    "sns.despine()\n",
    "plt.xlabel('Route length (km)')\n",
    "plt.savefig('figures/rlengths.png')"
   ]
  }
 ],
 "metadata": {
  "kernelspec": {
   "display_name": "Python 3 (ipykernel)",
   "language": "python",
   "name": "python3"
  },
  "language_info": {
   "codemirror_mode": {
    "name": "ipython",
    "version": 3
   },
   "file_extension": ".py",
   "mimetype": "text/x-python",
   "name": "python",
   "nbconvert_exporter": "python",
   "pygments_lexer": "ipython3",
   "version": "3.9.1"
  }
 },
 "nbformat": 4,
 "nbformat_minor": 5
}
