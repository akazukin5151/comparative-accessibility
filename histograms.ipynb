{
 "cells": [
  {
   "cell_type": "code",
   "execution_count": 1,
   "id": "79e92300",
   "metadata": {},
   "outputs": [],
   "source": [
    "import pandas as pd\n",
    "import seaborn as sns\n",
    "import matplotlib.pyplot as plt"
   ]
  },
  {
   "cell_type": "markdown",
   "id": "f56aaf1e",
   "metadata": {},
   "source": [
    "# Avg Number of stops"
   ]
  },
  {
   "cell_type": "code",
   "execution_count": 2,
   "id": "f70458ea",
   "metadata": {},
   "outputs": [],
   "source": [
    "l_nstops = pd.read_csv('gen/l_nstops.csv')"
   ]
  },
  {
   "cell_type": "code",
   "execution_count": 3,
   "id": "29e57bc9",
   "metadata": {},
   "outputs": [],
   "source": [
    "l_nstops = l_nstops.set_index('Route')"
   ]
  },
  {
   "cell_type": "code",
   "execution_count": 4,
   "id": "593ebc24",
   "metadata": {},
   "outputs": [],
   "source": [
    "d_nstops = pd.read_csv('gen/d_nstops2.csv')"
   ]
  },
  {
   "cell_type": "code",
   "execution_count": 5,
   "id": "9c3db539",
   "metadata": {},
   "outputs": [],
   "source": [
    "d_nstops = d_nstops.set_index('route_id')"
   ]
  },
  {
   "cell_type": "code",
   "execution_count": 6,
   "id": "329b8025",
   "metadata": {},
   "outputs": [],
   "source": [
    "d_nstops['City'] = 'Delhi'"
   ]
  },
  {
   "cell_type": "code",
   "execution_count": 7,
   "id": "6b6365ff",
   "metadata": {},
   "outputs": [],
   "source": [
    "l_nstops['City'] = 'London'"
   ]
  },
  {
   "cell_type": "code",
   "execution_count": 8,
   "id": "4723ed3b",
   "metadata": {},
   "outputs": [],
   "source": [
    "d_nstops.rename(columns={'0': 'Stops'}, inplace=True)"
   ]
  },
  {
   "cell_type": "code",
   "execution_count": 9,
   "id": "cf4b1373",
   "metadata": {},
   "outputs": [],
   "source": [
    "l_nstops.rename(columns={'Stop_Code_LBSL': 'Stops'}, inplace=True)"
   ]
  },
  {
   "cell_type": "code",
   "execution_count": 10,
   "id": "acd0e90d",
   "metadata": {},
   "outputs": [
    {
     "data": {
      "text/html": [
       "<div>\n",
       "<style scoped>\n",
       "    .dataframe tbody tr th:only-of-type {\n",
       "        vertical-align: middle;\n",
       "    }\n",
       "\n",
       "    .dataframe tbody tr th {\n",
       "        vertical-align: top;\n",
       "    }\n",
       "\n",
       "    .dataframe thead th {\n",
       "        text-align: right;\n",
       "    }\n",
       "</style>\n",
       "<table border=\"1\" class=\"dataframe\">\n",
       "  <thead>\n",
       "    <tr style=\"text-align: right;\">\n",
       "      <th></th>\n",
       "      <th>Stops_x</th>\n",
       "      <th>City</th>\n",
       "      <th>Stops_y</th>\n",
       "    </tr>\n",
       "  </thead>\n",
       "  <tbody>\n",
       "    <tr>\n",
       "      <th>0</th>\n",
       "      <td>20.0</td>\n",
       "      <td>Delhi</td>\n",
       "      <td>NaN</td>\n",
       "    </tr>\n",
       "    <tr>\n",
       "      <th>1</th>\n",
       "      <td>46.0</td>\n",
       "      <td>Delhi</td>\n",
       "      <td>NaN</td>\n",
       "    </tr>\n",
       "    <tr>\n",
       "      <th>2</th>\n",
       "      <td>7.0</td>\n",
       "      <td>Delhi</td>\n",
       "      <td>NaN</td>\n",
       "    </tr>\n",
       "    <tr>\n",
       "      <th>3</th>\n",
       "      <td>28.0</td>\n",
       "      <td>Delhi</td>\n",
       "      <td>NaN</td>\n",
       "    </tr>\n",
       "    <tr>\n",
       "      <th>4</th>\n",
       "      <td>31.0</td>\n",
       "      <td>Delhi</td>\n",
       "      <td>NaN</td>\n",
       "    </tr>\n",
       "    <tr>\n",
       "      <th>...</th>\n",
       "      <td>...</td>\n",
       "      <td>...</td>\n",
       "      <td>...</td>\n",
       "    </tr>\n",
       "    <tr>\n",
       "      <th>1955</th>\n",
       "      <td>NaN</td>\n",
       "      <td>London</td>\n",
       "      <td>73.0</td>\n",
       "    </tr>\n",
       "    <tr>\n",
       "      <th>1956</th>\n",
       "      <td>NaN</td>\n",
       "      <td>London</td>\n",
       "      <td>37.0</td>\n",
       "    </tr>\n",
       "    <tr>\n",
       "      <th>1957</th>\n",
       "      <td>NaN</td>\n",
       "      <td>London</td>\n",
       "      <td>26.0</td>\n",
       "    </tr>\n",
       "    <tr>\n",
       "      <th>1958</th>\n",
       "      <td>NaN</td>\n",
       "      <td>London</td>\n",
       "      <td>28.0</td>\n",
       "    </tr>\n",
       "    <tr>\n",
       "      <th>1959</th>\n",
       "      <td>NaN</td>\n",
       "      <td>London</td>\n",
       "      <td>69.0</td>\n",
       "    </tr>\n",
       "  </tbody>\n",
       "</table>\n",
       "<p>1960 rows × 3 columns</p>\n",
       "</div>"
      ],
      "text/plain": [
       "      Stops_x    City  Stops_y\n",
       "0        20.0   Delhi      NaN\n",
       "1        46.0   Delhi      NaN\n",
       "2         7.0   Delhi      NaN\n",
       "3        28.0   Delhi      NaN\n",
       "4        31.0   Delhi      NaN\n",
       "...       ...     ...      ...\n",
       "1955      NaN  London     73.0\n",
       "1956      NaN  London     37.0\n",
       "1957      NaN  London     26.0\n",
       "1958      NaN  London     28.0\n",
       "1959      NaN  London     69.0\n",
       "\n",
       "[1960 rows x 3 columns]"
      ]
     },
     "execution_count": 10,
     "metadata": {},
     "output_type": "execute_result"
    }
   ],
   "source": [
    "nstops = pd.merge(d_nstops, l_nstops, on='City', how='outer')\n",
    "nstops"
   ]
  },
  {
   "cell_type": "code",
   "execution_count": 11,
   "id": "84577210",
   "metadata": {},
   "outputs": [
    {
     "data": {
      "text/plain": [
       "(1960, 3)"
      ]
     },
     "execution_count": 11,
     "metadata": {},
     "output_type": "execute_result"
    }
   ],
   "source": [
    "nstops.shape"
   ]
  },
  {
   "cell_type": "code",
   "execution_count": 12,
   "id": "edd8b788",
   "metadata": {},
   "outputs": [
    {
     "data": {
      "text/plain": [
       "1960"
      ]
     },
     "execution_count": 12,
     "metadata": {},
     "output_type": "execute_result"
    }
   ],
   "source": [
    "d_nstops.shape[0] + l_nstops.shape[0]"
   ]
  },
  {
   "cell_type": "code",
   "execution_count": 13,
   "id": "cb874a29",
   "metadata": {},
   "outputs": [],
   "source": [
    "cols = ['Stops_x', 'Stops_y']\n",
    "nstops = nstops.assign(value=nstops[cols].sum(1)).drop(labels=cols, axis=1)"
   ]
  },
  {
   "cell_type": "code",
   "execution_count": 14,
   "id": "1b26620d",
   "metadata": {},
   "outputs": [
    {
     "data": {
      "image/png": "[encoded data removed]",
      "text/plain": [
       "<Figure size 432x288 with 1 Axes>"
      ]
     },
     "metadata": {
      "needs_background": "light"
     },
     "output_type": "display_data"
    }
   ],
   "source": [
    "_, ax = plt.subplots()\n",
    "sns.histplot(data=nstops, ax=ax, x='value', hue='City')\n",
    "sns.despine()\n",
    "plt.xlabel('Number of stops')\n",
    "plt.savefig('figures/nstops.png')"
   ]
  },
  {
   "cell_type": "markdown",
   "id": "e10fa8c8",
   "metadata": {},
   "source": [
    "# Route lengths"
   ]
  },
  {
   "cell_type": "code",
   "execution_count": 15,
   "id": "d13af320",
   "metadata": {},
   "outputs": [],
   "source": [
    "l_rlengths = pd.read_csv('gen/l_rlengths.csv')"
   ]
  },
  {
   "cell_type": "code",
   "execution_count": 16,
   "id": "c0e1ae18",
   "metadata": {},
   "outputs": [],
   "source": [
    "d_rlengths = pd.read_csv('gen/d_rlengths2.csv')"
   ]
  },
  {
   "cell_type": "code",
   "execution_count": 17,
   "id": "6c7c3943",
   "metadata": {},
   "outputs": [],
   "source": [
    "d_rlengths['City'] = 'Delhi'"
   ]
  },
  {
   "cell_type": "code",
   "execution_count": 18,
   "id": "0d40360f",
   "metadata": {},
   "outputs": [],
   "source": [
    "l_rlengths['City'] = 'London'"
   ]
  },
  {
   "cell_type": "code",
   "execution_count": 19,
   "id": "b241382e",
   "metadata": {},
   "outputs": [],
   "source": [
    "d_rlengths.rename(columns={'0': 'Length'}, inplace=True)"
   ]
  },
  {
   "cell_type": "code",
   "execution_count": 20,
   "id": "ce197b8d",
   "metadata": {},
   "outputs": [],
   "source": [
    "l_rlengths.rename(columns={'0': 'Length'}, inplace=True)"
   ]
  },
  {
   "cell_type": "code",
   "execution_count": 21,
   "id": "047a5a1a",
   "metadata": {},
   "outputs": [
    {
     "data": {
      "text/html": [
       "<div>\n",
       "<style scoped>\n",
       "    .dataframe tbody tr th:only-of-type {\n",
       "        vertical-align: middle;\n",
       "    }\n",
       "\n",
       "    .dataframe tbody tr th {\n",
       "        vertical-align: top;\n",
       "    }\n",
       "\n",
       "    .dataframe thead th {\n",
       "        text-align: right;\n",
       "    }\n",
       "</style>\n",
       "<table border=\"1\" class=\"dataframe\">\n",
       "  <thead>\n",
       "    <tr style=\"text-align: right;\">\n",
       "      <th></th>\n",
       "      <th>City</th>\n",
       "      <th>Length_x</th>\n",
       "      <th>Length_y</th>\n",
       "    </tr>\n",
       "  </thead>\n",
       "  <tbody>\n",
       "    <tr>\n",
       "      <th>0</th>\n",
       "      <td>Delhi</td>\n",
       "      <td>12877.486982</td>\n",
       "      <td>NaN</td>\n",
       "    </tr>\n",
       "    <tr>\n",
       "      <th>1</th>\n",
       "      <td>Delhi</td>\n",
       "      <td>30744.084545</td>\n",
       "      <td>NaN</td>\n",
       "    </tr>\n",
       "    <tr>\n",
       "      <th>2</th>\n",
       "      <td>Delhi</td>\n",
       "      <td>8262.196860</td>\n",
       "      <td>NaN</td>\n",
       "    </tr>\n",
       "    <tr>\n",
       "      <th>3</th>\n",
       "      <td>Delhi</td>\n",
       "      <td>22570.834831</td>\n",
       "      <td>NaN</td>\n",
       "    </tr>\n",
       "    <tr>\n",
       "      <th>4</th>\n",
       "      <td>Delhi</td>\n",
       "      <td>18806.029158</td>\n",
       "      <td>NaN</td>\n",
       "    </tr>\n",
       "    <tr>\n",
       "      <th>...</th>\n",
       "      <td>...</td>\n",
       "      <td>...</td>\n",
       "      <td>...</td>\n",
       "    </tr>\n",
       "    <tr>\n",
       "      <th>2729</th>\n",
       "      <td>London</td>\n",
       "      <td>NaN</td>\n",
       "      <td>14821.371159</td>\n",
       "    </tr>\n",
       "    <tr>\n",
       "      <th>2730</th>\n",
       "      <td>London</td>\n",
       "      <td>NaN</td>\n",
       "      <td>30937.166032</td>\n",
       "    </tr>\n",
       "    <tr>\n",
       "      <th>2731</th>\n",
       "      <td>London</td>\n",
       "      <td>NaN</td>\n",
       "      <td>31094.572755</td>\n",
       "    </tr>\n",
       "    <tr>\n",
       "      <th>2732</th>\n",
       "      <td>London</td>\n",
       "      <td>NaN</td>\n",
       "      <td>17299.840987</td>\n",
       "    </tr>\n",
       "    <tr>\n",
       "      <th>2733</th>\n",
       "      <td>London</td>\n",
       "      <td>NaN</td>\n",
       "      <td>17573.124391</td>\n",
       "    </tr>\n",
       "  </tbody>\n",
       "</table>\n",
       "<p>2734 rows × 3 columns</p>\n",
       "</div>"
      ],
      "text/plain": [
       "        City      Length_x      Length_y\n",
       "0      Delhi  12877.486982           NaN\n",
       "1      Delhi  30744.084545           NaN\n",
       "2      Delhi   8262.196860           NaN\n",
       "3      Delhi  22570.834831           NaN\n",
       "4      Delhi  18806.029158           NaN\n",
       "...      ...           ...           ...\n",
       "2729  London           NaN  14821.371159\n",
       "2730  London           NaN  30937.166032\n",
       "2731  London           NaN  31094.572755\n",
       "2732  London           NaN  17299.840987\n",
       "2733  London           NaN  17573.124391\n",
       "\n",
       "[2734 rows x 3 columns]"
      ]
     },
     "execution_count": 21,
     "metadata": {},
     "output_type": "execute_result"
    }
   ],
   "source": [
    "lengths = pd.merge(d_rlengths[['City', 'Length']], l_rlengths[['City', 'Length']], on='City', how='outer')\n",
    "lengths"
   ]
  },
  {
   "cell_type": "code",
   "execution_count": 22,
   "id": "ad277737",
   "metadata": {},
   "outputs": [
    {
     "data": {
      "text/plain": [
       "(2734, 3)"
      ]
     },
     "execution_count": 22,
     "metadata": {},
     "output_type": "execute_result"
    }
   ],
   "source": [
    "lengths.shape"
   ]
  },
  {
   "cell_type": "code",
   "execution_count": 23,
   "id": "e6a9defe",
   "metadata": {},
   "outputs": [
    {
     "data": {
      "text/plain": [
       "2734"
      ]
     },
     "execution_count": 23,
     "metadata": {},
     "output_type": "execute_result"
    }
   ],
   "source": [
    "d_rlengths.shape[0] + l_rlengths.shape[0]"
   ]
  },
  {
   "cell_type": "code",
   "execution_count": 24,
   "id": "4965b9a5",
   "metadata": {},
   "outputs": [],
   "source": [
    "cols = ['Length_x', 'Length_y']\n",
    "lengths = lengths.assign(value=lengths[cols].sum(1)).drop(labels=cols, axis=1)"
   ]
  },
  {
   "cell_type": "code",
   "execution_count": 25,
   "id": "05fdf2a5",
   "metadata": {},
   "outputs": [],
   "source": [
    "lengths['value'] = lengths.value / 1000"
   ]
  },
  {
   "cell_type": "code",
   "execution_count": 26,
   "id": "1cf33b41",
   "metadata": {},
   "outputs": [
    {
     "data": {
      "image/png": "[encoded data removed]",
      "text/plain": [
       "<Figure size 432x288 with 1 Axes>"
      ]
     },
     "metadata": {
      "needs_background": "light"
     },
     "output_type": "display_data"
    }
   ],
   "source": [
    "_, ax = plt.subplots()\n",
    "sns.histplot(data=lengths, ax=ax, x='value', hue='City')\n",
    "sns.despine()\n",
    "plt.xlabel('Route length (km)')\n",
    "plt.savefig('figures/rlengths.png')"
   ]
  },
  {
   "cell_type": "markdown",
   "id": "22a605aa",
   "metadata": {},
   "source": [
    "# Centrality"
   ]
  },
  {
   "cell_type": "code",
   "execution_count": 2,
   "id": "db822ccc",
   "metadata": {},
   "outputs": [],
   "source": [
    "l_c = pd.read_csv('gen/london_c.csv')"
   ]
  },
  {
   "cell_type": "code",
   "execution_count": 3,
   "id": "0bb7f006",
   "metadata": {},
   "outputs": [],
   "source": [
    "d_c = pd.read_csv('gen/delhi_c.csv')"
   ]
  },
  {
   "cell_type": "code",
   "execution_count": 4,
   "id": "4f34c4a7",
   "metadata": {},
   "outputs": [],
   "source": [
    "d_c['City'] = 'Delhi'"
   ]
  },
  {
   "cell_type": "code",
   "execution_count": 5,
   "id": "b6214b3d",
   "metadata": {},
   "outputs": [],
   "source": [
    "l_c['City'] = 'London'"
   ]
  },
  {
   "cell_type": "code",
   "execution_count": 6,
   "id": "bbb8119d",
   "metadata": {},
   "outputs": [
    {
     "data": {
      "text/html": [
       "<div>\n",
       "<style scoped>\n",
       "    .dataframe tbody tr th:only-of-type {\n",
       "        vertical-align: middle;\n",
       "    }\n",
       "\n",
       "    .dataframe tbody tr th {\n",
       "        vertical-align: top;\n",
       "    }\n",
       "\n",
       "    .dataframe thead th {\n",
       "        text-align: right;\n",
       "    }\n",
       "</style>\n",
       "<table border=\"1\" class=\"dataframe\">\n",
       "  <thead>\n",
       "    <tr style=\"text-align: right;\">\n",
       "      <th></th>\n",
       "      <th>City</th>\n",
       "      <th>closeness_global_x</th>\n",
       "      <th>closeness_global_y</th>\n",
       "    </tr>\n",
       "  </thead>\n",
       "  <tbody>\n",
       "    <tr>\n",
       "      <th>0</th>\n",
       "      <td>Delhi</td>\n",
       "      <td>0.000027</td>\n",
       "      <td>NaN</td>\n",
       "    </tr>\n",
       "    <tr>\n",
       "      <th>1</th>\n",
       "      <td>Delhi</td>\n",
       "      <td>0.000028</td>\n",
       "      <td>NaN</td>\n",
       "    </tr>\n",
       "    <tr>\n",
       "      <th>2</th>\n",
       "      <td>Delhi</td>\n",
       "      <td>0.000026</td>\n",
       "      <td>NaN</td>\n",
       "    </tr>\n",
       "    <tr>\n",
       "      <th>3</th>\n",
       "      <td>Delhi</td>\n",
       "      <td>0.000026</td>\n",
       "      <td>NaN</td>\n",
       "    </tr>\n",
       "    <tr>\n",
       "      <th>4</th>\n",
       "      <td>Delhi</td>\n",
       "      <td>0.000025</td>\n",
       "      <td>NaN</td>\n",
       "    </tr>\n",
       "    <tr>\n",
       "      <th>...</th>\n",
       "      <td>...</td>\n",
       "      <td>...</td>\n",
       "      <td>...</td>\n",
       "    </tr>\n",
       "    <tr>\n",
       "      <th>31470</th>\n",
       "      <td>London</td>\n",
       "      <td>NaN</td>\n",
       "      <td>3.951317e-06</td>\n",
       "    </tr>\n",
       "    <tr>\n",
       "      <th>31471</th>\n",
       "      <td>London</td>\n",
       "      <td>NaN</td>\n",
       "      <td>4.187270e-06</td>\n",
       "    </tr>\n",
       "    <tr>\n",
       "      <th>31472</th>\n",
       "      <td>London</td>\n",
       "      <td>NaN</td>\n",
       "      <td>1.062751e-07</td>\n",
       "    </tr>\n",
       "    <tr>\n",
       "      <th>31473</th>\n",
       "      <td>London</td>\n",
       "      <td>NaN</td>\n",
       "      <td>1.049299e-06</td>\n",
       "    </tr>\n",
       "    <tr>\n",
       "      <th>31474</th>\n",
       "      <td>London</td>\n",
       "      <td>NaN</td>\n",
       "      <td>6.416817e-07</td>\n",
       "    </tr>\n",
       "  </tbody>\n",
       "</table>\n",
       "<p>31475 rows × 3 columns</p>\n",
       "</div>"
      ],
      "text/plain": [
       "         City  closeness_global_x  closeness_global_y\n",
       "0       Delhi            0.000027                 NaN\n",
       "1       Delhi            0.000028                 NaN\n",
       "2       Delhi            0.000026                 NaN\n",
       "3       Delhi            0.000026                 NaN\n",
       "4       Delhi            0.000025                 NaN\n",
       "...       ...                 ...                 ...\n",
       "31470  London                 NaN        3.951317e-06\n",
       "31471  London                 NaN        4.187270e-06\n",
       "31472  London                 NaN        1.062751e-07\n",
       "31473  London                 NaN        1.049299e-06\n",
       "31474  London                 NaN        6.416817e-07\n",
       "\n",
       "[31475 rows x 3 columns]"
      ]
     },
     "execution_count": 6,
     "metadata": {},
     "output_type": "execute_result"
    }
   ],
   "source": [
    "cc = pd.merge(d_c[['City', 'closeness_global']], l_c[['City', 'closeness_global']], on='City', how='outer')\n",
    "cc"
   ]
  },
  {
   "cell_type": "code",
   "execution_count": 7,
   "id": "b8e2928b",
   "metadata": {},
   "outputs": [
    {
     "data": {
      "text/plain": [
       "(31475, 3)"
      ]
     },
     "execution_count": 7,
     "metadata": {},
     "output_type": "execute_result"
    }
   ],
   "source": [
    "cc.shape"
   ]
  },
  {
   "cell_type": "code",
   "execution_count": 8,
   "id": "aa435c2e",
   "metadata": {},
   "outputs": [
    {
     "data": {
      "text/plain": [
       "5802"
      ]
     },
     "execution_count": 8,
     "metadata": {},
     "output_type": "execute_result"
    }
   ],
   "source": [
    "d_c.shape[0]"
   ]
  },
  {
   "cell_type": "code",
   "execution_count": 9,
   "id": "9bcd4124",
   "metadata": {},
   "outputs": [
    {
     "data": {
      "text/plain": [
       "25673"
      ]
     },
     "execution_count": 9,
     "metadata": {},
     "output_type": "execute_result"
    }
   ],
   "source": [
    "l_c.shape[0]"
   ]
  },
  {
   "cell_type": "code",
   "execution_count": 10,
   "id": "85d7530b",
   "metadata": {},
   "outputs": [
    {
     "data": {
      "text/plain": [
       "31475"
      ]
     },
     "execution_count": 10,
     "metadata": {},
     "output_type": "execute_result"
    }
   ],
   "source": [
    "d_c.shape[0] + l_c.shape[0]"
   ]
  },
  {
   "cell_type": "code",
   "execution_count": 11,
   "id": "cfdd98cb",
   "metadata": {},
   "outputs": [],
   "source": [
    "cols = ['closeness_global_x', 'closeness_global_y']\n",
    "cc = cc.assign(value=cc[cols].sum(1)).drop(labels=cols, axis=1)"
   ]
  },
  {
   "cell_type": "code",
   "execution_count": 12,
   "id": "e7ab5e3a",
   "metadata": {},
   "outputs": [],
   "source": [
    "cc['value'] = cc.value / 1000"
   ]
  },
  {
   "cell_type": "code",
   "execution_count": 13,
   "id": "7ef59b4e",
   "metadata": {},
   "outputs": [
    {
     "data": {
      "image/png": "[encoded data removed]",
      "text/plain": [
       "<Figure size 432x288 with 1 Axes>"
      ]
     },
     "metadata": {
      "needs_background": "light"
     },
     "output_type": "display_data"
    }
   ],
   "source": [
    "_, ax = plt.subplots()\n",
    "sns.histplot(data=cc, ax=ax, x='value', hue='City')\n",
    "sns.despine()\n",
    "plt.xlabel('Closeness centrality')\n",
    "plt.savefig('figures/cc.png')"
   ]
  }
 ],
 "metadata": {
  "kernelspec": {
   "display_name": "Python 3 (ipykernel)",
   "language": "python",
   "name": "python3"
  },
  "language_info": {
   "codemirror_mode": {
    "name": "ipython",
    "version": 3
   },
   "file_extension": ".py",
   "mimetype": "text/x-python",
   "name": "python",
   "nbconvert_exporter": "python",
   "pygments_lexer": "ipython3",
   "version": "3.9.1"
  }
 },
 "nbformat": 4,
 "nbformat_minor": 5
}
