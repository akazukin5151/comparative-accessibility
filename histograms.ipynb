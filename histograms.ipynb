{
 "cells": [
  {
   "cell_type": "code",
   "execution_count": 1,
   "id": "3803bde3",
   "metadata": {},
   "outputs": [],
   "source": [
    "import pandas as pd\n",
    "import seaborn as sns\n",
    "import matplotlib.pyplot as plt"
   ]
  },
  {
   "cell_type": "markdown",
   "id": "c214f312",
   "metadata": {},
   "source": [
    "# Avg Number of stops"
   ]
  },
  {
   "cell_type": "code",
   "execution_count": 2,
   "id": "21b6792c",
   "metadata": {},
   "outputs": [],
   "source": [
    "l_nstops = pd.read_csv('gen/l_nstops.csv')"
   ]
  },
  {
   "cell_type": "code",
   "execution_count": 3,
   "id": "70d57a14",
   "metadata": {},
   "outputs": [],
   "source": [
    "l_nstops = l_nstops.set_index('Route')"
   ]
  },
  {
   "cell_type": "code",
   "execution_count": 4,
   "id": "4b150adb",
   "metadata": {},
   "outputs": [],
   "source": [
    "d_nstops = pd.read_csv('gen/d_nstops2.csv')"
   ]
  },
  {
   "cell_type": "code",
   "execution_count": 5,
   "id": "51d4c25b",
   "metadata": {},
   "outputs": [],
   "source": [
    "d_nstops = d_nstops.set_index('route_id')"
   ]
  },
  {
   "cell_type": "code",
   "execution_count": 6,
   "id": "59babc91",
   "metadata": {},
   "outputs": [],
   "source": [
    "d_nstops['City'] = 'Delhi'"
   ]
  },
  {
   "cell_type": "code",
   "execution_count": 7,
   "id": "fc757379",
   "metadata": {},
   "outputs": [],
   "source": [
    "l_nstops['City'] = 'London'"
   ]
  },
  {
   "cell_type": "code",
   "execution_count": 8,
   "id": "160e1d56",
   "metadata": {},
   "outputs": [],
   "source": [
    "d_nstops.rename(columns={'0': 'Stops'}, inplace=True)"
   ]
  },
  {
   "cell_type": "code",
   "execution_count": 9,
   "id": "0a202842",
   "metadata": {},
   "outputs": [],
   "source": [
    "l_nstops.rename(columns={'Stop_Code_LBSL': 'Stops'}, inplace=True)"
   ]
  },
  {
   "cell_type": "code",
   "execution_count": 10,
   "id": "bd224eb3",
   "metadata": {},
   "outputs": [
    {
     "data": {
      "text/html": [
       "<div>\n",
       "<style scoped>\n",
       "    .dataframe tbody tr th:only-of-type {\n",
       "        vertical-align: middle;\n",
       "    }\n",
       "\n",
       "    .dataframe tbody tr th {\n",
       "        vertical-align: top;\n",
       "    }\n",
       "\n",
       "    .dataframe thead th {\n",
       "        text-align: right;\n",
       "    }\n",
       "</style>\n",
       "<table border=\"1\" class=\"dataframe\">\n",
       "  <thead>\n",
       "    <tr style=\"text-align: right;\">\n",
       "      <th></th>\n",
       "      <th>Stops_x</th>\n",
       "      <th>City</th>\n",
       "      <th>Stops_y</th>\n",
       "    </tr>\n",
       "  </thead>\n",
       "  <tbody>\n",
       "    <tr>\n",
       "      <th>0</th>\n",
       "      <td>20.0</td>\n",
       "      <td>Delhi</td>\n",
       "      <td>NaN</td>\n",
       "    </tr>\n",
       "    <tr>\n",
       "      <th>1</th>\n",
       "      <td>46.0</td>\n",
       "      <td>Delhi</td>\n",
       "      <td>NaN</td>\n",
       "    </tr>\n",
       "    <tr>\n",
       "      <th>2</th>\n",
       "      <td>7.0</td>\n",
       "      <td>Delhi</td>\n",
       "      <td>NaN</td>\n",
       "    </tr>\n",
       "    <tr>\n",
       "      <th>3</th>\n",
       "      <td>28.0</td>\n",
       "      <td>Delhi</td>\n",
       "      <td>NaN</td>\n",
       "    </tr>\n",
       "    <tr>\n",
       "      <th>4</th>\n",
       "      <td>31.0</td>\n",
       "      <td>Delhi</td>\n",
       "      <td>NaN</td>\n",
       "    </tr>\n",
       "    <tr>\n",
       "      <th>...</th>\n",
       "      <td>...</td>\n",
       "      <td>...</td>\n",
       "      <td>...</td>\n",
       "    </tr>\n",
       "    <tr>\n",
       "      <th>1955</th>\n",
       "      <td>NaN</td>\n",
       "      <td>London</td>\n",
       "      <td>73.0</td>\n",
       "    </tr>\n",
       "    <tr>\n",
       "      <th>1956</th>\n",
       "      <td>NaN</td>\n",
       "      <td>London</td>\n",
       "      <td>37.0</td>\n",
       "    </tr>\n",
       "    <tr>\n",
       "      <th>1957</th>\n",
       "      <td>NaN</td>\n",
       "      <td>London</td>\n",
       "      <td>26.0</td>\n",
       "    </tr>\n",
       "    <tr>\n",
       "      <th>1958</th>\n",
       "      <td>NaN</td>\n",
       "      <td>London</td>\n",
       "      <td>28.0</td>\n",
       "    </tr>\n",
       "    <tr>\n",
       "      <th>1959</th>\n",
       "      <td>NaN</td>\n",
       "      <td>London</td>\n",
       "      <td>69.0</td>\n",
       "    </tr>\n",
       "  </tbody>\n",
       "</table>\n",
       "<p>1960 rows × 3 columns</p>\n",
       "</div>"
      ],
      "text/plain": [
       "      Stops_x    City  Stops_y\n",
       "0        20.0   Delhi      NaN\n",
       "1        46.0   Delhi      NaN\n",
       "2         7.0   Delhi      NaN\n",
       "3        28.0   Delhi      NaN\n",
       "4        31.0   Delhi      NaN\n",
       "...       ...     ...      ...\n",
       "1955      NaN  London     73.0\n",
       "1956      NaN  London     37.0\n",
       "1957      NaN  London     26.0\n",
       "1958      NaN  London     28.0\n",
       "1959      NaN  London     69.0\n",
       "\n",
       "[1960 rows x 3 columns]"
      ]
     },
     "execution_count": 10,
     "metadata": {},
     "output_type": "execute_result"
    }
   ],
   "source": [
    "nstops = pd.merge(d_nstops, l_nstops, on='City', how='outer')\n",
    "nstops"
   ]
  },
  {
   "cell_type": "code",
   "execution_count": 11,
   "id": "d71c844c",
   "metadata": {},
   "outputs": [
    {
     "data": {
      "text/plain": [
       "(1960, 3)"
      ]
     },
     "execution_count": 11,
     "metadata": {},
     "output_type": "execute_result"
    }
   ],
   "source": [
    "nstops.shape"
   ]
  },
  {
   "cell_type": "code",
   "execution_count": 12,
   "id": "262443cf",
   "metadata": {},
   "outputs": [
    {
     "data": {
      "text/plain": [
       "1960"
      ]
     },
     "execution_count": 12,
     "metadata": {},
     "output_type": "execute_result"
    }
   ],
   "source": [
    "d_nstops.shape[0] + l_nstops.shape[0]"
   ]
  },
  {
   "cell_type": "code",
   "execution_count": 13,
   "id": "7597b56e",
   "metadata": {},
   "outputs": [],
   "source": [
    "cols = ['Stops_x', 'Stops_y']\n",
    "nstops = nstops.assign(value=nstops[cols].sum(1)).drop(labels=cols, axis=1)"
   ]
  },
  {
   "cell_type": "code",
   "execution_count": 14,
   "id": "58344c40",
   "metadata": {},
   "outputs": [
    {
     "data": {
      "image/png": "[encoded data removed]",
      "text/plain": [
       "<Figure size 432x288 with 1 Axes>"
      ]
     },
     "metadata": {
      "needs_background": "light"
     },
     "output_type": "display_data"
    }
   ],
   "source": [
    "_, ax = plt.subplots()\n",
    "sns.histplot(data=nstops, ax=ax, x='value', hue='City')\n",
    "sns.despine()\n",
    "plt.xlabel('Number of stops')\n",
    "plt.savefig('figures/nstops.png')"
   ]
  },
  {
   "cell_type": "markdown",
   "id": "a99d37a0",
   "metadata": {},
   "source": [
    "# Route lengths"
   ]
  },
  {
   "cell_type": "code",
   "execution_count": 15,
   "id": "c5e8c586",
   "metadata": {},
   "outputs": [],
   "source": [
    "l_rlengths = pd.read_csv('gen/l_rlengths.csv')"
   ]
  },
  {
   "cell_type": "code",
   "execution_count": 16,
   "id": "909b2b40",
   "metadata": {},
   "outputs": [],
   "source": [
    "d_rlengths = pd.read_csv('gen/d_rlengths2.csv')"
   ]
  },
  {
   "cell_type": "code",
   "execution_count": 17,
   "id": "3d670159",
   "metadata": {},
   "outputs": [],
   "source": [
    "d_rlengths['City'] = 'Delhi'"
   ]
  },
  {
   "cell_type": "code",
   "execution_count": 18,
   "id": "bbf07b68",
   "metadata": {},
   "outputs": [],
   "source": [
    "l_rlengths['City'] = 'London'"
   ]
  },
  {
   "cell_type": "code",
   "execution_count": 19,
   "id": "a8b13786",
   "metadata": {},
   "outputs": [],
   "source": [
    "d_rlengths.rename(columns={'0': 'Length'}, inplace=True)"
   ]
  },
  {
   "cell_type": "code",
   "execution_count": 20,
   "id": "ae2f8063",
   "metadata": {},
   "outputs": [],
   "source": [
    "l_rlengths.rename(columns={'0': 'Length'}, inplace=True)"
   ]
  },
  {
   "cell_type": "code",
   "execution_count": 21,
   "id": "74f77882",
   "metadata": {},
   "outputs": [
    {
     "data": {
      "text/html": [
       "<div>\n",
       "<style scoped>\n",
       "    .dataframe tbody tr th:only-of-type {\n",
       "        vertical-align: middle;\n",
       "    }\n",
       "\n",
       "    .dataframe tbody tr th {\n",
       "        vertical-align: top;\n",
       "    }\n",
       "\n",
       "    .dataframe thead th {\n",
       "        text-align: right;\n",
       "    }\n",
       "</style>\n",
       "<table border=\"1\" class=\"dataframe\">\n",
       "  <thead>\n",
       "    <tr style=\"text-align: right;\">\n",
       "      <th></th>\n",
       "      <th>City</th>\n",
       "      <th>Length_x</th>\n",
       "      <th>Length_y</th>\n",
       "    </tr>\n",
       "  </thead>\n",
       "  <tbody>\n",
       "    <tr>\n",
       "      <th>0</th>\n",
       "      <td>Delhi</td>\n",
       "      <td>12877.486982</td>\n",
       "      <td>NaN</td>\n",
       "    </tr>\n",
       "    <tr>\n",
       "      <th>1</th>\n",
       "      <td>Delhi</td>\n",
       "      <td>30744.084545</td>\n",
       "      <td>NaN</td>\n",
       "    </tr>\n",
       "    <tr>\n",
       "      <th>2</th>\n",
       "      <td>Delhi</td>\n",
       "      <td>8262.196860</td>\n",
       "      <td>NaN</td>\n",
       "    </tr>\n",
       "    <tr>\n",
       "      <th>3</th>\n",
       "      <td>Delhi</td>\n",
       "      <td>22570.834831</td>\n",
       "      <td>NaN</td>\n",
       "    </tr>\n",
       "    <tr>\n",
       "      <th>4</th>\n",
       "      <td>Delhi</td>\n",
       "      <td>18806.029158</td>\n",
       "      <td>NaN</td>\n",
       "    </tr>\n",
       "    <tr>\n",
       "      <th>...</th>\n",
       "      <td>...</td>\n",
       "      <td>...</td>\n",
       "      <td>...</td>\n",
       "    </tr>\n",
       "    <tr>\n",
       "      <th>2729</th>\n",
       "      <td>London</td>\n",
       "      <td>NaN</td>\n",
       "      <td>14821.371159</td>\n",
       "    </tr>\n",
       "    <tr>\n",
       "      <th>2730</th>\n",
       "      <td>London</td>\n",
       "      <td>NaN</td>\n",
       "      <td>30937.166032</td>\n",
       "    </tr>\n",
       "    <tr>\n",
       "      <th>2731</th>\n",
       "      <td>London</td>\n",
       "      <td>NaN</td>\n",
       "      <td>31094.572755</td>\n",
       "    </tr>\n",
       "    <tr>\n",
       "      <th>2732</th>\n",
       "      <td>London</td>\n",
       "      <td>NaN</td>\n",
       "      <td>17299.840987</td>\n",
       "    </tr>\n",
       "    <tr>\n",
       "      <th>2733</th>\n",
       "      <td>London</td>\n",
       "      <td>NaN</td>\n",
       "      <td>17573.124391</td>\n",
       "    </tr>\n",
       "  </tbody>\n",
       "</table>\n",
       "<p>2734 rows × 3 columns</p>\n",
       "</div>"
      ],
      "text/plain": [
       "        City      Length_x      Length_y\n",
       "0      Delhi  12877.486982           NaN\n",
       "1      Delhi  30744.084545           NaN\n",
       "2      Delhi   8262.196860           NaN\n",
       "3      Delhi  22570.834831           NaN\n",
       "4      Delhi  18806.029158           NaN\n",
       "...      ...           ...           ...\n",
       "2729  London           NaN  14821.371159\n",
       "2730  London           NaN  30937.166032\n",
       "2731  London           NaN  31094.572755\n",
       "2732  London           NaN  17299.840987\n",
       "2733  London           NaN  17573.124391\n",
       "\n",
       "[2734 rows x 3 columns]"
      ]
     },
     "execution_count": 21,
     "metadata": {},
     "output_type": "execute_result"
    }
   ],
   "source": [
    "lengths = pd.merge(d_rlengths[['City', 'Length']], l_rlengths[['City', 'Length']], on='City', how='outer')\n",
    "lengths"
   ]
  },
  {
   "cell_type": "code",
   "execution_count": 22,
   "id": "498afd7d",
   "metadata": {},
   "outputs": [
    {
     "data": {
      "text/plain": [
       "(2734, 3)"
      ]
     },
     "execution_count": 22,
     "metadata": {},
     "output_type": "execute_result"
    }
   ],
   "source": [
    "lengths.shape"
   ]
  },
  {
   "cell_type": "code",
   "execution_count": 23,
   "id": "08b7cf28",
   "metadata": {},
   "outputs": [
    {
     "data": {
      "text/plain": [
       "2734"
      ]
     },
     "execution_count": 23,
     "metadata": {},
     "output_type": "execute_result"
    }
   ],
   "source": [
    "d_rlengths.shape[0] + l_rlengths.shape[0]"
   ]
  },
  {
   "cell_type": "code",
   "execution_count": 24,
   "id": "20d32a14",
   "metadata": {},
   "outputs": [],
   "source": [
    "cols = ['Length_x', 'Length_y']\n",
    "lengths = lengths.assign(value=lengths[cols].sum(1)).drop(labels=cols, axis=1)"
   ]
  },
  {
   "cell_type": "code",
   "execution_count": 25,
   "id": "e8e4ce0a",
   "metadata": {},
   "outputs": [],
   "source": [
    "lengths['value'] = lengths.value / 1000"
   ]
  },
  {
   "cell_type": "code",
   "execution_count": 26,
   "id": "b6eadea2",
   "metadata": {},
   "outputs": [
    {
     "data": {
      "image/png": "[encoded data removed]",
      "text/plain": [
       "<Figure size 432x288 with 1 Axes>"
      ]
     },
     "metadata": {
      "needs_background": "light"
     },
     "output_type": "display_data"
    }
   ],
   "source": [
    "_, ax = plt.subplots()\n",
    "sns.histplot(data=lengths, ax=ax, x='value', hue='City')\n",
    "sns.despine()\n",
    "plt.xlabel('Route length (km)')\n",
    "plt.savefig('figures/rlengths.png')"
   ]
  },
  {
   "cell_type": "markdown",
   "id": "55784d8f",
   "metadata": {},
   "source": [
    "# Centrality"
   ]
  },
  {
   "cell_type": "code",
   "execution_count": 27,
   "id": "e6e1eec1",
   "metadata": {},
   "outputs": [],
   "source": [
    "l_c = pd.read_csv('gen/london_c.csv')"
   ]
  },
  {
   "cell_type": "code",
   "execution_count": 28,
   "id": "52a65853",
   "metadata": {},
   "outputs": [],
   "source": [
    "d_c = pd.read_csv('gen/delhi_c.csv')"
   ]
  },
  {
   "cell_type": "code",
   "execution_count": 29,
   "id": "25a2f666",
   "metadata": {},
   "outputs": [],
   "source": [
    "d_c['City'] = 'Delhi'"
   ]
  },
  {
   "cell_type": "code",
   "execution_count": 30,
   "id": "eb0d49f3",
   "metadata": {},
   "outputs": [],
   "source": [
    "l_c['City'] = 'London'"
   ]
  },
  {
   "cell_type": "code",
   "execution_count": 31,
   "id": "245798a5",
   "metadata": {},
   "outputs": [
    {
     "data": {
      "text/html": [
       "<div>\n",
       "<style scoped>\n",
       "    .dataframe tbody tr th:only-of-type {\n",
       "        vertical-align: middle;\n",
       "    }\n",
       "\n",
       "    .dataframe tbody tr th {\n",
       "        vertical-align: top;\n",
       "    }\n",
       "\n",
       "    .dataframe thead th {\n",
       "        text-align: right;\n",
       "    }\n",
       "</style>\n",
       "<table border=\"1\" class=\"dataframe\">\n",
       "  <thead>\n",
       "    <tr style=\"text-align: right;\">\n",
       "      <th></th>\n",
       "      <th>City</th>\n",
       "      <th>closeness_global_x</th>\n",
       "      <th>closeness_global_y</th>\n",
       "    </tr>\n",
       "  </thead>\n",
       "  <tbody>\n",
       "    <tr>\n",
       "      <th>0</th>\n",
       "      <td>Delhi</td>\n",
       "      <td>0.000029</td>\n",
       "      <td>NaN</td>\n",
       "    </tr>\n",
       "    <tr>\n",
       "      <th>1</th>\n",
       "      <td>Delhi</td>\n",
       "      <td>0.000029</td>\n",
       "      <td>NaN</td>\n",
       "    </tr>\n",
       "    <tr>\n",
       "      <th>2</th>\n",
       "      <td>Delhi</td>\n",
       "      <td>0.000028</td>\n",
       "      <td>NaN</td>\n",
       "    </tr>\n",
       "    <tr>\n",
       "      <th>3</th>\n",
       "      <td>Delhi</td>\n",
       "      <td>0.000028</td>\n",
       "      <td>NaN</td>\n",
       "    </tr>\n",
       "    <tr>\n",
       "      <th>4</th>\n",
       "      <td>Delhi</td>\n",
       "      <td>0.000030</td>\n",
       "      <td>NaN</td>\n",
       "    </tr>\n",
       "    <tr>\n",
       "      <th>...</th>\n",
       "      <td>...</td>\n",
       "      <td>...</td>\n",
       "      <td>...</td>\n",
       "    </tr>\n",
       "    <tr>\n",
       "      <th>29100</th>\n",
       "      <td>London</td>\n",
       "      <td>NaN</td>\n",
       "      <td>3.951317e-06</td>\n",
       "    </tr>\n",
       "    <tr>\n",
       "      <th>29101</th>\n",
       "      <td>London</td>\n",
       "      <td>NaN</td>\n",
       "      <td>4.187270e-06</td>\n",
       "    </tr>\n",
       "    <tr>\n",
       "      <th>29102</th>\n",
       "      <td>London</td>\n",
       "      <td>NaN</td>\n",
       "      <td>1.062751e-07</td>\n",
       "    </tr>\n",
       "    <tr>\n",
       "      <th>29103</th>\n",
       "      <td>London</td>\n",
       "      <td>NaN</td>\n",
       "      <td>1.049299e-06</td>\n",
       "    </tr>\n",
       "    <tr>\n",
       "      <th>29104</th>\n",
       "      <td>London</td>\n",
       "      <td>NaN</td>\n",
       "      <td>6.416817e-07</td>\n",
       "    </tr>\n",
       "  </tbody>\n",
       "</table>\n",
       "<p>29105 rows × 3 columns</p>\n",
       "</div>"
      ],
      "text/plain": [
       "         City  closeness_global_x  closeness_global_y\n",
       "0       Delhi            0.000029                 NaN\n",
       "1       Delhi            0.000029                 NaN\n",
       "2       Delhi            0.000028                 NaN\n",
       "3       Delhi            0.000028                 NaN\n",
       "4       Delhi            0.000030                 NaN\n",
       "...       ...                 ...                 ...\n",
       "29100  London                 NaN        3.951317e-06\n",
       "29101  London                 NaN        4.187270e-06\n",
       "29102  London                 NaN        1.062751e-07\n",
       "29103  London                 NaN        1.049299e-06\n",
       "29104  London                 NaN        6.416817e-07\n",
       "\n",
       "[29105 rows x 3 columns]"
      ]
     },
     "execution_count": 31,
     "metadata": {},
     "output_type": "execute_result"
    }
   ],
   "source": [
    "cc = pd.merge(d_c[['City', 'closeness_global']], l_c[['City', 'closeness_global']], on='City', how='outer')\n",
    "cc"
   ]
  },
  {
   "cell_type": "code",
   "execution_count": 32,
   "id": "43f14f0d",
   "metadata": {},
   "outputs": [
    {
     "data": {
      "text/plain": [
       "(29105, 3)"
      ]
     },
     "execution_count": 32,
     "metadata": {},
     "output_type": "execute_result"
    }
   ],
   "source": [
    "cc.shape"
   ]
  },
  {
   "cell_type": "code",
   "execution_count": 37,
   "id": "8974d48d",
   "metadata": {},
   "outputs": [
    {
     "data": {
      "text/plain": [
       "3432"
      ]
     },
     "execution_count": 37,
     "metadata": {},
     "output_type": "execute_result"
    }
   ],
   "source": [
    "d_c.shape[0]"
   ]
  },
  {
   "cell_type": "code",
   "execution_count": 38,
   "id": "5d0dbb78",
   "metadata": {},
   "outputs": [
    {
     "data": {
      "text/plain": [
       "25673"
      ]
     },
     "execution_count": 38,
     "metadata": {},
     "output_type": "execute_result"
    }
   ],
   "source": [
    "l_c.shape[0]"
   ]
  },
  {
   "cell_type": "code",
   "execution_count": 33,
   "id": "a0343db9",
   "metadata": {},
   "outputs": [
    {
     "data": {
      "text/plain": [
       "29105"
      ]
     },
     "execution_count": 33,
     "metadata": {},
     "output_type": "execute_result"
    }
   ],
   "source": [
    "d_c.shape[0] + l_c.shape[0]"
   ]
  },
  {
   "cell_type": "code",
   "execution_count": 34,
   "id": "28897699",
   "metadata": {},
   "outputs": [],
   "source": [
    "cols = ['closeness_global_x', 'closeness_global_y']\n",
    "cc = cc.assign(value=cc[cols].sum(1)).drop(labels=cols, axis=1)"
   ]
  },
  {
   "cell_type": "code",
   "execution_count": 35,
   "id": "8f7a8621",
   "metadata": {},
   "outputs": [],
   "source": [
    "cc['value'] = cc.value / 1000"
   ]
  },
  {
   "cell_type": "code",
   "execution_count": 39,
   "id": "d8ae94e1",
   "metadata": {},
   "outputs": [
    {
     "data": {
      "image/png": "[encoded data removed]",
      "text/plain": [
       "<Figure size 432x288 with 1 Axes>"
      ]
     },
     "metadata": {
      "needs_background": "light"
     },
     "output_type": "display_data"
    }
   ],
   "source": [
    "_, ax = plt.subplots()\n",
    "sns.histplot(data=cc, ax=ax, x='value', hue='City')\n",
    "sns.despine()\n",
    "plt.xlabel('Closeness centrality')\n",
    "plt.savefig('figures/cc.png')"
   ]
  }
 ],
 "metadata": {
  "kernelspec": {
   "display_name": "Python 3 (ipykernel)",
   "language": "python",
   "name": "python3"
  },
  "language_info": {
   "codemirror_mode": {
    "name": "ipython",
    "version": 3
   },
   "file_extension": ".py",
   "mimetype": "text/x-python",
   "name": "python",
   "nbconvert_exporter": "python",
   "pygments_lexer": "ipython3",
   "version": "3.9.1"
  }
 },
 "nbformat": 4,
 "nbformat_minor": 5
}
