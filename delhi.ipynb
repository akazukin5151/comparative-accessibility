{
 "cells": [
  {
   "cell_type": "code",
   "execution_count": 1,
   "id": "fd6bb379",
   "metadata": {},
   "outputs": [
    {
     "name": "stderr",
     "output_type": "stream",
     "text": [
      "/home/twenty/miniconda3/lib/python3.9/site-packages/geopandas/_compat.py:111: UserWarning: The Shapely GEOS version (3.8.0-CAPI-1.13.1 ) is incompatible with the GEOS version PyGEOS was compiled with (3.9.0-CAPI-1.16.2). Conversions between both will be slow.\n",
      "  warnings.warn(\n"
     ]
    }
   ],
   "source": [
    "import datetime as dt\n",
    "from datetime import date\n",
    "from datetime import datetime\n",
    "from datetime import timedelta\n",
    "import pandas as pd\n",
    "import geopandas as gpd\n",
    "import numpy as np\n",
    "import seaborn as sns\n",
    "import matplotlib.pyplot as plt\n",
    "from shapely.geometry import LineString, Point\n",
    "import pyproj\n",
    "from shapely.ops import transform\n",
    "import networkx as nx\n",
    "import momepy"
   ]
  },
  {
   "cell_type": "code",
   "execution_count": 2,
   "id": "73091b8d",
   "metadata": {},
   "outputs": [],
   "source": [
    "routes = pd.read_csv('data/india/GTFS/routes.txt')"
   ]
  },
  {
   "cell_type": "markdown",
   "id": "bbdf6c71",
   "metadata": {},
   "source": [
    "# Number of routes"
   ]
  },
  {
   "cell_type": "code",
   "execution_count": 3,
   "id": "f0ad5289",
   "metadata": {},
   "outputs": [
    {
     "data": {
      "text/plain": [
       "(1270,)"
      ]
     },
     "execution_count": 3,
     "metadata": {},
     "output_type": "execute_result"
    }
   ],
   "source": [
    "routes.route_long_name.unique().shape"
   ]
  },
  {
   "cell_type": "markdown",
   "id": "c7e0489b",
   "metadata": {},
   "source": [
    "# Number of stops"
   ]
  },
  {
   "cell_type": "code",
   "execution_count": 4,
   "id": "9e0fbf04",
   "metadata": {},
   "outputs": [],
   "source": [
    "stops = pd.read_csv('data/india/GTFS/stops.txt')"
   ]
  },
  {
   "cell_type": "code",
   "execution_count": 5,
   "id": "4eebc9bc",
   "metadata": {},
   "outputs": [
    {
     "data": {
      "text/plain": [
       "(4192,)"
      ]
     },
     "execution_count": 5,
     "metadata": {},
     "output_type": "execute_result"
    }
   ],
   "source": [
    "stops.stop_id.unique().shape"
   ]
  },
  {
   "cell_type": "markdown",
   "id": "6e366562",
   "metadata": {},
   "source": [
    "# Average number of stops per route"
   ]
  },
  {
   "cell_type": "markdown",
   "id": "7f64eddc",
   "metadata": {},
   "source": [
    "This is tricky because we need to associate between route_id and trip_id, but they do not have a dataset that directly connects them. Both do share a dataset with trip_ids however, so the data wrangling part is to:\n",
    "\n",
    "1. Associate each trip with their stops (some trips might skip some stops)\n",
    "2. Associate each route with trips on that route\n",
    "3. For every route, get the unique stops for every trip"
   ]
  },
  {
   "cell_type": "code",
   "execution_count": 6,
   "id": "e74a99d8",
   "metadata": {},
   "outputs": [],
   "source": [
    "trips = pd.read_csv('data/india/GTFS/trips.txt')"
   ]
  },
  {
   "cell_type": "code",
   "execution_count": 7,
   "id": "f05f4f0b",
   "metadata": {},
   "outputs": [],
   "source": [
    "stop_times = pd.read_csv('data/india/GTFS/stop_times.txt')"
   ]
  },
  {
   "cell_type": "code",
   "execution_count": 8,
   "id": "34c0d15a",
   "metadata": {},
   "outputs": [
    {
     "data": {
      "text/html": [
       "<div>\n",
       "<style scoped>\n",
       "    .dataframe tbody tr th:only-of-type {\n",
       "        vertical-align: middle;\n",
       "    }\n",
       "\n",
       "    .dataframe tbody tr th {\n",
       "        vertical-align: top;\n",
       "    }\n",
       "\n",
       "    .dataframe thead th {\n",
       "        text-align: right;\n",
       "    }\n",
       "</style>\n",
       "<table border=\"1\" class=\"dataframe\">\n",
       "  <thead>\n",
       "    <tr style=\"text-align: right;\">\n",
       "      <th></th>\n",
       "      <th>trip_id</th>\n",
       "      <th>stop_id</th>\n",
       "    </tr>\n",
       "  </thead>\n",
       "  <tbody>\n",
       "    <tr>\n",
       "      <th>0</th>\n",
       "      <td>1_07_00</td>\n",
       "      <td>23</td>\n",
       "    </tr>\n",
       "    <tr>\n",
       "      <th>1</th>\n",
       "      <td>1_07_00</td>\n",
       "      <td>24</td>\n",
       "    </tr>\n",
       "    <tr>\n",
       "      <th>2</th>\n",
       "      <td>1_07_00</td>\n",
       "      <td>25</td>\n",
       "    </tr>\n",
       "    <tr>\n",
       "      <th>3</th>\n",
       "      <td>1_07_00</td>\n",
       "      <td>26</td>\n",
       "    </tr>\n",
       "    <tr>\n",
       "      <th>4</th>\n",
       "      <td>1_07_00</td>\n",
       "      <td>27</td>\n",
       "    </tr>\n",
       "    <tr>\n",
       "      <th>...</th>\n",
       "      <td>...</td>\n",
       "      <td>...</td>\n",
       "    </tr>\n",
       "    <tr>\n",
       "      <th>2250285</th>\n",
       "      <td>1268_21_30</td>\n",
       "      <td>371</td>\n",
       "    </tr>\n",
       "    <tr>\n",
       "      <th>2250286</th>\n",
       "      <td>1268_21_30</td>\n",
       "      <td>372</td>\n",
       "    </tr>\n",
       "    <tr>\n",
       "      <th>2250287</th>\n",
       "      <td>1268_21_30</td>\n",
       "      <td>1736</td>\n",
       "    </tr>\n",
       "    <tr>\n",
       "      <th>2250288</th>\n",
       "      <td>1268_21_30</td>\n",
       "      <td>1738</td>\n",
       "    </tr>\n",
       "    <tr>\n",
       "      <th>2250289</th>\n",
       "      <td>1268_21_30</td>\n",
       "      <td>3109</td>\n",
       "    </tr>\n",
       "  </tbody>\n",
       "</table>\n",
       "<p>2236409 rows × 2 columns</p>\n",
       "</div>"
      ],
      "text/plain": [
       "            trip_id  stop_id\n",
       "0           1_07_00       23\n",
       "1           1_07_00       24\n",
       "2           1_07_00       25\n",
       "3           1_07_00       26\n",
       "4           1_07_00       27\n",
       "...             ...      ...\n",
       "2250285  1268_21_30      371\n",
       "2250286  1268_21_30      372\n",
       "2250287  1268_21_30     1736\n",
       "2250288  1268_21_30     1738\n",
       "2250289  1268_21_30     3109\n",
       "\n",
       "[2236409 rows x 2 columns]"
      ]
     },
     "execution_count": 8,
     "metadata": {},
     "output_type": "execute_result"
    }
   ],
   "source": [
    "trip_to_stop_id = stop_times[['trip_id', 'stop_id']].drop_duplicates()\n",
    "trip_to_stop_id"
   ]
  },
  {
   "cell_type": "code",
   "execution_count": 9,
   "id": "2591e9dd",
   "metadata": {},
   "outputs": [
    {
     "data": {
      "text/html": [
       "<div>\n",
       "<style scoped>\n",
       "    .dataframe tbody tr th:only-of-type {\n",
       "        vertical-align: middle;\n",
       "    }\n",
       "\n",
       "    .dataframe tbody tr th {\n",
       "        vertical-align: top;\n",
       "    }\n",
       "\n",
       "    .dataframe thead th {\n",
       "        text-align: right;\n",
       "    }\n",
       "</style>\n",
       "<table border=\"1\" class=\"dataframe\">\n",
       "  <thead>\n",
       "    <tr style=\"text-align: right;\">\n",
       "      <th></th>\n",
       "      <th>route_id</th>\n",
       "      <th>trip_id</th>\n",
       "    </tr>\n",
       "  </thead>\n",
       "  <tbody>\n",
       "    <tr>\n",
       "      <th>0</th>\n",
       "      <td>0</td>\n",
       "      <td>0_20_20</td>\n",
       "    </tr>\n",
       "    <tr>\n",
       "      <th>1</th>\n",
       "      <td>0</td>\n",
       "      <td>0_20_30</td>\n",
       "    </tr>\n",
       "    <tr>\n",
       "      <th>2</th>\n",
       "      <td>0</td>\n",
       "      <td>0_20_40</td>\n",
       "    </tr>\n",
       "    <tr>\n",
       "      <th>3</th>\n",
       "      <td>0</td>\n",
       "      <td>0_20_50</td>\n",
       "    </tr>\n",
       "    <tr>\n",
       "      <th>4</th>\n",
       "      <td>0</td>\n",
       "      <td>0_21_00</td>\n",
       "    </tr>\n",
       "    <tr>\n",
       "      <th>...</th>\n",
       "      <td>...</td>\n",
       "      <td>...</td>\n",
       "    </tr>\n",
       "    <tr>\n",
       "      <th>50350</th>\n",
       "      <td>9</td>\n",
       "      <td>9_21_10</td>\n",
       "    </tr>\n",
       "    <tr>\n",
       "      <th>50351</th>\n",
       "      <td>9</td>\n",
       "      <td>9_21_20</td>\n",
       "    </tr>\n",
       "    <tr>\n",
       "      <th>50352</th>\n",
       "      <td>9</td>\n",
       "      <td>9_21_30</td>\n",
       "    </tr>\n",
       "    <tr>\n",
       "      <th>50353</th>\n",
       "      <td>9</td>\n",
       "      <td>9_21_40</td>\n",
       "    </tr>\n",
       "    <tr>\n",
       "      <th>50354</th>\n",
       "      <td>9</td>\n",
       "      <td>9_21_50</td>\n",
       "    </tr>\n",
       "  </tbody>\n",
       "</table>\n",
       "<p>50355 rows × 2 columns</p>\n",
       "</div>"
      ],
      "text/plain": [
       "       route_id  trip_id\n",
       "0             0  0_20_20\n",
       "1             0  0_20_30\n",
       "2             0  0_20_40\n",
       "3             0  0_20_50\n",
       "4             0  0_21_00\n",
       "...         ...      ...\n",
       "50350         9  9_21_10\n",
       "50351         9  9_21_20\n",
       "50352         9  9_21_30\n",
       "50353         9  9_21_40\n",
       "50354         9  9_21_50\n",
       "\n",
       "[50355 rows x 2 columns]"
      ]
     },
     "execution_count": 9,
     "metadata": {},
     "output_type": "execute_result"
    }
   ],
   "source": [
    "route_to_trip_id = trips[['route_id', 'trip_id']].drop_duplicates()\n",
    "route_to_trip_id"
   ]
  },
  {
   "cell_type": "code",
   "execution_count": 10,
   "id": "7a7bc51b",
   "metadata": {},
   "outputs": [
    {
     "data": {
      "text/plain": [
       "trip_id\n",
       "0_20_20    [3, 4, 5, 6, 7, 8, 9, 10, 11, 12, 13, 14, 15, ...\n",
       "0_20_30    [3, 4, 5, 6, 7, 8, 9, 10, 11, 12, 13, 14, 15, ...\n",
       "0_20_40    [3, 4, 5, 6, 7, 8, 9, 10, 11, 12, 13, 14, 15, ...\n",
       "0_20_50    [3, 4, 5, 6, 7, 8, 9, 10, 11, 12, 13, 14, 15, ...\n",
       "0_21_00    [3, 4, 5, 6, 7, 8, 9, 10, 11, 12, 13, 14, 15, ...\n",
       "                                 ...                        \n",
       "9_21_10    [239, 240, 241, 242, 243, 244, 245, 246, 247, ...\n",
       "9_21_20    [239, 240, 241, 242, 243, 244, 245, 246, 247, ...\n",
       "9_21_30    [239, 240, 241, 242, 243, 244, 245, 246, 247, ...\n",
       "9_21_40    [239, 240, 241, 242, 243, 244, 245, 246, 247, ...\n",
       "9_21_50    [239, 240, 241, 242, 243, 244, 245, 246, 247, ...\n",
       "Length: 50355, dtype: object"
      ]
     },
     "execution_count": 10,
     "metadata": {},
     "output_type": "execute_result"
    }
   ],
   "source": [
    "def f(x):\n",
    "    '''\n",
    "    input: dataframe with columns trip_id and stop_id. the trip_id has only one unique value\n",
    "    output: list of all stop ids that this trip stops at\n",
    "    '''\n",
    "    return x.stop_id.to_list()\n",
    "\n",
    "trip_stops = trip_to_stop_id.groupby('trip_id').apply(f)\n",
    "trip_stops"
   ]
  },
  {
   "cell_type": "code",
   "execution_count": 11,
   "id": "b239e324",
   "metadata": {},
   "outputs": [
    {
     "data": {
      "text/plain": [
       "route_id\n",
       "0       [0_20_20, 0_20_30, 0_20_40, 0_20_50, 0_21_00, ...\n",
       "1       [1_07_00, 1_07_10, 1_07_20, 1_07_30, 1_07_40, ...\n",
       "2                                      [2_06_10, 2_06_20]\n",
       "3       [3_10_30, 3_10_50, 3_11_10, 3_11_20, 3_11_30, ...\n",
       "4       [4_06_00, 4_06_10, 4_06_50, 4_07_00, 4_07_10, ...\n",
       "                              ...                        \n",
       "1265    [1265_06_00, 1265_06_10, 1265_06_20, 1265_06_3...\n",
       "1266    [1266_06_10, 1266_06_30, 1266_07_20, 1266_07_3...\n",
       "1267    [1267_06_20, 1267_06_30, 1267_06_40, 1267_06_5...\n",
       "1268    [1268_14_30, 1268_14_50, 1268_15_00, 1268_15_5...\n",
       "1269    [1269_17_40, 1269_17_50, 1269_18_10, 1269_18_3...\n",
       "Length: 1187, dtype: object"
      ]
     },
     "execution_count": 11,
     "metadata": {},
     "output_type": "execute_result"
    }
   ],
   "source": [
    "def g(x):\n",
    "    '''Same as `f` above but collects trip ids instead of stop ids'''\n",
    "    return x.trip_id.to_list()\n",
    "\n",
    "route_trips = route_to_trip_id.groupby('route_id').apply(g)\n",
    "route_trips"
   ]
  },
  {
   "cell_type": "code",
   "execution_count": 12,
   "id": "c0237f8b",
   "metadata": {},
   "outputs": [
    {
     "data": {
      "text/plain": [
       "route_id\n",
       "0       [3, 4, 5, 6, 7, 8, 9, 10, 11, 12, 13, 14, 15, ...\n",
       "1       [23, 24, 25, 26, 27, 28, 29, 30, 31, 32, 33, 3...\n",
       "2                            [69, 70, 71, 72, 73, 74, 75]\n",
       "3       [76, 77, 78, 79, 80, 81, 82, 83, 84, 85, 86, 8...\n",
       "4       [104, 105, 106, 24, 25, 27, 28, 29, 30, 31, 32...\n",
       "                              ...                        \n",
       "1265    [2593, 967, 968, 969, 970, 971, 972, 415, 416,...\n",
       "1266    [937, 2388, 2416, 2417, 2418, 2419, 2420, 334,...\n",
       "1267    [3159, 829, 830, 831, 832, 833, 834, 835, 836,...\n",
       "1268    [111, 1480, 1481, 671, 1482, 790, 791, 792, 79...\n",
       "1269    [3155, 3156, 3157, 3158, 579, 580, 934, 581, 5...\n",
       "Length: 1187, dtype: object"
      ]
     },
     "execution_count": 12,
     "metadata": {},
     "output_type": "execute_result"
    }
   ],
   "source": [
    "def h(x):\n",
    "    '''\n",
    "    input: a list of trip_ids (a single route has multiple trips)\n",
    "    output: the set of stop_ids that every trip stops at\n",
    "    '''\n",
    "    # FIXME: picking the first trip for now\n",
    "    return trip_stops[x[0]]\n",
    "    #return [trip_stops[trip_id] for trip_id in x]\n",
    "    #result = set()\n",
    "    #for trip_id in x:\n",
    "    #    result.update(trip_stops[trip_id])\n",
    "    #return result\n",
    "\n",
    "route_to_stops = route_trips.apply(h)\n",
    "route_to_stops"
   ]
  },
  {
   "cell_type": "code",
   "execution_count": 13,
   "id": "edf5327c",
   "metadata": {},
   "outputs": [
    {
     "data": {
      "text/plain": [
       "route_id\n",
       "0       20\n",
       "1       46\n",
       "2        7\n",
       "3       28\n",
       "4       31\n",
       "        ..\n",
       "1265    24\n",
       "1266    62\n",
       "1267    47\n",
       "1268    89\n",
       "1269    57\n",
       "Length: 1187, dtype: int64"
      ]
     },
     "execution_count": 13,
     "metadata": {},
     "output_type": "execute_result"
    }
   ],
   "source": [
    "num_stops_for_every_route = route_to_stops.apply(len)\n",
    "num_stops_for_every_route"
   ]
  },
  {
   "cell_type": "code",
   "execution_count": 14,
   "id": "d0cc4934",
   "metadata": {},
   "outputs": [
    {
     "data": {
      "text/plain": [
       "39.20134793597304"
      ]
     },
     "execution_count": 14,
     "metadata": {},
     "output_type": "execute_result"
    }
   ],
   "source": [
    "# Average number of stops\n",
    "num_stops_for_every_route.mean()"
   ]
  },
  {
   "cell_type": "code",
   "execution_count": 15,
   "id": "8c26d1bc",
   "metadata": {},
   "outputs": [
    {
     "data": {
      "text/plain": [
       "<AxesSubplot:ylabel='Frequency'>"
      ]
     },
     "execution_count": 15,
     "metadata": {},
     "output_type": "execute_result"
    },
    {
     "data": {
      "image/png": "[encoded data removed]",
      "text/plain": [
       "<Figure size 432x288 with 1 Axes>"
      ]
     },
     "metadata": {
      "needs_background": "light"
     },
     "output_type": "display_data"
    }
   ],
   "source": [
    "num_stops_for_every_route.plot.hist()"
   ]
  },
  {
   "cell_type": "markdown",
   "id": "09cd0518",
   "metadata": {},
   "source": [
    "# Average route length"
   ]
  },
  {
   "cell_type": "markdown",
   "id": "199768ff",
   "metadata": {},
   "source": [
    "stops.txt: stop_lon, stop_lat\n",
    "\n",
    "routes.txt: route_id\n",
    "\n",
    "result: {route_id: [(stop_lon, stop_lat)] for route_id in route_ids}"
   ]
  },
  {
   "cell_type": "code",
   "execution_count": 16,
   "id": "63d64506",
   "metadata": {},
   "outputs": [],
   "source": [
    "# wgs84 is in degrees, pseudo mercator is in meters\n",
    "wgs84 = pyproj.CRS('EPSG:4326')\n",
    "pseudo_mercator = pyproj.CRS('EPSG:3857')\n",
    "project = pyproj.Transformer.from_crs(wgs84, pseudo_mercator, always_xy=True).transform\n",
    "\n",
    "def transformer(p: Point):\n",
    "    return transform(project, p)"
   ]
  },
  {
   "cell_type": "code",
   "execution_count": 17,
   "id": "460dbde1",
   "metadata": {},
   "outputs": [],
   "source": [
    "# def z(x):\n",
    "#     res = []\n",
    "#     for stop in x:\n",
    "#         df = stops[stops.stop_id == stop]\n",
    "#         res.append((df.stop_lon.iloc[0], df.stop_lat.iloc[0]))\n",
    "#     return res\n",
    "\n",
    "# route_to_stops.apply(z)"
   ]
  },
  {
   "cell_type": "code",
   "execution_count": 18,
   "id": "2dc46121",
   "metadata": {},
   "outputs": [
    {
     "data": {
      "text/plain": [
       "route_id\n",
       "0       [POINT (8581937.473719167 3357553.47980293), P...\n",
       "1       [POINT (8588110.028164163 3344921.146539369), ...\n",
       "2       [POINT (8563883.233424349 3327151.778796668), ...\n",
       "3       [POINT (8567644.38505978 3336016.868613827), P...\n",
       "4       [POINT (8586888.630711177 3343268.200248517), ...\n",
       "                              ...                        \n",
       "1265    [POINT (8575356.265423467 3337231.959639902), ...\n",
       "1266    [POINT (8605369.892572677 3311301.320233013), ...\n",
       "1267    [POINT (8596507.699449476 3330137.928757219), ...\n",
       "1268    [POINT (8596967.831366071 3332453.453836878), ...\n",
       "1269    [POINT (8588009.72930296 3353671.051255993), P...\n",
       "Length: 1187, dtype: object"
      ]
     },
     "execution_count": 18,
     "metadata": {},
     "output_type": "execute_result"
    }
   ],
   "source": [
    "# TODO this is rather slow too\n",
    "def z(x):\n",
    "    res = []\n",
    "    for stop in x:\n",
    "        df = stops[stops.stop_id == stop]\n",
    "        x_c = df.stop_lon.iloc[0]\n",
    "        y_c = df.stop_lat.iloc[0]\n",
    "        res.append(transformer(Point(x_c, y_c)))\n",
    "    return res\n",
    "\n",
    "route_stop_coords = route_to_stops.apply(z)\n",
    "route_stop_coords"
   ]
  },
  {
   "cell_type": "code",
   "execution_count": 19,
   "id": "ca783299",
   "metadata": {},
   "outputs": [
    {
     "data": {
      "text/plain": [
       "route_id\n",
       "0       12877.486982\n",
       "1       30744.084545\n",
       "2        8262.196860\n",
       "3       22570.834831\n",
       "4       18806.029158\n",
       "            ...     \n",
       "1265    18061.321531\n",
       "1266    33703.261014\n",
       "1267    26941.728181\n",
       "1268    62078.381617\n",
       "1269    35559.108203\n",
       "Length: 1187, dtype: float64"
      ]
     },
     "execution_count": 19,
     "metadata": {},
     "output_type": "execute_result"
    }
   ],
   "source": [
    "route_lengths = route_stop_coords.apply(lambda x: LineString(x).length)\n",
    "route_lengths"
   ]
  },
  {
   "cell_type": "code",
   "execution_count": 20,
   "id": "b57dc7de",
   "metadata": {},
   "outputs": [
    {
     "data": {
      "text/plain": [
       "24261.984206622277"
      ]
     },
     "execution_count": 20,
     "metadata": {},
     "output_type": "execute_result"
    }
   ],
   "source": [
    "# Average route length in meters\n",
    "route_lengths.mean()"
   ]
  },
  {
   "cell_type": "code",
   "execution_count": 21,
   "id": "b23d8a86",
   "metadata": {},
   "outputs": [
    {
     "data": {
      "text/plain": [
       "<AxesSubplot:ylabel='Frequency'>"
      ]
     },
     "execution_count": 21,
     "metadata": {},
     "output_type": "execute_result"
    },
    {
     "data": {
      "image/png": "[encoded data removed]",
      "text/plain": [
       "<Figure size 432x288 with 1 Axes>"
      ]
     },
     "metadata": {
      "needs_background": "light"
     },
     "output_type": "display_data"
    }
   ],
   "source": [
    "route_lengths.plot.hist()"
   ]
  },
  {
   "cell_type": "markdown",
   "id": "e4530421",
   "metadata": {},
   "source": [
    "# Average distance between stops"
   ]
  },
  {
   "cell_type": "code",
   "execution_count": 22,
   "id": "f0bfe867",
   "metadata": {},
   "outputs": [],
   "source": [
    "def calc_distances(x):\n",
    "    '''\n",
    "    input: [(float, float)]\n",
    "        a list of coordinates\n",
    "    output: [float]\n",
    "        the distances between each coordinates\n",
    "    '''\n",
    "    return [Point(a).distance(Point(b)) for a, b in zip(x, x[1:])]"
   ]
  },
  {
   "cell_type": "code",
   "execution_count": 23,
   "id": "b622d019",
   "metadata": {},
   "outputs": [
    {
     "data": {
      "text/plain": [
       "route_id\n",
       "0       [321.9643107629447, 254.33472327080472, 328.21...\n",
       "1       [1077.611570766103, 1308.7206422144516, 682.18...\n",
       "2       [2020.2658950779826, 623.7750065142687, 859.07...\n",
       "3       [711.0090631376837, 838.3606140627169, 182.089...\n",
       "4       [654.088515675464, 413.42850309023015, 1035.52...\n",
       "                              ...                        \n",
       "1265    [649.5618948508355, 811.2861075045431, 635.039...\n",
       "1266    [460.9534022689515, 721.8964800311446, 662.902...\n",
       "1267    [395.9212770547474, 790.2810089899889, 863.785...\n",
       "1268    [1127.1261640060252, 407.7244321184896, 750.50...\n",
       "1269    [1525.65917367137, 904.4373248370265, 1027.147...\n",
       "Length: 1187, dtype: object"
      ]
     },
     "execution_count": 23,
     "metadata": {},
     "output_type": "execute_result"
    }
   ],
   "source": [
    "route_stop_dists = route_stop_coords.apply(calc_distances)\n",
    "route_stop_dists"
   ]
  },
  {
   "cell_type": "code",
   "execution_count": 24,
   "id": "d795fc55",
   "metadata": {},
   "outputs": [
    {
     "data": {
      "text/plain": [
       "route_id\n",
       "0        677.762473\n",
       "1        683.201879\n",
       "2       1377.032810\n",
       "3        835.956846\n",
       "4        626.867639\n",
       "           ...     \n",
       "1265     785.274849\n",
       "1266     552.512476\n",
       "1267     585.689743\n",
       "1268     705.436155\n",
       "1269     634.984075\n",
       "Length: 1187, dtype: float64"
      ]
     },
     "execution_count": 24,
     "metadata": {},
     "output_type": "execute_result"
    }
   ],
   "source": [
    "route_avg_stop_dists = route_stop_dists.apply(np.mean)\n",
    "route_avg_stop_dists"
   ]
  },
  {
   "cell_type": "code",
   "execution_count": 25,
   "id": "0910f6b8",
   "metadata": {},
   "outputs": [
    {
     "data": {
      "text/plain": [
       "650.4444398735006"
      ]
     },
     "execution_count": 25,
     "metadata": {},
     "output_type": "execute_result"
    }
   ],
   "source": [
    "# Global average distance between stops (TODO: what units?)\n",
    "route_avg_stop_dists.mean()"
   ]
  },
  {
   "cell_type": "code",
   "execution_count": 26,
   "id": "80a57e9b",
   "metadata": {},
   "outputs": [
    {
     "data": {
      "text/plain": [
       "<AxesSubplot:ylabel='Frequency'>"
      ]
     },
     "execution_count": 26,
     "metadata": {},
     "output_type": "execute_result"
    },
    {
     "data": {
      "image/png": "[encoded data removed]",
      "text/plain": [
       "<Figure size 432x288 with 1 Axes>"
      ]
     },
     "metadata": {
      "needs_background": "light"
     },
     "output_type": "display_data"
    }
   ],
   "source": [
    "route_avg_stop_dists.plot.hist()"
   ]
  },
  {
   "cell_type": "code",
   "execution_count": 27,
   "id": "724edb38",
   "metadata": {},
   "outputs": [
    {
     "data": {
      "text/plain": [
       "<AxesSubplot:ylabel='Frequency'>"
      ]
     },
     "execution_count": 27,
     "metadata": {},
     "output_type": "execute_result"
    },
    {
     "data": {
      "image/png": "[encoded data removed]",
      "text/plain": [
       "<Figure size 432x288 with 1 Axes>"
      ]
     },
     "metadata": {
      "needs_background": "light"
     },
     "output_type": "display_data"
    }
   ],
   "source": [
    "# The individual distances between every stops in every route\n",
    "route_stop_dists.explode().plot.hist()"
   ]
  },
  {
   "cell_type": "markdown",
   "id": "fed8cd30",
   "metadata": {},
   "source": [
    "# Median bus speed"
   ]
  },
  {
   "cell_type": "markdown",
   "id": "482786dd",
   "metadata": {},
   "source": [
    "Removed because some stops don't have an associated stop time:"
   ]
  },
  {
   "cell_type": "code",
   "execution_count": 28,
   "id": "cbbfdc64",
   "metadata": {},
   "outputs": [
    {
     "data": {
      "text/plain": [
       "array([1730, 1731, 2443, 2444, 3128, 3129, 3130, 3131, 3132, 3134, 3747,\n",
       "       3748, 3749, 3750, 3751, 3752, 3753, 3754, 3755, 3832, 3833, 3834,\n",
       "       3835, 3836, 3837, 3855, 3914, 3935, 3947, 3948, 3949, 3950, 4104,\n",
       "       4143])"
      ]
     },
     "execution_count": 28,
     "metadata": {},
     "output_type": "execute_result"
    }
   ],
   "source": [
    "np.setdiff1d(stops.stop_id.unique(), stop_times.stop_id.unique())"
   ]
  },
  {
   "cell_type": "code",
   "execution_count": 29,
   "id": "da440326",
   "metadata": {},
   "outputs": [
    {
     "data": {
      "text/html": [
       "<div>\n",
       "<style scoped>\n",
       "    .dataframe tbody tr th:only-of-type {\n",
       "        vertical-align: middle;\n",
       "    }\n",
       "\n",
       "    .dataframe tbody tr th {\n",
       "        vertical-align: top;\n",
       "    }\n",
       "\n",
       "    .dataframe thead th {\n",
       "        text-align: right;\n",
       "    }\n",
       "</style>\n",
       "<table border=\"1\" class=\"dataframe\">\n",
       "  <thead>\n",
       "    <tr style=\"text-align: right;\">\n",
       "      <th></th>\n",
       "      <th>trip_id</th>\n",
       "      <th>arrival_time</th>\n",
       "      <th>departure_time</th>\n",
       "      <th>stop_id</th>\n",
       "      <th>stop_sequence</th>\n",
       "    </tr>\n",
       "  </thead>\n",
       "  <tbody>\n",
       "  </tbody>\n",
       "</table>\n",
       "</div>"
      ],
      "text/plain": [
       "Empty DataFrame\n",
       "Columns: [trip_id, arrival_time, departure_time, stop_id, stop_sequence]\n",
       "Index: []"
      ]
     },
     "execution_count": 29,
     "metadata": {},
     "output_type": "execute_result"
    }
   ],
   "source": [
    "stop_times[stop_times.stop_id == 1730]"
   ]
  },
  {
   "cell_type": "code",
   "execution_count": 30,
   "id": "5cc0981f",
   "metadata": {},
   "outputs": [
    {
     "data": {
      "text/html": [
       "<div>\n",
       "<style scoped>\n",
       "    .dataframe tbody tr th:only-of-type {\n",
       "        vertical-align: middle;\n",
       "    }\n",
       "\n",
       "    .dataframe tbody tr th {\n",
       "        vertical-align: top;\n",
       "    }\n",
       "\n",
       "    .dataframe thead th {\n",
       "        text-align: right;\n",
       "    }\n",
       "</style>\n",
       "<table border=\"1\" class=\"dataframe\">\n",
       "  <thead>\n",
       "    <tr style=\"text-align: right;\">\n",
       "      <th></th>\n",
       "      <th>stop_id</th>\n",
       "      <th>stop_code</th>\n",
       "      <th>stop_name</th>\n",
       "      <th>stop_lat</th>\n",
       "      <th>stop_lon</th>\n",
       "      <th>zone_id</th>\n",
       "    </tr>\n",
       "  </thead>\n",
       "  <tbody>\n",
       "    <tr>\n",
       "      <th>1713</th>\n",
       "      <td>1730</td>\n",
       "      <td>DC4019</td>\n",
       "      <td>Dauralla Border</td>\n",
       "      <td>28.507925</td>\n",
       "      <td>76.896927</td>\n",
       "      <td>1730</td>\n",
       "    </tr>\n",
       "  </tbody>\n",
       "</table>\n",
       "</div>"
      ],
      "text/plain": [
       "      stop_id stop_code        stop_name   stop_lat   stop_lon  zone_id\n",
       "1713     1730    DC4019  Dauralla Border  28.507925  76.896927     1730"
      ]
     },
     "execution_count": 30,
     "metadata": {},
     "output_type": "execute_result"
    }
   ],
   "source": [
    "stops[stops.stop_id == 1730]"
   ]
  },
  {
   "cell_type": "markdown",
   "id": "ee0dd623",
   "metadata": {},
   "source": [
    "# Number of links"
   ]
  },
  {
   "cell_type": "markdown",
   "id": "149b4088",
   "metadata": {},
   "source": [
    "# Number of nodes"
   ]
  },
  {
   "cell_type": "markdown",
   "id": "cbd38f2e",
   "metadata": {},
   "source": [
    "# Network diameter"
   ]
  },
  {
   "cell_type": "code",
   "execution_count": 31,
   "id": "a8134c92",
   "metadata": {},
   "outputs": [
    {
     "data": {
      "text/plain": [
       "route_id\n",
       "0       [(77.09285600000003, 28.857752), (77.095745999...\n",
       "1       [(77.14830500000002, 28.758318), (77.150774, 2...\n",
       "2       [(76.930672, 28.618288), (76.94478225753659, 2...\n",
       "3       [(76.96445899999998, 28.688172), (76.9708, 28....\n",
       "4       [(77.137333, 28.7453), (77.14307600000002, 28....\n",
       "                              ...                        \n",
       "1265    [(77.033736, 28.697747), (77.027902, 28.697847...\n",
       "1266    [(77.303353, 28.493222), (77.302417, 28.496767...\n",
       "1267    [(77.2237425646661, 28.6418331891737), (77.224...\n",
       "1268    [(77.227876, 28.660087), (77.2181, 28.6624), (...\n",
       "1269    [(77.14740400000002, 28.827202000000003), (77....\n",
       "Length: 1187, dtype: object"
      ]
     },
     "execution_count": 31,
     "metadata": {},
     "output_type": "execute_result"
    }
   ],
   "source": [
    "def z(x):\n",
    "    res = []\n",
    "    for stop in x:\n",
    "        df = stops[stops.stop_id == stop]\n",
    "        res.append((df.stop_lon.iloc[0], df.stop_lat.iloc[0]))\n",
    "    return res\n",
    "\n",
    "route_stop_coords = route_to_stops.apply(z)\n",
    "route_stop_coords"
   ]
  },
  {
   "cell_type": "code",
   "execution_count": 32,
   "id": "ae91dea4",
   "metadata": {},
   "outputs": [],
   "source": [
    "route_stop_coords_dict = route_stop_coords.to_dict()"
   ]
  },
  {
   "cell_type": "code",
   "execution_count": 33,
   "id": "0c754f6f",
   "metadata": {
    "tags": []
   },
   "outputs": [],
   "source": [
    "g = nx.from_dict_of_lists(route_stop_coords_dict)"
   ]
  },
  {
   "cell_type": "code",
   "execution_count": 34,
   "id": "c0e02d76",
   "metadata": {},
   "outputs": [
    {
     "data": {
      "text/plain": [
       "10"
      ]
     },
     "execution_count": 34,
     "metadata": {},
     "output_type": "execute_result"
    }
   ],
   "source": [
    "nx.algorithms.distance_measures.diameter(g)"
   ]
  },
  {
   "cell_type": "markdown",
   "id": "a78d7385",
   "metadata": {},
   "source": [
    "## Trying to use Point instead of coord... but too slow"
   ]
  },
  {
   "cell_type": "code",
   "execution_count": 35,
   "id": "019b12ed",
   "metadata": {},
   "outputs": [
    {
     "data": {
      "text/html": [
       "<div>\n",
       "<style scoped>\n",
       "    .dataframe tbody tr th:only-of-type {\n",
       "        vertical-align: middle;\n",
       "    }\n",
       "\n",
       "    .dataframe tbody tr th {\n",
       "        vertical-align: top;\n",
       "    }\n",
       "\n",
       "    .dataframe thead th {\n",
       "        text-align: right;\n",
       "    }\n",
       "</style>\n",
       "<table border=\"1\" class=\"dataframe\">\n",
       "  <thead>\n",
       "    <tr style=\"text-align: right;\">\n",
       "      <th></th>\n",
       "      <th>coords</th>\n",
       "    </tr>\n",
       "    <tr>\n",
       "      <th>route_id</th>\n",
       "      <th></th>\n",
       "    </tr>\n",
       "  </thead>\n",
       "  <tbody>\n",
       "    <tr>\n",
       "      <th>0</th>\n",
       "      <td>(77.09285600000003, 28.857752)</td>\n",
       "    </tr>\n",
       "    <tr>\n",
       "      <th>0</th>\n",
       "      <td>(77.09574599999998, 28.857652)</td>\n",
       "    </tr>\n",
       "    <tr>\n",
       "      <th>0</th>\n",
       "      <td>(77.097951, 28.857128000000003)</td>\n",
       "    </tr>\n",
       "    <tr>\n",
       "      <th>0</th>\n",
       "      <td>(77.09790699999998, 28.85454600000001)</td>\n",
       "    </tr>\n",
       "    <tr>\n",
       "      <th>0</th>\n",
       "      <td>(77.097849, 28.85177100000001)</td>\n",
       "    </tr>\n",
       "    <tr>\n",
       "      <th>...</th>\n",
       "      <td>...</td>\n",
       "    </tr>\n",
       "    <tr>\n",
       "      <th>1269</th>\n",
       "      <td>(77.028059, 28.712614)</td>\n",
       "    </tr>\n",
       "    <tr>\n",
       "      <th>1269</th>\n",
       "      <td>(77.028, 28.7095)</td>\n",
       "    </tr>\n",
       "    <tr>\n",
       "      <th>1269</th>\n",
       "      <td>(77.02789, 28.70358)</td>\n",
       "    </tr>\n",
       "    <tr>\n",
       "      <th>1269</th>\n",
       "      <td>(77.02790300000002, 28.698024)</td>\n",
       "    </tr>\n",
       "    <tr>\n",
       "      <th>1269</th>\n",
       "      <td>(77.033283, 28.699368)</td>\n",
       "    </tr>\n",
       "  </tbody>\n",
       "</table>\n",
       "<p>46532 rows × 1 columns</p>\n",
       "</div>"
      ],
      "text/plain": [
       "                                          coords\n",
       "route_id                                        \n",
       "0                 (77.09285600000003, 28.857752)\n",
       "0                 (77.09574599999998, 28.857652)\n",
       "0                (77.097951, 28.857128000000003)\n",
       "0         (77.09790699999998, 28.85454600000001)\n",
       "0                 (77.097849, 28.85177100000001)\n",
       "...                                          ...\n",
       "1269                      (77.028059, 28.712614)\n",
       "1269                           (77.028, 28.7095)\n",
       "1269                        (77.02789, 28.70358)\n",
       "1269              (77.02790300000002, 28.698024)\n",
       "1269                      (77.033283, 28.699368)\n",
       "\n",
       "[46532 rows x 1 columns]"
      ]
     },
     "execution_count": 35,
     "metadata": {},
     "output_type": "execute_result"
    }
   ],
   "source": [
    "route_stop_coords_df = pd.DataFrame(route_stop_coords, columns=['coords']).explode('coords')\n",
    "route_stop_coords_df"
   ]
  },
  {
   "cell_type": "code",
   "execution_count": 36,
   "id": "63ae890b",
   "metadata": {},
   "outputs": [],
   "source": [
    "route_stop_coords_df.coords = route_stop_coords_df.coords.apply(Point)"
   ]
  },
  {
   "cell_type": "code",
   "execution_count": 37,
   "id": "d2c92ec6",
   "metadata": {},
   "outputs": [
    {
     "data": {
      "text/html": [
       "<div>\n",
       "<style scoped>\n",
       "    .dataframe tbody tr th:only-of-type {\n",
       "        vertical-align: middle;\n",
       "    }\n",
       "\n",
       "    .dataframe tbody tr th {\n",
       "        vertical-align: top;\n",
       "    }\n",
       "\n",
       "    .dataframe thead th {\n",
       "        text-align: right;\n",
       "    }\n",
       "</style>\n",
       "<table border=\"1\" class=\"dataframe\">\n",
       "  <thead>\n",
       "    <tr style=\"text-align: right;\">\n",
       "      <th></th>\n",
       "      <th>coords</th>\n",
       "    </tr>\n",
       "    <tr>\n",
       "      <th>route_id</th>\n",
       "      <th></th>\n",
       "    </tr>\n",
       "  </thead>\n",
       "  <tbody>\n",
       "    <tr>\n",
       "      <th>0</th>\n",
       "      <td>POINT (77.09285600000003 28.857752)</td>\n",
       "    </tr>\n",
       "    <tr>\n",
       "      <th>0</th>\n",
       "      <td>POINT (77.09574599999998 28.857652)</td>\n",
       "    </tr>\n",
       "    <tr>\n",
       "      <th>0</th>\n",
       "      <td>POINT (77.09795099999999 28.857128)</td>\n",
       "    </tr>\n",
       "    <tr>\n",
       "      <th>0</th>\n",
       "      <td>POINT (77.09790699999998 28.85454600000001)</td>\n",
       "    </tr>\n",
       "    <tr>\n",
       "      <th>0</th>\n",
       "      <td>POINT (77.097849 28.85177100000001)</td>\n",
       "    </tr>\n",
       "    <tr>\n",
       "      <th>...</th>\n",
       "      <td>...</td>\n",
       "    </tr>\n",
       "    <tr>\n",
       "      <th>1269</th>\n",
       "      <td>POINT (77.028059 28.712614)</td>\n",
       "    </tr>\n",
       "    <tr>\n",
       "      <th>1269</th>\n",
       "      <td>POINT (77.02800000000001 28.7095)</td>\n",
       "    </tr>\n",
       "    <tr>\n",
       "      <th>1269</th>\n",
       "      <td>POINT (77.02789 28.70358)</td>\n",
       "    </tr>\n",
       "    <tr>\n",
       "      <th>1269</th>\n",
       "      <td>POINT (77.02790300000002 28.698024)</td>\n",
       "    </tr>\n",
       "    <tr>\n",
       "      <th>1269</th>\n",
       "      <td>POINT (77.033283 28.699368)</td>\n",
       "    </tr>\n",
       "  </tbody>\n",
       "</table>\n",
       "<p>46532 rows × 1 columns</p>\n",
       "</div>"
      ],
      "text/plain": [
       "                                               coords\n",
       "route_id                                             \n",
       "0                 POINT (77.09285600000003 28.857752)\n",
       "0                 POINT (77.09574599999998 28.857652)\n",
       "0                 POINT (77.09795099999999 28.857128)\n",
       "0         POINT (77.09790699999998 28.85454600000001)\n",
       "0                 POINT (77.097849 28.85177100000001)\n",
       "...                                               ...\n",
       "1269                      POINT (77.028059 28.712614)\n",
       "1269                POINT (77.02800000000001 28.7095)\n",
       "1269                        POINT (77.02789 28.70358)\n",
       "1269              POINT (77.02790300000002 28.698024)\n",
       "1269                      POINT (77.033283 28.699368)\n",
       "\n",
       "[46532 rows x 1 columns]"
      ]
     },
     "execution_count": 37,
     "metadata": {},
     "output_type": "execute_result"
    }
   ],
   "source": [
    "route_stop_coords_gdf = gpd.GeoDataFrame(route_stop_coords_df)\n",
    "route_stop_coords_gdf"
   ]
  },
  {
   "cell_type": "code",
   "execution_count": 38,
   "id": "b39bf924",
   "metadata": {},
   "outputs": [],
   "source": [
    "route_stop_coords_gdf.geometry = route_stop_coords_gdf.coords"
   ]
  },
  {
   "cell_type": "code",
   "execution_count": 39,
   "id": "86e680f6",
   "metadata": {},
   "outputs": [],
   "source": [
    "G = momepy.gdf_to_nx(route_stop_coords_gdf)"
   ]
  },
  {
   "cell_type": "code",
   "execution_count": 40,
   "id": "c4eff1f6",
   "metadata": {
    "tags": []
   },
   "outputs": [],
   "source": [
    "#nx.draw(G)"
   ]
  },
  {
   "cell_type": "markdown",
   "id": "31441bfb",
   "metadata": {},
   "source": [
    "# Network density"
   ]
  },
  {
   "cell_type": "code",
   "execution_count": 41,
   "id": "81e438f5",
   "metadata": {},
   "outputs": [
    {
     "data": {
      "text/plain": [
       "0.0033170887927784468"
      ]
     },
     "execution_count": 41,
     "metadata": {},
     "output_type": "execute_result"
    }
   ],
   "source": [
    "nx.classes.function.density(g)"
   ]
  }
 ],
 "metadata": {
  "kernelspec": {
   "display_name": "Python 3 (ipykernel)",
   "language": "python",
   "name": "python3"
  },
  "language_info": {
   "codemirror_mode": {
    "name": "ipython",
    "version": 3
   },
   "file_extension": ".py",
   "mimetype": "text/x-python",
   "name": "python",
   "nbconvert_exporter": "python",
   "pygments_lexer": "ipython3",
   "version": "3.9.1"
  }
 },
 "nbformat": 4,
 "nbformat_minor": 5
}
