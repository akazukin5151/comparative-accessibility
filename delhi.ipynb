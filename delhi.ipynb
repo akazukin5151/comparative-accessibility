{
 "cells": [
  {
   "cell_type": "code",
   "execution_count": 1,
   "id": "4bcf0ea1",
   "metadata": {},
   "outputs": [
    {
     "name": "stderr",
     "output_type": "stream",
     "text": [
      "/home/twenty/miniconda3/lib/python3.9/site-packages/geopandas/_compat.py:111: UserWarning: The Shapely GEOS version (3.8.0-CAPI-1.13.1 ) is incompatible with the GEOS version PyGEOS was compiled with (3.9.0-CAPI-1.16.2). Conversions between both will be slow.\n",
      "  warnings.warn(\n"
     ]
    }
   ],
   "source": [
    "import datetime as dt\n",
    "from datetime import date\n",
    "from datetime import datetime\n",
    "from datetime import timedelta\n",
    "import pandas as pd\n",
    "import geopandas as gpd\n",
    "import numpy as np\n",
    "import seaborn as sns\n",
    "import matplotlib.pyplot as plt\n",
    "from shapely.geometry import LineString, Point\n",
    "import pyproj\n",
    "from shapely.ops import transform\n",
    "import networkx as nx\n",
    "import momepy"
   ]
  },
  {
   "cell_type": "code",
   "execution_count": 2,
   "id": "49de10b6",
   "metadata": {},
   "outputs": [],
   "source": [
    "routes = pd.read_csv('data/india/GTFS/routes.txt')"
   ]
  },
  {
   "cell_type": "markdown",
   "id": "e9f424a8",
   "metadata": {},
   "source": [
    "# Number of routes"
   ]
  },
  {
   "cell_type": "code",
   "execution_count": 3,
   "id": "1b8fcaca",
   "metadata": {},
   "outputs": [
    {
     "data": {
      "text/plain": [
       "(1270,)"
      ]
     },
     "execution_count": 3,
     "metadata": {},
     "output_type": "execute_result"
    }
   ],
   "source": [
    "routes.route_long_name.unique().shape"
   ]
  },
  {
   "cell_type": "markdown",
   "id": "e8b5091e",
   "metadata": {},
   "source": [
    "# Number of stops"
   ]
  },
  {
   "cell_type": "code",
   "execution_count": 4,
   "id": "2c2f136e",
   "metadata": {},
   "outputs": [],
   "source": [
    "stops = pd.read_csv('data/india/GTFS/stops.txt')"
   ]
  },
  {
   "cell_type": "code",
   "execution_count": 5,
   "id": "aac1461a",
   "metadata": {},
   "outputs": [
    {
     "data": {
      "text/plain": [
       "(4192,)"
      ]
     },
     "execution_count": 5,
     "metadata": {},
     "output_type": "execute_result"
    }
   ],
   "source": [
    "stops.stop_id.unique().shape"
   ]
  },
  {
   "cell_type": "markdown",
   "id": "66876da3",
   "metadata": {},
   "source": [
    "# Average number of stops per route"
   ]
  },
  {
   "cell_type": "markdown",
   "id": "a91e35f3",
   "metadata": {},
   "source": [
    "This is tricky because we need to associate between route_id and trip_id, but they do not have a dataset that directly connects them. Both do share a dataset with trip_ids however, so the data wrangling part is to:\n",
    "\n",
    "1. Associate each trip with their stops (some trips might skip some stops)\n",
    "2. Associate each route with trips on that route\n",
    "3. For every route, get the unique stops for every trip"
   ]
  },
  {
   "cell_type": "code",
   "execution_count": 6,
   "id": "4bffecfa",
   "metadata": {},
   "outputs": [],
   "source": [
    "trips = pd.read_csv('data/india/GTFS/trips.txt')"
   ]
  },
  {
   "cell_type": "code",
   "execution_count": 7,
   "id": "e09db9eb",
   "metadata": {},
   "outputs": [],
   "source": [
    "stop_times = pd.read_csv('data/india/GTFS/stop_times.txt')"
   ]
  },
  {
   "cell_type": "code",
   "execution_count": 8,
   "id": "ed8775b4",
   "metadata": {},
   "outputs": [
    {
     "data": {
      "text/html": [
       "<div>\n",
       "<style scoped>\n",
       "    .dataframe tbody tr th:only-of-type {\n",
       "        vertical-align: middle;\n",
       "    }\n",
       "\n",
       "    .dataframe tbody tr th {\n",
       "        vertical-align: top;\n",
       "    }\n",
       "\n",
       "    .dataframe thead th {\n",
       "        text-align: right;\n",
       "    }\n",
       "</style>\n",
       "<table border=\"1\" class=\"dataframe\">\n",
       "  <thead>\n",
       "    <tr style=\"text-align: right;\">\n",
       "      <th></th>\n",
       "      <th>trip_id</th>\n",
       "      <th>stop_id</th>\n",
       "    </tr>\n",
       "  </thead>\n",
       "  <tbody>\n",
       "    <tr>\n",
       "      <th>0</th>\n",
       "      <td>1_07_00</td>\n",
       "      <td>23</td>\n",
       "    </tr>\n",
       "    <tr>\n",
       "      <th>1</th>\n",
       "      <td>1_07_00</td>\n",
       "      <td>24</td>\n",
       "    </tr>\n",
       "    <tr>\n",
       "      <th>2</th>\n",
       "      <td>1_07_00</td>\n",
       "      <td>25</td>\n",
       "    </tr>\n",
       "    <tr>\n",
       "      <th>3</th>\n",
       "      <td>1_07_00</td>\n",
       "      <td>26</td>\n",
       "    </tr>\n",
       "    <tr>\n",
       "      <th>4</th>\n",
       "      <td>1_07_00</td>\n",
       "      <td>27</td>\n",
       "    </tr>\n",
       "    <tr>\n",
       "      <th>...</th>\n",
       "      <td>...</td>\n",
       "      <td>...</td>\n",
       "    </tr>\n",
       "    <tr>\n",
       "      <th>2250285</th>\n",
       "      <td>1268_21_30</td>\n",
       "      <td>371</td>\n",
       "    </tr>\n",
       "    <tr>\n",
       "      <th>2250286</th>\n",
       "      <td>1268_21_30</td>\n",
       "      <td>372</td>\n",
       "    </tr>\n",
       "    <tr>\n",
       "      <th>2250287</th>\n",
       "      <td>1268_21_30</td>\n",
       "      <td>1736</td>\n",
       "    </tr>\n",
       "    <tr>\n",
       "      <th>2250288</th>\n",
       "      <td>1268_21_30</td>\n",
       "      <td>1738</td>\n",
       "    </tr>\n",
       "    <tr>\n",
       "      <th>2250289</th>\n",
       "      <td>1268_21_30</td>\n",
       "      <td>3109</td>\n",
       "    </tr>\n",
       "  </tbody>\n",
       "</table>\n",
       "<p>2236409 rows × 2 columns</p>\n",
       "</div>"
      ],
      "text/plain": [
       "            trip_id  stop_id\n",
       "0           1_07_00       23\n",
       "1           1_07_00       24\n",
       "2           1_07_00       25\n",
       "3           1_07_00       26\n",
       "4           1_07_00       27\n",
       "...             ...      ...\n",
       "2250285  1268_21_30      371\n",
       "2250286  1268_21_30      372\n",
       "2250287  1268_21_30     1736\n",
       "2250288  1268_21_30     1738\n",
       "2250289  1268_21_30     3109\n",
       "\n",
       "[2236409 rows x 2 columns]"
      ]
     },
     "execution_count": 8,
     "metadata": {},
     "output_type": "execute_result"
    }
   ],
   "source": [
    "trip_to_stop_id = stop_times[['trip_id', 'stop_id']].drop_duplicates()\n",
    "trip_to_stop_id"
   ]
  },
  {
   "cell_type": "code",
   "execution_count": 9,
   "id": "17d64fe9",
   "metadata": {},
   "outputs": [
    {
     "data": {
      "text/html": [
       "<div>\n",
       "<style scoped>\n",
       "    .dataframe tbody tr th:only-of-type {\n",
       "        vertical-align: middle;\n",
       "    }\n",
       "\n",
       "    .dataframe tbody tr th {\n",
       "        vertical-align: top;\n",
       "    }\n",
       "\n",
       "    .dataframe thead th {\n",
       "        text-align: right;\n",
       "    }\n",
       "</style>\n",
       "<table border=\"1\" class=\"dataframe\">\n",
       "  <thead>\n",
       "    <tr style=\"text-align: right;\">\n",
       "      <th></th>\n",
       "      <th>route_id</th>\n",
       "      <th>trip_id</th>\n",
       "    </tr>\n",
       "  </thead>\n",
       "  <tbody>\n",
       "    <tr>\n",
       "      <th>0</th>\n",
       "      <td>0</td>\n",
       "      <td>0_20_20</td>\n",
       "    </tr>\n",
       "    <tr>\n",
       "      <th>1</th>\n",
       "      <td>0</td>\n",
       "      <td>0_20_30</td>\n",
       "    </tr>\n",
       "    <tr>\n",
       "      <th>2</th>\n",
       "      <td>0</td>\n",
       "      <td>0_20_40</td>\n",
       "    </tr>\n",
       "    <tr>\n",
       "      <th>3</th>\n",
       "      <td>0</td>\n",
       "      <td>0_20_50</td>\n",
       "    </tr>\n",
       "    <tr>\n",
       "      <th>4</th>\n",
       "      <td>0</td>\n",
       "      <td>0_21_00</td>\n",
       "    </tr>\n",
       "    <tr>\n",
       "      <th>...</th>\n",
       "      <td>...</td>\n",
       "      <td>...</td>\n",
       "    </tr>\n",
       "    <tr>\n",
       "      <th>50350</th>\n",
       "      <td>9</td>\n",
       "      <td>9_21_10</td>\n",
       "    </tr>\n",
       "    <tr>\n",
       "      <th>50351</th>\n",
       "      <td>9</td>\n",
       "      <td>9_21_20</td>\n",
       "    </tr>\n",
       "    <tr>\n",
       "      <th>50352</th>\n",
       "      <td>9</td>\n",
       "      <td>9_21_30</td>\n",
       "    </tr>\n",
       "    <tr>\n",
       "      <th>50353</th>\n",
       "      <td>9</td>\n",
       "      <td>9_21_40</td>\n",
       "    </tr>\n",
       "    <tr>\n",
       "      <th>50354</th>\n",
       "      <td>9</td>\n",
       "      <td>9_21_50</td>\n",
       "    </tr>\n",
       "  </tbody>\n",
       "</table>\n",
       "<p>50355 rows × 2 columns</p>\n",
       "</div>"
      ],
      "text/plain": [
       "       route_id  trip_id\n",
       "0             0  0_20_20\n",
       "1             0  0_20_30\n",
       "2             0  0_20_40\n",
       "3             0  0_20_50\n",
       "4             0  0_21_00\n",
       "...         ...      ...\n",
       "50350         9  9_21_10\n",
       "50351         9  9_21_20\n",
       "50352         9  9_21_30\n",
       "50353         9  9_21_40\n",
       "50354         9  9_21_50\n",
       "\n",
       "[50355 rows x 2 columns]"
      ]
     },
     "execution_count": 9,
     "metadata": {},
     "output_type": "execute_result"
    }
   ],
   "source": [
    "route_to_trip_id = trips[['route_id', 'trip_id']].drop_duplicates()\n",
    "route_to_trip_id"
   ]
  },
  {
   "cell_type": "code",
   "execution_count": 10,
   "id": "6fed1837",
   "metadata": {},
   "outputs": [
    {
     "data": {
      "text/plain": [
       "trip_id\n",
       "0_20_20    [3, 4, 5, 6, 7, 8, 9, 10, 11, 12, 13, 14, 15, ...\n",
       "0_20_30    [3, 4, 5, 6, 7, 8, 9, 10, 11, 12, 13, 14, 15, ...\n",
       "0_20_40    [3, 4, 5, 6, 7, 8, 9, 10, 11, 12, 13, 14, 15, ...\n",
       "0_20_50    [3, 4, 5, 6, 7, 8, 9, 10, 11, 12, 13, 14, 15, ...\n",
       "0_21_00    [3, 4, 5, 6, 7, 8, 9, 10, 11, 12, 13, 14, 15, ...\n",
       "                                 ...                        \n",
       "9_21_10    [239, 240, 241, 242, 243, 244, 245, 246, 247, ...\n",
       "9_21_20    [239, 240, 241, 242, 243, 244, 245, 246, 247, ...\n",
       "9_21_30    [239, 240, 241, 242, 243, 244, 245, 246, 247, ...\n",
       "9_21_40    [239, 240, 241, 242, 243, 244, 245, 246, 247, ...\n",
       "9_21_50    [239, 240, 241, 242, 243, 244, 245, 246, 247, ...\n",
       "Length: 50355, dtype: object"
      ]
     },
     "execution_count": 10,
     "metadata": {},
     "output_type": "execute_result"
    }
   ],
   "source": [
    "def f(x):\n",
    "    '''\n",
    "    input: dataframe with columns trip_id and stop_id. the trip_id has only one unique value\n",
    "    output: list of all stop ids that this trip stops at\n",
    "    '''\n",
    "    return x.stop_id.to_list()\n",
    "\n",
    "trip_stops = trip_to_stop_id.groupby('trip_id').apply(f)\n",
    "trip_stops"
   ]
  },
  {
   "cell_type": "code",
   "execution_count": 11,
   "id": "8f23d55f",
   "metadata": {},
   "outputs": [
    {
     "data": {
      "text/plain": [
       "route_id\n",
       "0       [0_20_20, 0_20_30, 0_20_40, 0_20_50, 0_21_00, ...\n",
       "1       [1_07_00, 1_07_10, 1_07_20, 1_07_30, 1_07_40, ...\n",
       "2                                      [2_06_10, 2_06_20]\n",
       "3       [3_10_30, 3_10_50, 3_11_10, 3_11_20, 3_11_30, ...\n",
       "4       [4_06_00, 4_06_10, 4_06_50, 4_07_00, 4_07_10, ...\n",
       "                              ...                        \n",
       "1265    [1265_06_00, 1265_06_10, 1265_06_20, 1265_06_3...\n",
       "1266    [1266_06_10, 1266_06_30, 1266_07_20, 1266_07_3...\n",
       "1267    [1267_06_20, 1267_06_30, 1267_06_40, 1267_06_5...\n",
       "1268    [1268_14_30, 1268_14_50, 1268_15_00, 1268_15_5...\n",
       "1269    [1269_17_40, 1269_17_50, 1269_18_10, 1269_18_3...\n",
       "Length: 1187, dtype: object"
      ]
     },
     "execution_count": 11,
     "metadata": {},
     "output_type": "execute_result"
    }
   ],
   "source": [
    "def g(x):\n",
    "    '''Same as `f` above but collects trip ids instead of stop ids'''\n",
    "    return x.trip_id.to_list()\n",
    "\n",
    "route_trips = route_to_trip_id.groupby('route_id').apply(g)\n",
    "route_trips"
   ]
  },
  {
   "cell_type": "code",
   "execution_count": 12,
   "id": "b0ff9b28",
   "metadata": {},
   "outputs": [
    {
     "data": {
      "text/plain": [
       "route_id\n",
       "0       {3, 4, 5, 6, 7, 8, 9, 10, 11, 12, 13, 14, 15, ...\n",
       "1       {23, 24, 25, 26, 27, 28, 29, 30, 31, 32, 33, 3...\n",
       "2                            {69, 70, 71, 72, 73, 74, 75}\n",
       "3       {76, 77, 78, 79, 80, 81, 82, 83, 84, 85, 86, 8...\n",
       "4       {24, 25, 27, 28, 29, 30, 31, 32, 33, 34, 35, 3...\n",
       "                              ...                        \n",
       "1265    {2069, 415, 416, 2593, 417, 418, 419, 1340, 27...\n",
       "1266    {1296, 1297, 1298, 1299, 1300, 1301, 1302, 161...\n",
       "1267    {665, 829, 830, 831, 832, 833, 834, 835, 836, ...\n",
       "1268    {3109, 2153, 2154, 2155, 2156, 2157, 2158, 111...\n",
       "1269    {2439, 392, 393, 394, 395, 396, 397, 398, 399,...\n",
       "Length: 1187, dtype: object"
      ]
     },
     "execution_count": 12,
     "metadata": {},
     "output_type": "execute_result"
    }
   ],
   "source": [
    "def h(x):\n",
    "    '''\n",
    "    input: a list of trip_ids (a single route has multiple trips)\n",
    "    output: the set of stop_ids that every trip stops at\n",
    "    '''\n",
    "    result = set()\n",
    "    for trip_id in x:\n",
    "        result.update(trip_stops[trip_id])\n",
    "    return result\n",
    "\n",
    "route_to_stops = route_trips.apply(h)\n",
    "route_to_stops"
   ]
  },
  {
   "cell_type": "code",
   "execution_count": 13,
   "id": "cd43e3d9",
   "metadata": {},
   "outputs": [
    {
     "data": {
      "text/plain": [
       "route_id\n",
       "0       20\n",
       "1       46\n",
       "2        7\n",
       "3       28\n",
       "4       31\n",
       "        ..\n",
       "1265    24\n",
       "1266    62\n",
       "1267    47\n",
       "1268    89\n",
       "1269    57\n",
       "Length: 1187, dtype: int64"
      ]
     },
     "execution_count": 13,
     "metadata": {},
     "output_type": "execute_result"
    }
   ],
   "source": [
    "num_stops_for_every_route = route_to_stops.apply(len)\n",
    "num_stops_for_every_route"
   ]
  },
  {
   "cell_type": "code",
   "execution_count": 14,
   "id": "8347e66c",
   "metadata": {},
   "outputs": [
    {
     "data": {
      "text/plain": [
       "39.20134793597304"
      ]
     },
     "execution_count": 14,
     "metadata": {},
     "output_type": "execute_result"
    }
   ],
   "source": [
    "# Average number of stops\n",
    "num_stops_for_every_route.mean()"
   ]
  },
  {
   "cell_type": "code",
   "execution_count": 15,
   "id": "60a59f00",
   "metadata": {},
   "outputs": [
    {
     "data": {
      "text/plain": [
       "<AxesSubplot:ylabel='Frequency'>"
      ]
     },
     "execution_count": 15,
     "metadata": {},
     "output_type": "execute_result"
    },
    {
     "data": {
      "image/png": "[encoded data removed]",
      "text/plain": [
       "<Figure size 432x288 with 1 Axes>"
      ]
     },
     "metadata": {
      "needs_background": "light"
     },
     "output_type": "display_data"
    }
   ],
   "source": [
    "num_stops_for_every_route.plot.hist()"
   ]
  },
  {
   "cell_type": "markdown",
   "id": "4f542931",
   "metadata": {},
   "source": [
    "# Average route length"
   ]
  },
  {
   "cell_type": "markdown",
   "id": "bbab0169",
   "metadata": {},
   "source": [
    "stops.txt: stop_lon, stop_lat\n",
    "\n",
    "routes.txt: route_id\n",
    "\n",
    "result: {route_id: [(stop_lon, stop_lat)] for route_id in route_ids}"
   ]
  },
  {
   "cell_type": "code",
   "execution_count": 16,
   "id": "acbc5a88",
   "metadata": {},
   "outputs": [],
   "source": [
    "# wgs84 is in degrees, pseudo mercator is in meters\n",
    "wgs84 = pyproj.CRS('EPSG:4326')\n",
    "pseudo_mercator = pyproj.CRS('EPSG:3857')\n",
    "project = pyproj.Transformer.from_crs(wgs84, pseudo_mercator, always_xy=True).transform\n",
    "\n",
    "def transformer(p: Point):\n",
    "    return transform(project, p)"
   ]
  },
  {
   "cell_type": "code",
   "execution_count": 17,
   "id": "0d1fc6ad",
   "metadata": {},
   "outputs": [],
   "source": [
    "# def z(x):\n",
    "#     res = []\n",
    "#     for stop in x:\n",
    "#         df = stops[stops.stop_id == stop]\n",
    "#         res.append((df.stop_lon.iloc[0], df.stop_lat.iloc[0]))\n",
    "#     return res\n",
    "\n",
    "# route_to_stops.apply(z)"
   ]
  },
  {
   "cell_type": "code",
   "execution_count": 18,
   "id": "2e89d311",
   "metadata": {},
   "outputs": [
    {
     "data": {
      "text/plain": [
       "route_id\n",
       "0       [POINT (8581937.473719167 3357553.47980293), P...\n",
       "1       [POINT (8588110.028164163 3344921.146539369), ...\n",
       "2       [POINT (8563883.233424349 3327151.778796668), ...\n",
       "3       [POINT (8567644.38505978 3336016.868613827), P...\n",
       "4       [POINT (8588384.87598693 3343879.174672297), P...\n",
       "                              ...                        \n",
       "1265    [POINT (8572433.906151159 3342286.916402147), ...\n",
       "1266    [POINT (8602521.67208124 3328759.726609009), P...\n",
       "1267    [POINT (8602888.469803404 3314096.779721026), ...\n",
       "1268    [POINT (8562762.023513079 3327757.827654622), ...\n",
       "1269    [POINT (8578133.352760287 3340661.463687472), ...\n",
       "Length: 1187, dtype: object"
      ]
     },
     "execution_count": 18,
     "metadata": {},
     "output_type": "execute_result"
    }
   ],
   "source": [
    "# TODO this is rather slow too\n",
    "def z(x):\n",
    "    res = []\n",
    "    for stop in x:\n",
    "        df = stops[stops.stop_id == stop]\n",
    "        x_c = df.stop_lon.iloc[0]\n",
    "        y_c = df.stop_lat.iloc[0]\n",
    "        res.append(transformer(Point(x_c, y_c)))\n",
    "    return res\n",
    "\n",
    "route_stop_coords = route_to_stops.apply(z)\n",
    "route_stop_coords"
   ]
  },
  {
   "cell_type": "code",
   "execution_count": 19,
   "id": "3d791593",
   "metadata": {},
   "outputs": [
    {
     "data": {
      "text/plain": [
       "route_id\n",
       "0        12877.486982\n",
       "1        30744.084545\n",
       "2         8262.196860\n",
       "3        22570.834831\n",
       "4        45091.306219\n",
       "            ...      \n",
       "1265     46386.475744\n",
       "1266    197980.508379\n",
       "1267     92415.473493\n",
       "1268    349226.089849\n",
       "1269    151362.127355\n",
       "Length: 1187, dtype: float64"
      ]
     },
     "execution_count": 19,
     "metadata": {},
     "output_type": "execute_result"
    }
   ],
   "source": [
    "route_lengths = route_stop_coords.apply(lambda x: LineString(x).length)\n",
    "route_lengths"
   ]
  },
  {
   "cell_type": "code",
   "execution_count": 20,
   "id": "0841db3a",
   "metadata": {},
   "outputs": [
    {
     "data": {
      "text/plain": [
       "107266.6276246442"
      ]
     },
     "execution_count": 20,
     "metadata": {},
     "output_type": "execute_result"
    }
   ],
   "source": [
    "# Average route length in meters\n",
    "route_lengths.mean()"
   ]
  },
  {
   "cell_type": "code",
   "execution_count": 21,
   "id": "f3d6faa1",
   "metadata": {},
   "outputs": [
    {
     "data": {
      "text/plain": [
       "<AxesSubplot:ylabel='Frequency'>"
      ]
     },
     "execution_count": 21,
     "metadata": {},
     "output_type": "execute_result"
    },
    {
     "data": {
      "image/png": "[encoded data removed]",
      "text/plain": [
       "<Figure size 432x288 with 1 Axes>"
      ]
     },
     "metadata": {
      "needs_background": "light"
     },
     "output_type": "display_data"
    }
   ],
   "source": [
    "route_lengths.plot.hist()"
   ]
  },
  {
   "cell_type": "markdown",
   "id": "66e32d68",
   "metadata": {},
   "source": [
    "# Average distance between stops"
   ]
  },
  {
   "cell_type": "code",
   "execution_count": 22,
   "id": "85f5ab84",
   "metadata": {},
   "outputs": [],
   "source": [
    "def calc_distances(x):\n",
    "    '''\n",
    "    input: [(float, float)]\n",
    "        a list of coordinates\n",
    "    output: [float]\n",
    "        the distances between each coordinates\n",
    "    '''\n",
    "    return [Point(a).distance(Point(b)) for a, b in zip(x, x[1:])]"
   ]
  },
  {
   "cell_type": "code",
   "execution_count": 23,
   "id": "39382502",
   "metadata": {},
   "outputs": [
    {
     "data": {
      "text/plain": [
       "route_id\n",
       "0       [321.9643107629447, 254.33472327080472, 328.21...\n",
       "1       [1077.611570766103, 1308.7206422144516, 682.18...\n",
       "2       [2020.2658950779826, 623.7750065142687, 859.07...\n",
       "3       [711.0090631376837, 838.3606140627169, 182.089...\n",
       "4       [1308.7206422144516, 1278.836850338327, 821.24...\n",
       "                              ...                        \n",
       "1265    [2792.408894764671, 376.9216673730307, 4450.98...\n",
       "1266    [605.9380301503602, 376.8051193827688, 329.656...\n",
       "1267    [16880.945352753235, 790.2810089899889, 863.78...\n",
       "1268    [17988.341875594277, 334.8003939635251, 750.04...\n",
       "1269    [8208.067761220836, 282.8000845912758, 694.153...\n",
       "Length: 1187, dtype: object"
      ]
     },
     "execution_count": 23,
     "metadata": {},
     "output_type": "execute_result"
    }
   ],
   "source": [
    "route_stop_dists = route_stop_coords.apply(calc_distances)\n",
    "route_stop_dists"
   ]
  },
  {
   "cell_type": "code",
   "execution_count": 24,
   "id": "783a53f8",
   "metadata": {},
   "outputs": [
    {
     "data": {
      "text/plain": [
       "route_id\n",
       "0        677.762473\n",
       "1        683.201879\n",
       "2       1377.032810\n",
       "3        835.956846\n",
       "4       1503.043541\n",
       "           ...     \n",
       "1265    2016.803293\n",
       "1266    3245.582105\n",
       "1267    2009.032032\n",
       "1268    3968.478294\n",
       "1269    2702.895131\n",
       "Length: 1187, dtype: float64"
      ]
     },
     "execution_count": 24,
     "metadata": {},
     "output_type": "execute_result"
    }
   ],
   "source": [
    "route_avg_stop_dists = route_stop_dists.apply(np.mean)\n",
    "route_avg_stop_dists"
   ]
  },
  {
   "cell_type": "code",
   "execution_count": 25,
   "id": "3c7a2d2c",
   "metadata": {},
   "outputs": [
    {
     "data": {
      "text/plain": [
       "2490.817967252001"
      ]
     },
     "execution_count": 25,
     "metadata": {},
     "output_type": "execute_result"
    }
   ],
   "source": [
    "# Global average distance between stops (TODO: what units?)\n",
    "route_avg_stop_dists.mean()"
   ]
  },
  {
   "cell_type": "code",
   "execution_count": 26,
   "id": "1434b143",
   "metadata": {},
   "outputs": [
    {
     "data": {
      "text/plain": [
       "<AxesSubplot:ylabel='Frequency'>"
      ]
     },
     "execution_count": 26,
     "metadata": {},
     "output_type": "execute_result"
    },
    {
     "data": {
      "image/png": "[encoded data removed]",
      "text/plain": [
       "<Figure size 432x288 with 1 Axes>"
      ]
     },
     "metadata": {
      "needs_background": "light"
     },
     "output_type": "display_data"
    }
   ],
   "source": [
    "route_avg_stop_dists.plot.hist()"
   ]
  },
  {
   "cell_type": "code",
   "execution_count": 27,
   "id": "43f0f86e",
   "metadata": {},
   "outputs": [
    {
     "data": {
      "text/plain": [
       "<AxesSubplot:ylabel='Frequency'>"
      ]
     },
     "execution_count": 27,
     "metadata": {},
     "output_type": "execute_result"
    },
    {
     "data": {
      "image/png": "[encoded data removed]",
      "text/plain": [
       "<Figure size 432x288 with 1 Axes>"
      ]
     },
     "metadata": {
      "needs_background": "light"
     },
     "output_type": "display_data"
    }
   ],
   "source": [
    "# The individual distances between every stops in every route\n",
    "route_stop_dists.explode().plot.hist()"
   ]
  },
  {
   "cell_type": "markdown",
   "id": "d25680f9",
   "metadata": {},
   "source": [
    "# Median bus speed"
   ]
  },
  {
   "cell_type": "markdown",
   "id": "18fefd01",
   "metadata": {},
   "source": [
    "We can calculate an average speed (displacement/time) for every trip between every stop. That means we can plot a speed-time graph (time series showing how speed varies) for every trip\n",
    "\n",
    "But that's probably too granular, so we can calculate a single average speed for the entire trip. That means we'll have an average speed for every single trip. This is one-dimensional data and can be plotted on a histogram.\n",
    "\n",
    "The global median bus speed can be calculated by taking the median \"average speed\" from every single trip."
   ]
  },
  {
   "cell_type": "code",
   "execution_count": 28,
   "id": "55c27dce",
   "metadata": {},
   "outputs": [
    {
     "data": {
      "text/html": [
       "<div>\n",
       "<style scoped>\n",
       "    .dataframe tbody tr th:only-of-type {\n",
       "        vertical-align: middle;\n",
       "    }\n",
       "\n",
       "    .dataframe tbody tr th {\n",
       "        vertical-align: top;\n",
       "    }\n",
       "\n",
       "    .dataframe thead th {\n",
       "        text-align: right;\n",
       "    }\n",
       "</style>\n",
       "<table border=\"1\" class=\"dataframe\">\n",
       "  <thead>\n",
       "    <tr style=\"text-align: right;\">\n",
       "      <th></th>\n",
       "      <th>trip_id</th>\n",
       "      <th>arrival_time</th>\n",
       "      <th>departure_time</th>\n",
       "      <th>stop_id_times</th>\n",
       "      <th>stop_sequence</th>\n",
       "      <th>stop_id</th>\n",
       "      <th>stop_lat</th>\n",
       "      <th>stop_lon</th>\n",
       "    </tr>\n",
       "  </thead>\n",
       "  <tbody>\n",
       "    <tr>\n",
       "      <th>0</th>\n",
       "      <td>1_07_00</td>\n",
       "      <td>07:00:00</td>\n",
       "      <td>07:00:00</td>\n",
       "      <td>23</td>\n",
       "      <td>0</td>\n",
       "      <td>23.0</td>\n",
       "      <td>28.758318</td>\n",
       "      <td>77.148305</td>\n",
       "    </tr>\n",
       "    <tr>\n",
       "      <th>1</th>\n",
       "      <td>1_07_00</td>\n",
       "      <td>07:03:45</td>\n",
       "      <td>07:03:45</td>\n",
       "      <td>24</td>\n",
       "      <td>1</td>\n",
       "      <td>24.0</td>\n",
       "      <td>28.750112</td>\n",
       "      <td>77.150774</td>\n",
       "    </tr>\n",
       "    <tr>\n",
       "      <th>2</th>\n",
       "      <td>1_07_00</td>\n",
       "      <td>07:08:20</td>\n",
       "      <td>07:08:20</td>\n",
       "      <td>25</td>\n",
       "      <td>2</td>\n",
       "      <td>25.0</td>\n",
       "      <td>28.740200</td>\n",
       "      <td>77.154000</td>\n",
       "    </tr>\n",
       "    <tr>\n",
       "      <th>3</th>\n",
       "      <td>1_07_00</td>\n",
       "      <td>07:10:43</td>\n",
       "      <td>07:10:43</td>\n",
       "      <td>26</td>\n",
       "      <td>3</td>\n",
       "      <td>26.0</td>\n",
       "      <td>28.735084</td>\n",
       "      <td>77.155874</td>\n",
       "    </tr>\n",
       "    <tr>\n",
       "      <th>4</th>\n",
       "      <td>1_07_00</td>\n",
       "      <td>07:12:51</td>\n",
       "      <td>07:12:51</td>\n",
       "      <td>27</td>\n",
       "      <td>4</td>\n",
       "      <td>27.0</td>\n",
       "      <td>28.731117</td>\n",
       "      <td>77.158967</td>\n",
       "    </tr>\n",
       "    <tr>\n",
       "      <th>...</th>\n",
       "      <td>...</td>\n",
       "      <td>...</td>\n",
       "      <td>...</td>\n",
       "      <td>...</td>\n",
       "      <td>...</td>\n",
       "      <td>...</td>\n",
       "      <td>...</td>\n",
       "      <td>...</td>\n",
       "    </tr>\n",
       "    <tr>\n",
       "      <th>2250285</th>\n",
       "      <td>1268_21_30</td>\n",
       "      <td>24:50:16</td>\n",
       "      <td>24:50:16</td>\n",
       "      <td>371</td>\n",
       "      <td>84</td>\n",
       "      <td>371.0</td>\n",
       "      <td>28.604417</td>\n",
       "      <td>76.932400</td>\n",
       "    </tr>\n",
       "    <tr>\n",
       "      <th>2250286</th>\n",
       "      <td>1268_21_30</td>\n",
       "      <td>24:53:12</td>\n",
       "      <td>24:53:12</td>\n",
       "      <td>372</td>\n",
       "      <td>85</td>\n",
       "      <td>372.0</td>\n",
       "      <td>28.606975</td>\n",
       "      <td>76.939310</td>\n",
       "    </tr>\n",
       "    <tr>\n",
       "      <th>2250287</th>\n",
       "      <td>1268_21_30</td>\n",
       "      <td>24:55:25</td>\n",
       "      <td>24:55:25</td>\n",
       "      <td>1736</td>\n",
       "      <td>86</td>\n",
       "      <td>1753.0</td>\n",
       "      <td>28.698896</td>\n",
       "      <td>77.306292</td>\n",
       "    </tr>\n",
       "    <tr>\n",
       "      <th>2250288</th>\n",
       "      <td>1268_21_30</td>\n",
       "      <td>25:02:21</td>\n",
       "      <td>25:02:21</td>\n",
       "      <td>1738</td>\n",
       "      <td>87</td>\n",
       "      <td>1755.0</td>\n",
       "      <td>28.700396</td>\n",
       "      <td>77.295624</td>\n",
       "    </tr>\n",
       "    <tr>\n",
       "      <th>2250289</th>\n",
       "      <td>1268_21_30</td>\n",
       "      <td>25:06:54</td>\n",
       "      <td>25:06:54</td>\n",
       "      <td>3109</td>\n",
       "      <td>88</td>\n",
       "      <td>3187.0</td>\n",
       "      <td>28.837513</td>\n",
       "      <td>77.171728</td>\n",
       "    </tr>\n",
       "  </tbody>\n",
       "</table>\n",
       "<p>2250290 rows × 8 columns</p>\n",
       "</div>"
      ],
      "text/plain": [
       "            trip_id arrival_time departure_time  stop_id_times  stop_sequence  \\\n",
       "0           1_07_00     07:00:00       07:00:00             23              0   \n",
       "1           1_07_00     07:03:45       07:03:45             24              1   \n",
       "2           1_07_00     07:08:20       07:08:20             25              2   \n",
       "3           1_07_00     07:10:43       07:10:43             26              3   \n",
       "4           1_07_00     07:12:51       07:12:51             27              4   \n",
       "...             ...          ...            ...            ...            ...   \n",
       "2250285  1268_21_30     24:50:16       24:50:16            371             84   \n",
       "2250286  1268_21_30     24:53:12       24:53:12            372             85   \n",
       "2250287  1268_21_30     24:55:25       24:55:25           1736             86   \n",
       "2250288  1268_21_30     25:02:21       25:02:21           1738             87   \n",
       "2250289  1268_21_30     25:06:54       25:06:54           3109             88   \n",
       "\n",
       "         stop_id   stop_lat   stop_lon  \n",
       "0           23.0  28.758318  77.148305  \n",
       "1           24.0  28.750112  77.150774  \n",
       "2           25.0  28.740200  77.154000  \n",
       "3           26.0  28.735084  77.155874  \n",
       "4           27.0  28.731117  77.158967  \n",
       "...          ...        ...        ...  \n",
       "2250285    371.0  28.604417  76.932400  \n",
       "2250286    372.0  28.606975  76.939310  \n",
       "2250287   1753.0  28.698896  77.306292  \n",
       "2250288   1755.0  28.700396  77.295624  \n",
       "2250289   3187.0  28.837513  77.171728  \n",
       "\n",
       "[2250290 rows x 8 columns]"
      ]
     },
     "execution_count": 28,
     "metadata": {},
     "output_type": "execute_result"
    }
   ],
   "source": [
    "# stop_times has time but we need displacement as well\n",
    "stop_times_with_coords = stop_times.join(\n",
    "    stops[['stop_id', 'stop_lat', 'stop_lon']], on='stop_id', lsuffix='_times'\n",
    ")\n",
    "stop_times_with_coords"
   ]
  },
  {
   "cell_type": "code",
   "execution_count": 29,
   "id": "6d7921b4",
   "metadata": {},
   "outputs": [
    {
     "data": {
      "text/plain": [
       "'2021-11-23'"
      ]
     },
     "execution_count": 29,
     "metadata": {},
     "output_type": "execute_result"
    }
   ],
   "source": [
    "# today will change based on the current time but it doesn't matter, because I only care about\n",
    "# change in time\n",
    "today = date.today()\n",
    "str(today)"
   ]
  },
  {
   "cell_type": "code",
   "execution_count": 30,
   "id": "fae29888",
   "metadata": {},
   "outputs": [],
   "source": [
    "splitted = stop_times_with_coords.departure_time.str.split(':')"
   ]
  },
  {
   "cell_type": "code",
   "execution_count": 31,
   "id": "2a18ff86",
   "metadata": {},
   "outputs": [
    {
     "data": {
      "text/plain": [
       "0          [07, 00, 00]\n",
       "1          [07, 03, 45]\n",
       "2          [07, 08, 20]\n",
       "3          [07, 10, 43]\n",
       "4          [07, 12, 51]\n",
       "               ...     \n",
       "2250285    [24, 50, 16]\n",
       "2250286    [24, 53, 12]\n",
       "2250287    [24, 55, 25]\n",
       "2250288    [25, 02, 21]\n",
       "2250289    [25, 06, 54]\n",
       "Name: departure_time, Length: 2250290, dtype: object"
      ]
     },
     "execution_count": 31,
     "metadata": {},
     "output_type": "execute_result"
    }
   ],
   "source": [
    "splitted"
   ]
  },
  {
   "cell_type": "code",
   "execution_count": 32,
   "id": "47689d7d",
   "metadata": {},
   "outputs": [],
   "source": [
    "def fix_over_24h(hms):\n",
    "    hour_int = int(hms[0])\n",
    "    if hour_int >= 24:\n",
    "        date = today + timedelta(days=1)\n",
    "    else:\n",
    "        date = today\n",
    "    hour = hour_int % 24\n",
    "    min_ = int(hms[1])\n",
    "    sec = int(hms[2])\n",
    "    return datetime.combine(date, dt.time(hour, min_, sec))"
   ]
  },
  {
   "cell_type": "code",
   "execution_count": 33,
   "id": "a61eeec0",
   "metadata": {},
   "outputs": [],
   "source": [
    "fixed = splitted.apply(fix_over_24h)"
   ]
  },
  {
   "cell_type": "code",
   "execution_count": 34,
   "id": "c8c2f8dd",
   "metadata": {},
   "outputs": [],
   "source": [
    "stop_times_with_coords['departure_time_fixed'] = fixed"
   ]
  },
  {
   "cell_type": "code",
   "execution_count": 35,
   "id": "c3496d80",
   "metadata": {},
   "outputs": [
    {
     "data": {
      "text/plain": [
       "trip_id\n",
       "0_20_20    [4.734769275925657, 4.7099022827926795, 4.8266...\n",
       "0_20_30    [4.734769275925657, 4.7099022827926795, 4.8266...\n",
       "0_20_40    [4.734769275925657, 4.7099022827926795, 4.8266...\n",
       "0_20_50    [4.734769275925657, 4.7099022827926795, 4.8266...\n",
       "0_21_00    [4.734769275925657, 4.7099022827926795, 4.8266...\n",
       "                                 ...                        \n",
       "9_21_10    [4.775418334656012, 4.7574275151170795, 4.7758...\n",
       "9_21_20    [4.775418334656012, 4.7574275151170795, 4.7758...\n",
       "9_21_30    [4.775418334656012, 4.7574275151170795, 4.7758...\n",
       "9_21_40    [4.775418334656012, 4.7574275151170795, 4.7758...\n",
       "9_21_50    [4.775418334656012, 4.7574275151170795, 4.7758...\n",
       "Length: 50355, dtype: object"
      ]
     },
     "execution_count": 35,
     "metadata": {},
     "output_type": "execute_result"
    }
   ],
   "source": [
    "# TODO this one is really slow, see if it's possible to vectorize\n",
    "def calc_speed(x):\n",
    "    times = x['departure_time_fixed'].replace().astype('datetime64[ns]')\n",
    "    delta_times = [(b - a).total_seconds() for a, b in zip(times, times[1:])]\n",
    "    coords = [transformer(Point(x, y)) for x, y in zip(x['stop_lon'], x['stop_lat'])]\n",
    "    displacements = [b.distance(a) for a, b in zip(coords, coords[1:])]\n",
    "    speeds = [\n",
    "        displacement / delta_time\n",
    "        for displacement, delta_time in zip(displacements, delta_times)\n",
    "        if delta_time != 0\n",
    "    ]\n",
    "    return speeds\n",
    "    \n",
    "speed_between_stops = stop_times_with_coords.groupby('trip_id').apply(calc_speed)\n",
    "speed_between_stops"
   ]
  },
  {
   "cell_type": "code",
   "execution_count": 36,
   "id": "3927cc73",
   "metadata": {},
   "outputs": [],
   "source": [
    "# speed_between_stops_idx = speed_between_stops.apply(lambda x: list(enumerate(x)))"
   ]
  },
  {
   "cell_type": "code",
   "execution_count": 37,
   "id": "9dd9c0ab",
   "metadata": {},
   "outputs": [],
   "source": [
    "# speed_between_stops_idx"
   ]
  },
  {
   "cell_type": "code",
   "execution_count": 38,
   "id": "7dabe260",
   "metadata": {},
   "outputs": [],
   "source": [
    "# speed_between_stops_df = pd.DataFrame(speed_between_stops_idx, columns=['speed']).explode('speed')\n",
    "# speed_between_stops_df.reset_index(inplace=True)\n",
    "# speed_between_stops_df"
   ]
  },
  {
   "cell_type": "code",
   "execution_count": 39,
   "id": "b38bc892",
   "metadata": {},
   "outputs": [],
   "source": [
    "# speed_between_stops_df['idx'] = speed_between_stops_df.speed.map(lambda x: x[0])\n",
    "# speed_between_stops_df['speed'] = speed_between_stops_df.speed.map(lambda x: x[1])"
   ]
  },
  {
   "cell_type": "code",
   "execution_count": 40,
   "id": "f14a793c",
   "metadata": {},
   "outputs": [],
   "source": [
    "# rand_trips = np.random.choice(speed_between_stops_df.trip_id.unique(), 10)\n",
    "# rand_trips"
   ]
  },
  {
   "cell_type": "code",
   "execution_count": 41,
   "id": "016c74a1",
   "metadata": {},
   "outputs": [],
   "source": [
    "#sub = speed_between_stops_df[speed_between_stops_df.trip_id.isin(rand_trips)]\n",
    "#sub"
   ]
  },
  {
   "cell_type": "code",
   "execution_count": 42,
   "id": "caf0378a",
   "metadata": {},
   "outputs": [],
   "source": [
    "# This plots the average speed of the buses along their trips\n",
    "# y-axis: average speed\n",
    "# x-axis: stop number\n",
    "#sns.lineplot(x=sub.idx, y=sub.speed, hue=sub.trip_id)"
   ]
  },
  {
   "cell_type": "code",
   "execution_count": 43,
   "id": "bc0ccd82",
   "metadata": {},
   "outputs": [
    {
     "data": {
      "text/plain": [
       "trip_id\n",
       "0_20_20    4.767269\n",
       "0_20_30    4.767269\n",
       "0_20_40    4.767269\n",
       "0_20_50    4.767269\n",
       "0_21_00    4.767269\n",
       "             ...   \n",
       "9_21_10    4.767423\n",
       "9_21_20    4.767423\n",
       "9_21_30    4.767423\n",
       "9_21_40    4.767423\n",
       "9_21_50    4.767423\n",
       "Length: 50355, dtype: float64"
      ]
     },
     "execution_count": 43,
     "metadata": {},
     "output_type": "execute_result"
    }
   ],
   "source": [
    "avg_speed_between_stops = speed_between_stops.apply(np.mean)\n",
    "avg_speed_between_stops"
   ]
  },
  {
   "cell_type": "code",
   "execution_count": 44,
   "id": "e186b79b",
   "metadata": {},
   "outputs": [
    {
     "data": {
      "text/plain": [
       "<AxesSubplot:ylabel='Frequency'>"
      ]
     },
     "execution_count": 44,
     "metadata": {},
     "output_type": "execute_result"
    },
    {
     "data": {
      "image/png": "[encoded data removed]",
      "text/plain": [
       "<Figure size 432x288 with 1 Axes>"
      ]
     },
     "metadata": {
      "needs_background": "light"
     },
     "output_type": "display_data"
    }
   ],
   "source": [
    "avg_speed_between_stops.plot.hist()"
   ]
  },
  {
   "cell_type": "code",
   "execution_count": 45,
   "id": "59c61d69",
   "metadata": {},
   "outputs": [
    {
     "data": {
      "text/plain": [
       "62.42350482150976"
      ]
     },
     "execution_count": 45,
     "metadata": {},
     "output_type": "execute_result"
    }
   ],
   "source": [
    "# Global median bus speed\n",
    "avg_speed_between_stops.median()"
   ]
  },
  {
   "cell_type": "markdown",
   "id": "fb3f43e3",
   "metadata": {},
   "source": [
    "# Number of links"
   ]
  },
  {
   "cell_type": "markdown",
   "id": "903fc95d",
   "metadata": {},
   "source": [
    "# Number of nodes"
   ]
  },
  {
   "cell_type": "markdown",
   "id": "86146f10",
   "metadata": {},
   "source": [
    "# Network diameter"
   ]
  },
  {
   "cell_type": "code",
   "execution_count": 46,
   "id": "a2a6ca0b",
   "metadata": {},
   "outputs": [
    {
     "data": {
      "text/plain": [
       "route_id\n",
       "0       [(77.09285600000003, 28.857752), (77.095745999...\n",
       "1       [(77.14830500000002, 28.758318), (77.150774, 2...\n",
       "2       [(76.930672, 28.618288), (76.94478225753659, 2...\n",
       "3       [(76.96445899999998, 28.688172), (76.9708, 28....\n",
       "4       [(77.150774, 28.750112), (77.154, 28.7402), (7...\n",
       "                              ...                        \n",
       "1265    [(77.00748399999998, 28.73757100000001), (77.0...\n",
       "1266    [(77.277767, 28.630967), (77.28215, 28.6338), ...\n",
       "1267    [(77.281062, 28.515290000000004), (77.224176, ...\n",
       "1268    [(76.9206, 28.623067), (77.06764, 28.681877000...\n",
       "1269    [(77.058683, 28.724767), (77.1274, 28.70132000...\n",
       "Length: 1187, dtype: object"
      ]
     },
     "execution_count": 46,
     "metadata": {},
     "output_type": "execute_result"
    }
   ],
   "source": [
    "def z(x):\n",
    "    res = []\n",
    "    for stop in x:\n",
    "        df = stops[stops.stop_id == stop]\n",
    "        res.append((df.stop_lon.iloc[0], df.stop_lat.iloc[0]))\n",
    "    return res\n",
    "\n",
    "route_stop_coords = route_to_stops.apply(z)\n",
    "route_stop_coords"
   ]
  },
  {
   "cell_type": "code",
   "execution_count": 47,
   "id": "4e28b8f5",
   "metadata": {},
   "outputs": [],
   "source": [
    "route_stop_coords_dict = route_stop_coords.to_dict()"
   ]
  },
  {
   "cell_type": "code",
   "execution_count": 48,
   "id": "8997c4a6",
   "metadata": {
    "tags": []
   },
   "outputs": [],
   "source": [
    "g = nx.from_dict_of_lists(route_stop_coords_dict)"
   ]
  },
  {
   "cell_type": "code",
   "execution_count": 49,
   "id": "3a894296",
   "metadata": {},
   "outputs": [
    {
     "data": {
      "text/plain": [
       "10"
      ]
     },
     "execution_count": 49,
     "metadata": {},
     "output_type": "execute_result"
    }
   ],
   "source": [
    "nx.algorithms.distance_measures.diameter(g)"
   ]
  },
  {
   "cell_type": "markdown",
   "id": "4137d1a0",
   "metadata": {},
   "source": [
    "## Trying to use Point instead of coord... but too slow"
   ]
  },
  {
   "cell_type": "code",
   "execution_count": 50,
   "id": "78bd45cc",
   "metadata": {},
   "outputs": [
    {
     "data": {
      "text/html": [
       "<div>\n",
       "<style scoped>\n",
       "    .dataframe tbody tr th:only-of-type {\n",
       "        vertical-align: middle;\n",
       "    }\n",
       "\n",
       "    .dataframe tbody tr th {\n",
       "        vertical-align: top;\n",
       "    }\n",
       "\n",
       "    .dataframe thead th {\n",
       "        text-align: right;\n",
       "    }\n",
       "</style>\n",
       "<table border=\"1\" class=\"dataframe\">\n",
       "  <thead>\n",
       "    <tr style=\"text-align: right;\">\n",
       "      <th></th>\n",
       "      <th>coords</th>\n",
       "    </tr>\n",
       "    <tr>\n",
       "      <th>route_id</th>\n",
       "      <th></th>\n",
       "    </tr>\n",
       "  </thead>\n",
       "  <tbody>\n",
       "    <tr>\n",
       "      <th>0</th>\n",
       "      <td>(77.09285600000003, 28.857752)</td>\n",
       "    </tr>\n",
       "    <tr>\n",
       "      <th>0</th>\n",
       "      <td>(77.09574599999998, 28.857652)</td>\n",
       "    </tr>\n",
       "    <tr>\n",
       "      <th>0</th>\n",
       "      <td>(77.097951, 28.857128000000003)</td>\n",
       "    </tr>\n",
       "    <tr>\n",
       "      <th>0</th>\n",
       "      <td>(77.09790699999998, 28.85454600000001)</td>\n",
       "    </tr>\n",
       "    <tr>\n",
       "      <th>0</th>\n",
       "      <td>(77.097849, 28.85177100000001)</td>\n",
       "    </tr>\n",
       "    <tr>\n",
       "      <th>...</th>\n",
       "      <td>...</td>\n",
       "    </tr>\n",
       "    <tr>\n",
       "      <th>1269</th>\n",
       "      <td>(77.13964, 28.71616)</td>\n",
       "    </tr>\n",
       "    <tr>\n",
       "      <th>1269</th>\n",
       "      <td>(77.13884, 28.71348)</td>\n",
       "    </tr>\n",
       "    <tr>\n",
       "      <th>1269</th>\n",
       "      <td>(77.13649000000002, 28.70992)</td>\n",
       "    </tr>\n",
       "    <tr>\n",
       "      <th>1269</th>\n",
       "      <td>(77.13453, 28.70771)</td>\n",
       "    </tr>\n",
       "    <tr>\n",
       "      <th>1269</th>\n",
       "      <td>(77.033283, 28.699368)</td>\n",
       "    </tr>\n",
       "  </tbody>\n",
       "</table>\n",
       "<p>46532 rows × 1 columns</p>\n",
       "</div>"
      ],
      "text/plain": [
       "                                          coords\n",
       "route_id                                        \n",
       "0                 (77.09285600000003, 28.857752)\n",
       "0                 (77.09574599999998, 28.857652)\n",
       "0                (77.097951, 28.857128000000003)\n",
       "0         (77.09790699999998, 28.85454600000001)\n",
       "0                 (77.097849, 28.85177100000001)\n",
       "...                                          ...\n",
       "1269                        (77.13964, 28.71616)\n",
       "1269                        (77.13884, 28.71348)\n",
       "1269               (77.13649000000002, 28.70992)\n",
       "1269                        (77.13453, 28.70771)\n",
       "1269                      (77.033283, 28.699368)\n",
       "\n",
       "[46532 rows x 1 columns]"
      ]
     },
     "execution_count": 50,
     "metadata": {},
     "output_type": "execute_result"
    }
   ],
   "source": [
    "route_stop_coords_df = pd.DataFrame(route_stop_coords, columns=['coords']).explode('coords')\n",
    "route_stop_coords_df"
   ]
  },
  {
   "cell_type": "code",
   "execution_count": 51,
   "id": "f9cd8805",
   "metadata": {},
   "outputs": [],
   "source": [
    "route_stop_coords_df.coords = route_stop_coords_df.coords.apply(Point)"
   ]
  },
  {
   "cell_type": "code",
   "execution_count": 52,
   "id": "04b51555",
   "metadata": {},
   "outputs": [
    {
     "data": {
      "text/html": [
       "<div>\n",
       "<style scoped>\n",
       "    .dataframe tbody tr th:only-of-type {\n",
       "        vertical-align: middle;\n",
       "    }\n",
       "\n",
       "    .dataframe tbody tr th {\n",
       "        vertical-align: top;\n",
       "    }\n",
       "\n",
       "    .dataframe thead th {\n",
       "        text-align: right;\n",
       "    }\n",
       "</style>\n",
       "<table border=\"1\" class=\"dataframe\">\n",
       "  <thead>\n",
       "    <tr style=\"text-align: right;\">\n",
       "      <th></th>\n",
       "      <th>coords</th>\n",
       "    </tr>\n",
       "    <tr>\n",
       "      <th>route_id</th>\n",
       "      <th></th>\n",
       "    </tr>\n",
       "  </thead>\n",
       "  <tbody>\n",
       "    <tr>\n",
       "      <th>0</th>\n",
       "      <td>POINT (77.09285600000003 28.857752)</td>\n",
       "    </tr>\n",
       "    <tr>\n",
       "      <th>0</th>\n",
       "      <td>POINT (77.09574599999998 28.857652)</td>\n",
       "    </tr>\n",
       "    <tr>\n",
       "      <th>0</th>\n",
       "      <td>POINT (77.09795099999999 28.857128)</td>\n",
       "    </tr>\n",
       "    <tr>\n",
       "      <th>0</th>\n",
       "      <td>POINT (77.09790699999998 28.85454600000001)</td>\n",
       "    </tr>\n",
       "    <tr>\n",
       "      <th>0</th>\n",
       "      <td>POINT (77.097849 28.85177100000001)</td>\n",
       "    </tr>\n",
       "    <tr>\n",
       "      <th>...</th>\n",
       "      <td>...</td>\n",
       "    </tr>\n",
       "    <tr>\n",
       "      <th>1269</th>\n",
       "      <td>POINT (77.13964 28.71616)</td>\n",
       "    </tr>\n",
       "    <tr>\n",
       "      <th>1269</th>\n",
       "      <td>POINT (77.13884 28.71348)</td>\n",
       "    </tr>\n",
       "    <tr>\n",
       "      <th>1269</th>\n",
       "      <td>POINT (77.13649000000002 28.70992)</td>\n",
       "    </tr>\n",
       "    <tr>\n",
       "      <th>1269</th>\n",
       "      <td>POINT (77.13453 28.70771)</td>\n",
       "    </tr>\n",
       "    <tr>\n",
       "      <th>1269</th>\n",
       "      <td>POINT (77.033283 28.699368)</td>\n",
       "    </tr>\n",
       "  </tbody>\n",
       "</table>\n",
       "<p>46532 rows × 1 columns</p>\n",
       "</div>"
      ],
      "text/plain": [
       "                                               coords\n",
       "route_id                                             \n",
       "0                 POINT (77.09285600000003 28.857752)\n",
       "0                 POINT (77.09574599999998 28.857652)\n",
       "0                 POINT (77.09795099999999 28.857128)\n",
       "0         POINT (77.09790699999998 28.85454600000001)\n",
       "0                 POINT (77.097849 28.85177100000001)\n",
       "...                                               ...\n",
       "1269                        POINT (77.13964 28.71616)\n",
       "1269                        POINT (77.13884 28.71348)\n",
       "1269               POINT (77.13649000000002 28.70992)\n",
       "1269                        POINT (77.13453 28.70771)\n",
       "1269                      POINT (77.033283 28.699368)\n",
       "\n",
       "[46532 rows x 1 columns]"
      ]
     },
     "execution_count": 52,
     "metadata": {},
     "output_type": "execute_result"
    }
   ],
   "source": [
    "route_stop_coords_gdf = gpd.GeoDataFrame(route_stop_coords_df)\n",
    "route_stop_coords_gdf"
   ]
  },
  {
   "cell_type": "code",
   "execution_count": 53,
   "id": "ebecd4b9",
   "metadata": {},
   "outputs": [],
   "source": [
    "route_stop_coords_gdf.geometry = route_stop_coords_gdf.coords"
   ]
  },
  {
   "cell_type": "code",
   "execution_count": 54,
   "id": "27e88369",
   "metadata": {},
   "outputs": [],
   "source": [
    "G = momepy.gdf_to_nx(route_stop_coords_gdf)"
   ]
  },
  {
   "cell_type": "code",
   "execution_count": 55,
   "id": "1671e585",
   "metadata": {
    "tags": []
   },
   "outputs": [],
   "source": [
    "#nx.draw(G)"
   ]
  },
  {
   "cell_type": "markdown",
   "id": "65230fc8",
   "metadata": {},
   "source": [
    "# Network density"
   ]
  },
  {
   "cell_type": "code",
   "execution_count": 56,
   "id": "a44200a8",
   "metadata": {},
   "outputs": [
    {
     "data": {
      "text/plain": [
       "0.0033170887927784468"
      ]
     },
     "execution_count": 56,
     "metadata": {},
     "output_type": "execute_result"
    }
   ],
   "source": [
    "nx.classes.function.density(g)"
   ]
  }
 ],
 "metadata": {
  "kernelspec": {
   "display_name": "Python 3 (ipykernel)",
   "language": "python",
   "name": "python3"
  },
  "language_info": {
   "codemirror_mode": {
    "name": "ipython",
    "version": 3
   },
   "file_extension": ".py",
   "mimetype": "text/x-python",
   "name": "python",
   "nbconvert_exporter": "python",
   "pygments_lexer": "ipython3",
   "version": "3.9.1"
  }
 },
 "nbformat": 4,
 "nbformat_minor": 5
}
