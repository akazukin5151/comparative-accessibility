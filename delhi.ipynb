{
 "cells": [
  {
   "cell_type": "code",
   "execution_count": 1,
   "id": "6aba1ccc",
   "metadata": {},
   "outputs": [
    {
     "name": "stderr",
     "output_type": "stream",
     "text": [
      "/home/twenty/miniconda3/lib/python3.9/site-packages/geopandas/_compat.py:111: UserWarning: The Shapely GEOS version (3.8.0-CAPI-1.13.1 ) is incompatible with the GEOS version PyGEOS was compiled with (3.9.0-CAPI-1.16.2). Conversions between both will be slow.\n",
      "  warnings.warn(\n"
     ]
    }
   ],
   "source": [
    "import datetime as dt\n",
    "from datetime import date\n",
    "from datetime import datetime\n",
    "from datetime import timedelta\n",
    "import pandas as pd\n",
    "import geopandas as gpd\n",
    "import numpy as np\n",
    "import seaborn as sns\n",
    "import matplotlib.pyplot as plt\n",
    "from shapely.geometry import LineString, Point\n",
    "import pyproj\n",
    "from shapely.ops import transform\n",
    "import networkx as nx"
   ]
  },
  {
   "cell_type": "code",
   "execution_count": 2,
   "id": "a9ea1280",
   "metadata": {},
   "outputs": [],
   "source": [
    "routes = pd.read_csv('data/india/GTFS/routes.txt')"
   ]
  },
  {
   "cell_type": "markdown",
   "id": "6e0410b2",
   "metadata": {},
   "source": [
    "# Number of routes"
   ]
  },
  {
   "cell_type": "code",
   "execution_count": 3,
   "id": "02cbf5a6",
   "metadata": {},
   "outputs": [
    {
     "data": {
      "text/plain": [
       "(1270,)"
      ]
     },
     "execution_count": 3,
     "metadata": {},
     "output_type": "execute_result"
    }
   ],
   "source": [
    "routes.route_long_name.unique().shape"
   ]
  },
  {
   "cell_type": "code",
   "execution_count": 4,
   "id": "6bdae068",
   "metadata": {},
   "outputs": [
    {
     "data": {
      "text/plain": [
       "0.8557951482479784"
      ]
     },
     "execution_count": 4,
     "metadata": {},
     "output_type": "execute_result"
    }
   ],
   "source": [
    "# Number of routes per km2\n",
    "1270 / 1484"
   ]
  },
  {
   "cell_type": "code",
   "execution_count": 5,
   "id": "b8646f39",
   "metadata": {},
   "outputs": [
    {
     "data": {
      "text/plain": [
       "7.564953915432511e-05"
      ]
     },
     "execution_count": 5,
     "metadata": {},
     "output_type": "execute_result"
    }
   ],
   "source": [
    "# Number of routes per capita\n",
    "1270 / 16_787_941"
   ]
  },
  {
   "cell_type": "markdown",
   "id": "46fb5016",
   "metadata": {},
   "source": [
    "# Number of stops"
   ]
  },
  {
   "cell_type": "code",
   "execution_count": 6,
   "id": "25f2cc4c",
   "metadata": {},
   "outputs": [],
   "source": [
    "stops = pd.read_csv('data/india/GTFS/stops.txt')"
   ]
  },
  {
   "cell_type": "code",
   "execution_count": 7,
   "id": "cbfacfa3",
   "metadata": {},
   "outputs": [
    {
     "data": {
      "text/plain": [
       "(4192,)"
      ]
     },
     "execution_count": 7,
     "metadata": {},
     "output_type": "execute_result"
    }
   ],
   "source": [
    "stops.stop_id.unique().shape"
   ]
  },
  {
   "cell_type": "code",
   "execution_count": 8,
   "id": "143f8e64",
   "metadata": {},
   "outputs": [
    {
     "data": {
      "text/plain": [
       "2.824797843665768"
      ]
     },
     "execution_count": 8,
     "metadata": {},
     "output_type": "execute_result"
    }
   ],
   "source": [
    "# Number of stops per km2\n",
    "4192 / 1484"
   ]
  },
  {
   "cell_type": "code",
   "execution_count": 9,
   "id": "b0b71799",
   "metadata": {},
   "outputs": [
    {
     "data": {
      "text/plain": [
       "0.00024970304577553613"
      ]
     },
     "execution_count": 9,
     "metadata": {},
     "output_type": "execute_result"
    }
   ],
   "source": [
    "# Number of stops per capita\n",
    "4192 / 16_787_941"
   ]
  },
  {
   "cell_type": "markdown",
   "id": "2546ab34",
   "metadata": {},
   "source": [
    "# Average number of stops per route"
   ]
  },
  {
   "cell_type": "markdown",
   "id": "4993c994",
   "metadata": {},
   "source": [
    "Should we make a distinction between route and trip? What if a route has two different trips that goes to a different set of stations? Why should we treat them a single route, rather than two separate routes?\n",
    "\n",
    "If we ignore routes and only count trips, the calculation becomes much easier"
   ]
  },
  {
   "cell_type": "code",
   "execution_count": 11,
   "id": "a13d5b8a",
   "metadata": {},
   "outputs": [],
   "source": [
    "trips = pd.read_csv('data/india/GTFS/trips.txt')"
   ]
  },
  {
   "cell_type": "code",
   "execution_count": 12,
   "id": "3ebbe722",
   "metadata": {},
   "outputs": [],
   "source": [
    "stop_times = pd.read_csv('data/india/GTFS/stop_times.txt')"
   ]
  },
  {
   "cell_type": "code",
   "execution_count": 13,
   "id": "8027c426",
   "metadata": {},
   "outputs": [
    {
     "data": {
      "text/html": [
       "<div>\n",
       "<style scoped>\n",
       "    .dataframe tbody tr th:only-of-type {\n",
       "        vertical-align: middle;\n",
       "    }\n",
       "\n",
       "    .dataframe tbody tr th {\n",
       "        vertical-align: top;\n",
       "    }\n",
       "\n",
       "    .dataframe thead th {\n",
       "        text-align: right;\n",
       "    }\n",
       "</style>\n",
       "<table border=\"1\" class=\"dataframe\">\n",
       "  <thead>\n",
       "    <tr style=\"text-align: right;\">\n",
       "      <th></th>\n",
       "      <th>trip_id</th>\n",
       "      <th>stop_id</th>\n",
       "    </tr>\n",
       "  </thead>\n",
       "  <tbody>\n",
       "    <tr>\n",
       "      <th>0</th>\n",
       "      <td>1_07_00</td>\n",
       "      <td>23</td>\n",
       "    </tr>\n",
       "    <tr>\n",
       "      <th>1</th>\n",
       "      <td>1_07_00</td>\n",
       "      <td>24</td>\n",
       "    </tr>\n",
       "    <tr>\n",
       "      <th>2</th>\n",
       "      <td>1_07_00</td>\n",
       "      <td>25</td>\n",
       "    </tr>\n",
       "    <tr>\n",
       "      <th>3</th>\n",
       "      <td>1_07_00</td>\n",
       "      <td>26</td>\n",
       "    </tr>\n",
       "    <tr>\n",
       "      <th>4</th>\n",
       "      <td>1_07_00</td>\n",
       "      <td>27</td>\n",
       "    </tr>\n",
       "    <tr>\n",
       "      <th>...</th>\n",
       "      <td>...</td>\n",
       "      <td>...</td>\n",
       "    </tr>\n",
       "    <tr>\n",
       "      <th>2250285</th>\n",
       "      <td>1268_21_30</td>\n",
       "      <td>371</td>\n",
       "    </tr>\n",
       "    <tr>\n",
       "      <th>2250286</th>\n",
       "      <td>1268_21_30</td>\n",
       "      <td>372</td>\n",
       "    </tr>\n",
       "    <tr>\n",
       "      <th>2250287</th>\n",
       "      <td>1268_21_30</td>\n",
       "      <td>1736</td>\n",
       "    </tr>\n",
       "    <tr>\n",
       "      <th>2250288</th>\n",
       "      <td>1268_21_30</td>\n",
       "      <td>1738</td>\n",
       "    </tr>\n",
       "    <tr>\n",
       "      <th>2250289</th>\n",
       "      <td>1268_21_30</td>\n",
       "      <td>3109</td>\n",
       "    </tr>\n",
       "  </tbody>\n",
       "</table>\n",
       "<p>2236409 rows × 2 columns</p>\n",
       "</div>"
      ],
      "text/plain": [
       "            trip_id  stop_id\n",
       "0           1_07_00       23\n",
       "1           1_07_00       24\n",
       "2           1_07_00       25\n",
       "3           1_07_00       26\n",
       "4           1_07_00       27\n",
       "...             ...      ...\n",
       "2250285  1268_21_30      371\n",
       "2250286  1268_21_30      372\n",
       "2250287  1268_21_30     1736\n",
       "2250288  1268_21_30     1738\n",
       "2250289  1268_21_30     3109\n",
       "\n",
       "[2236409 rows x 2 columns]"
      ]
     },
     "execution_count": 13,
     "metadata": {},
     "output_type": "execute_result"
    }
   ],
   "source": [
    "trip_to_stop_id = stop_times[['trip_id', 'stop_id']].drop_duplicates()\n",
    "trip_to_stop_id"
   ]
  },
  {
   "cell_type": "code",
   "execution_count": 14,
   "id": "d2f57402",
   "metadata": {},
   "outputs": [
    {
     "data": {
      "text/plain": [
       "trip_id\n",
       "0_20_20    20\n",
       "0_20_30    20\n",
       "0_20_40    20\n",
       "0_20_50    20\n",
       "0_21_00    20\n",
       "           ..\n",
       "9_21_10    40\n",
       "9_21_20    40\n",
       "9_21_30    40\n",
       "9_21_40    40\n",
       "9_21_50    40\n",
       "Name: stop_id, Length: 50355, dtype: int64"
      ]
     },
     "execution_count": 14,
     "metadata": {},
     "output_type": "execute_result"
    }
   ],
   "source": [
    "num_stops_in_every_trip = trip_to_stop_id.groupby('trip_id').stop_id.count()\n",
    "num_stops_in_every_trip"
   ]
  },
  {
   "cell_type": "code",
   "execution_count": 15,
   "id": "ee409947",
   "metadata": {},
   "outputs": [
    {
     "data": {
      "image/png": "[encoded data removed]",
      "text/plain": [
       "<Figure size 432x288 with 1 Axes>"
      ]
     },
     "metadata": {
      "needs_background": "light"
     },
     "output_type": "display_data"
    }
   ],
   "source": [
    "sns.histplot(x=num_stops_in_every_trip, bins=30)\n",
    "plt.xlabel('Number of stops')\n",
    "plt.title('Delhi')\n",
    "sns.despine()\n",
    "plt.savefig('figures/d_nstops.png')"
   ]
  },
  {
   "cell_type": "code",
   "execution_count": 16,
   "id": "e96a2940",
   "metadata": {},
   "outputs": [],
   "source": [
    "num_stops_in_every_trip.to_csv('gen/d_nstops.csv')"
   ]
  },
  {
   "cell_type": "code",
   "execution_count": 17,
   "id": "c688d74b",
   "metadata": {},
   "outputs": [
    {
     "data": {
      "text/plain": [
       "44.412848773706685"
      ]
     },
     "execution_count": 17,
     "metadata": {},
     "output_type": "execute_result"
    }
   ],
   "source": [
    "num_stops_in_every_trip.mean()"
   ]
  },
  {
   "cell_type": "code",
   "execution_count": 18,
   "id": "6aad2428",
   "metadata": {},
   "outputs": [
    {
     "data": {
      "text/plain": [
       "45.0"
      ]
     },
     "execution_count": 18,
     "metadata": {},
     "output_type": "execute_result"
    }
   ],
   "source": [
    "num_stops_in_every_trip.median()"
   ]
  },
  {
   "cell_type": "markdown",
   "id": "f8efd76a",
   "metadata": {},
   "source": [
    "# Restore old trip to routes code"
   ]
  },
  {
   "cell_type": "code",
   "execution_count": 19,
   "id": "da4b8816",
   "metadata": {},
   "outputs": [
    {
     "data": {
      "text/html": [
       "<div>\n",
       "<style scoped>\n",
       "    .dataframe tbody tr th:only-of-type {\n",
       "        vertical-align: middle;\n",
       "    }\n",
       "\n",
       "    .dataframe tbody tr th {\n",
       "        vertical-align: top;\n",
       "    }\n",
       "\n",
       "    .dataframe thead th {\n",
       "        text-align: right;\n",
       "    }\n",
       "</style>\n",
       "<table border=\"1\" class=\"dataframe\">\n",
       "  <thead>\n",
       "    <tr style=\"text-align: right;\">\n",
       "      <th></th>\n",
       "      <th>route_id</th>\n",
       "      <th>trip_id</th>\n",
       "    </tr>\n",
       "  </thead>\n",
       "  <tbody>\n",
       "    <tr>\n",
       "      <th>0</th>\n",
       "      <td>0</td>\n",
       "      <td>0_20_20</td>\n",
       "    </tr>\n",
       "    <tr>\n",
       "      <th>1</th>\n",
       "      <td>0</td>\n",
       "      <td>0_20_30</td>\n",
       "    </tr>\n",
       "    <tr>\n",
       "      <th>2</th>\n",
       "      <td>0</td>\n",
       "      <td>0_20_40</td>\n",
       "    </tr>\n",
       "    <tr>\n",
       "      <th>3</th>\n",
       "      <td>0</td>\n",
       "      <td>0_20_50</td>\n",
       "    </tr>\n",
       "    <tr>\n",
       "      <th>4</th>\n",
       "      <td>0</td>\n",
       "      <td>0_21_00</td>\n",
       "    </tr>\n",
       "    <tr>\n",
       "      <th>...</th>\n",
       "      <td>...</td>\n",
       "      <td>...</td>\n",
       "    </tr>\n",
       "    <tr>\n",
       "      <th>50350</th>\n",
       "      <td>9</td>\n",
       "      <td>9_21_10</td>\n",
       "    </tr>\n",
       "    <tr>\n",
       "      <th>50351</th>\n",
       "      <td>9</td>\n",
       "      <td>9_21_20</td>\n",
       "    </tr>\n",
       "    <tr>\n",
       "      <th>50352</th>\n",
       "      <td>9</td>\n",
       "      <td>9_21_30</td>\n",
       "    </tr>\n",
       "    <tr>\n",
       "      <th>50353</th>\n",
       "      <td>9</td>\n",
       "      <td>9_21_40</td>\n",
       "    </tr>\n",
       "    <tr>\n",
       "      <th>50354</th>\n",
       "      <td>9</td>\n",
       "      <td>9_21_50</td>\n",
       "    </tr>\n",
       "  </tbody>\n",
       "</table>\n",
       "<p>50355 rows × 2 columns</p>\n",
       "</div>"
      ],
      "text/plain": [
       "       route_id  trip_id\n",
       "0             0  0_20_20\n",
       "1             0  0_20_30\n",
       "2             0  0_20_40\n",
       "3             0  0_20_50\n",
       "4             0  0_21_00\n",
       "...         ...      ...\n",
       "50350         9  9_21_10\n",
       "50351         9  9_21_20\n",
       "50352         9  9_21_30\n",
       "50353         9  9_21_40\n",
       "50354         9  9_21_50\n",
       "\n",
       "[50355 rows x 2 columns]"
      ]
     },
     "execution_count": 19,
     "metadata": {},
     "output_type": "execute_result"
    }
   ],
   "source": [
    "route_to_trip_id = trips[['route_id', 'trip_id']].drop_duplicates()\n",
    "route_to_trip_id"
   ]
  },
  {
   "cell_type": "code",
   "execution_count": 20,
   "id": "5a5b3833",
   "metadata": {},
   "outputs": [
    {
     "data": {
      "text/plain": [
       "trip_id\n",
       "0_20_20    [3, 4, 5, 6, 7, 8, 9, 10, 11, 12, 13, 14, 15, ...\n",
       "0_20_30    [3, 4, 5, 6, 7, 8, 9, 10, 11, 12, 13, 14, 15, ...\n",
       "0_20_40    [3, 4, 5, 6, 7, 8, 9, 10, 11, 12, 13, 14, 15, ...\n",
       "0_20_50    [3, 4, 5, 6, 7, 8, 9, 10, 11, 12, 13, 14, 15, ...\n",
       "0_21_00    [3, 4, 5, 6, 7, 8, 9, 10, 11, 12, 13, 14, 15, ...\n",
       "                                 ...                        \n",
       "9_21_10    [239, 240, 241, 242, 243, 244, 245, 246, 247, ...\n",
       "9_21_20    [239, 240, 241, 242, 243, 244, 245, 246, 247, ...\n",
       "9_21_30    [239, 240, 241, 242, 243, 244, 245, 246, 247, ...\n",
       "9_21_40    [239, 240, 241, 242, 243, 244, 245, 246, 247, ...\n",
       "9_21_50    [239, 240, 241, 242, 243, 244, 245, 246, 247, ...\n",
       "Length: 50355, dtype: object"
      ]
     },
     "execution_count": 20,
     "metadata": {},
     "output_type": "execute_result"
    }
   ],
   "source": [
    "def f(x):\n",
    "    '''\n",
    "    input: dataframe with columns trip_id and stop_id. the trip_id has only one unique value\n",
    "    output: list of all stop ids that this trip stops at\n",
    "    '''\n",
    "    return x.stop_id.to_list()\n",
    "\n",
    "trip_stops = trip_to_stop_id.groupby('trip_id').apply(f)\n",
    "trip_stops"
   ]
  },
  {
   "cell_type": "code",
   "execution_count": 21,
   "id": "aa14482d",
   "metadata": {},
   "outputs": [
    {
     "data": {
      "text/plain": [
       "route_id\n",
       "0       [0_20_20, 0_20_30, 0_20_40, 0_20_50, 0_21_00, ...\n",
       "1       [1_07_00, 1_07_10, 1_07_20, 1_07_30, 1_07_40, ...\n",
       "2                                      [2_06_10, 2_06_20]\n",
       "3       [3_10_30, 3_10_50, 3_11_10, 3_11_20, 3_11_30, ...\n",
       "4       [4_06_00, 4_06_10, 4_06_50, 4_07_00, 4_07_10, ...\n",
       "                              ...                        \n",
       "1265    [1265_06_00, 1265_06_10, 1265_06_20, 1265_06_3...\n",
       "1266    [1266_06_10, 1266_06_30, 1266_07_20, 1266_07_3...\n",
       "1267    [1267_06_20, 1267_06_30, 1267_06_40, 1267_06_5...\n",
       "1268    [1268_14_30, 1268_14_50, 1268_15_00, 1268_15_5...\n",
       "1269    [1269_17_40, 1269_17_50, 1269_18_10, 1269_18_3...\n",
       "Length: 1187, dtype: object"
      ]
     },
     "execution_count": 21,
     "metadata": {},
     "output_type": "execute_result"
    }
   ],
   "source": [
    "def g(x):\n",
    "    '''Same as `f` above but collects trip ids instead of stop ids'''\n",
    "    return x.trip_id.to_list()\n",
    "\n",
    "route_trips = route_to_trip_id.groupby('route_id').apply(g)\n",
    "route_trips"
   ]
  },
  {
   "cell_type": "code",
   "execution_count": 27,
   "id": "f998c955",
   "metadata": {},
   "outputs": [
    {
     "data": {
      "text/plain": [
       "route_id\n",
       "0       20.0\n",
       "1       46.0\n",
       "2        7.0\n",
       "3       28.0\n",
       "4       31.0\n",
       "        ... \n",
       "1265    24.0\n",
       "1266    62.0\n",
       "1267    47.0\n",
       "1268    89.0\n",
       "1269    57.0\n",
       "Length: 1187, dtype: float64"
      ]
     },
     "execution_count": 27,
     "metadata": {},
     "output_type": "execute_result"
    }
   ],
   "source": [
    "def h(x):\n",
    "    # mean len of every trip in this route\n",
    "    return np.mean([len(trip_stops[trip_id]) for trip_id in x])\n",
    "\n",
    "num_stops_for_every_route = route_trips.apply(h)\n",
    "num_stops_for_every_route"
   ]
  },
  {
   "cell_type": "code",
   "execution_count": 28,
   "id": "08fa15ff",
   "metadata": {},
   "outputs": [
    {
     "data": {
      "text/plain": [
       "39.20134793597304"
      ]
     },
     "execution_count": 28,
     "metadata": {},
     "output_type": "execute_result"
    }
   ],
   "source": [
    "# Average number of stops\n",
    "num_stops_for_every_route.mean()"
   ]
  },
  {
   "cell_type": "code",
   "execution_count": 29,
   "id": "bc447867",
   "metadata": {},
   "outputs": [
    {
     "data": {
      "text/plain": [
       "<AxesSubplot:ylabel='Frequency'>"
      ]
     },
     "execution_count": 29,
     "metadata": {},
     "output_type": "execute_result"
    },
    {
     "data": {
      "image/png": "[encoded data removed]",
      "text/plain": [
       "<Figure size 432x288 with 1 Axes>"
      ]
     },
     "metadata": {
      "needs_background": "light"
     },
     "output_type": "display_data"
    }
   ],
   "source": [
    "num_stops_for_every_route.plot.hist()"
   ]
  },
  {
   "cell_type": "code",
   "execution_count": 32,
   "id": "a057dcfc",
   "metadata": {},
   "outputs": [],
   "source": [
    "num_stops_for_every_route.to_csv('gen/d_nstops2.csv')"
   ]
  },
  {
   "cell_type": "markdown",
   "id": "4c5d9572",
   "metadata": {},
   "source": [
    "# Average route length"
   ]
  },
  {
   "cell_type": "markdown",
   "id": "80c91ecf",
   "metadata": {},
   "source": [
    "Again, we're going to consider each trip as a route by themselves"
   ]
  },
  {
   "cell_type": "code",
   "execution_count": 33,
   "id": "de744279",
   "metadata": {},
   "outputs": [],
   "source": [
    "# wgs84 is in degrees, pseudo mercator is in meters\n",
    "wgs84 = pyproj.CRS('EPSG:4326')\n",
    "pseudo_mercator = pyproj.CRS('EPSG:3857')\n",
    "project = pyproj.Transformer.from_crs(wgs84, pseudo_mercator, always_xy=True).transform\n",
    "\n",
    "def transformer(p: Point):\n",
    "    return transform(project, p)"
   ]
  },
  {
   "cell_type": "markdown",
   "id": "e02a5884",
   "metadata": {},
   "source": [
    "Need to use the stop_sequence to ensure the stops are in order"
   ]
  },
  {
   "cell_type": "code",
   "execution_count": 34,
   "id": "4addd5b8",
   "metadata": {},
   "outputs": [
    {
     "data": {
      "text/html": [
       "<div>\n",
       "<style scoped>\n",
       "    .dataframe tbody tr th:only-of-type {\n",
       "        vertical-align: middle;\n",
       "    }\n",
       "\n",
       "    .dataframe tbody tr th {\n",
       "        vertical-align: top;\n",
       "    }\n",
       "\n",
       "    .dataframe thead th {\n",
       "        text-align: right;\n",
       "    }\n",
       "</style>\n",
       "<table border=\"1\" class=\"dataframe\">\n",
       "  <thead>\n",
       "    <tr style=\"text-align: right;\">\n",
       "      <th></th>\n",
       "      <th>trip_id</th>\n",
       "      <th>arrival_time</th>\n",
       "      <th>departure_time</th>\n",
       "      <th>stop_id</th>\n",
       "      <th>stop_sequence</th>\n",
       "      <th>stop_code</th>\n",
       "      <th>stop_name</th>\n",
       "      <th>stop_lat</th>\n",
       "      <th>stop_lon</th>\n",
       "      <th>zone_id</th>\n",
       "    </tr>\n",
       "  </thead>\n",
       "  <tbody>\n",
       "    <tr>\n",
       "      <th>0</th>\n",
       "      <td>1_07_00</td>\n",
       "      <td>07:00:00</td>\n",
       "      <td>07:00:00</td>\n",
       "      <td>23</td>\n",
       "      <td>0</td>\n",
       "      <td>DC3605</td>\n",
       "      <td>Swaroop Nagar GT Road</td>\n",
       "      <td>28.758318</td>\n",
       "      <td>77.148305</td>\n",
       "      <td>23</td>\n",
       "    </tr>\n",
       "    <tr>\n",
       "      <th>1</th>\n",
       "      <td>1_07_10</td>\n",
       "      <td>07:10:00</td>\n",
       "      <td>07:10:00</td>\n",
       "      <td>23</td>\n",
       "      <td>0</td>\n",
       "      <td>DC3605</td>\n",
       "      <td>Swaroop Nagar GT Road</td>\n",
       "      <td>28.758318</td>\n",
       "      <td>77.148305</td>\n",
       "      <td>23</td>\n",
       "    </tr>\n",
       "    <tr>\n",
       "      <th>2</th>\n",
       "      <td>1_07_20</td>\n",
       "      <td>07:20:00</td>\n",
       "      <td>07:20:00</td>\n",
       "      <td>23</td>\n",
       "      <td>0</td>\n",
       "      <td>DC3605</td>\n",
       "      <td>Swaroop Nagar GT Road</td>\n",
       "      <td>28.758318</td>\n",
       "      <td>77.148305</td>\n",
       "      <td>23</td>\n",
       "    </tr>\n",
       "    <tr>\n",
       "      <th>3</th>\n",
       "      <td>1_07_30</td>\n",
       "      <td>07:30:00</td>\n",
       "      <td>07:30:00</td>\n",
       "      <td>23</td>\n",
       "      <td>0</td>\n",
       "      <td>DC3605</td>\n",
       "      <td>Swaroop Nagar GT Road</td>\n",
       "      <td>28.758318</td>\n",
       "      <td>77.148305</td>\n",
       "      <td>23</td>\n",
       "    </tr>\n",
       "    <tr>\n",
       "      <th>4</th>\n",
       "      <td>1_07_40</td>\n",
       "      <td>07:40:00</td>\n",
       "      <td>07:40:00</td>\n",
       "      <td>23</td>\n",
       "      <td>0</td>\n",
       "      <td>DC3605</td>\n",
       "      <td>Swaroop Nagar GT Road</td>\n",
       "      <td>28.758318</td>\n",
       "      <td>77.148305</td>\n",
       "      <td>23</td>\n",
       "    </tr>\n",
       "    <tr>\n",
       "      <th>...</th>\n",
       "      <td>...</td>\n",
       "      <td>...</td>\n",
       "      <td>...</td>\n",
       "      <td>...</td>\n",
       "      <td>...</td>\n",
       "      <td>...</td>\n",
       "      <td>...</td>\n",
       "      <td>...</td>\n",
       "      <td>...</td>\n",
       "      <td>...</td>\n",
       "    </tr>\n",
       "    <tr>\n",
       "      <th>2250285</th>\n",
       "      <td>1254_20_30</td>\n",
       "      <td>21:47:58</td>\n",
       "      <td>21:47:58</td>\n",
       "      <td>4033</td>\n",
       "      <td>37</td>\n",
       "      <td>DC5349</td>\n",
       "      <td>Alok Kunj</td>\n",
       "      <td>28.727686</td>\n",
       "      <td>77.130562</td>\n",
       "      <td>4033</td>\n",
       "    </tr>\n",
       "    <tr>\n",
       "      <th>2250286</th>\n",
       "      <td>1254_20_40</td>\n",
       "      <td>21:57:58</td>\n",
       "      <td>21:57:58</td>\n",
       "      <td>4033</td>\n",
       "      <td>37</td>\n",
       "      <td>DC5349</td>\n",
       "      <td>Alok Kunj</td>\n",
       "      <td>28.727686</td>\n",
       "      <td>77.130562</td>\n",
       "      <td>4033</td>\n",
       "    </tr>\n",
       "    <tr>\n",
       "      <th>2250287</th>\n",
       "      <td>1254_21_10</td>\n",
       "      <td>22:27:58</td>\n",
       "      <td>22:27:58</td>\n",
       "      <td>4033</td>\n",
       "      <td>37</td>\n",
       "      <td>DC5349</td>\n",
       "      <td>Alok Kunj</td>\n",
       "      <td>28.727686</td>\n",
       "      <td>77.130562</td>\n",
       "      <td>4033</td>\n",
       "    </tr>\n",
       "    <tr>\n",
       "      <th>2250288</th>\n",
       "      <td>1254_21_20</td>\n",
       "      <td>22:37:58</td>\n",
       "      <td>22:37:58</td>\n",
       "      <td>4033</td>\n",
       "      <td>37</td>\n",
       "      <td>DC5349</td>\n",
       "      <td>Alok Kunj</td>\n",
       "      <td>28.727686</td>\n",
       "      <td>77.130562</td>\n",
       "      <td>4033</td>\n",
       "    </tr>\n",
       "    <tr>\n",
       "      <th>2250289</th>\n",
       "      <td>1254_21_50</td>\n",
       "      <td>23:07:58</td>\n",
       "      <td>23:07:58</td>\n",
       "      <td>4033</td>\n",
       "      <td>37</td>\n",
       "      <td>DC5349</td>\n",
       "      <td>Alok Kunj</td>\n",
       "      <td>28.727686</td>\n",
       "      <td>77.130562</td>\n",
       "      <td>4033</td>\n",
       "    </tr>\n",
       "  </tbody>\n",
       "</table>\n",
       "<p>2250290 rows × 10 columns</p>\n",
       "</div>"
      ],
      "text/plain": [
       "            trip_id arrival_time departure_time  stop_id  stop_sequence  \\\n",
       "0           1_07_00     07:00:00       07:00:00       23              0   \n",
       "1           1_07_10     07:10:00       07:10:00       23              0   \n",
       "2           1_07_20     07:20:00       07:20:00       23              0   \n",
       "3           1_07_30     07:30:00       07:30:00       23              0   \n",
       "4           1_07_40     07:40:00       07:40:00       23              0   \n",
       "...             ...          ...            ...      ...            ...   \n",
       "2250285  1254_20_30     21:47:58       21:47:58     4033             37   \n",
       "2250286  1254_20_40     21:57:58       21:57:58     4033             37   \n",
       "2250287  1254_21_10     22:27:58       22:27:58     4033             37   \n",
       "2250288  1254_21_20     22:37:58       22:37:58     4033             37   \n",
       "2250289  1254_21_50     23:07:58       23:07:58     4033             37   \n",
       "\n",
       "        stop_code              stop_name   stop_lat   stop_lon  zone_id  \n",
       "0          DC3605  Swaroop Nagar GT Road  28.758318  77.148305       23  \n",
       "1          DC3605  Swaroop Nagar GT Road  28.758318  77.148305       23  \n",
       "2          DC3605  Swaroop Nagar GT Road  28.758318  77.148305       23  \n",
       "3          DC3605  Swaroop Nagar GT Road  28.758318  77.148305       23  \n",
       "4          DC3605  Swaroop Nagar GT Road  28.758318  77.148305       23  \n",
       "...           ...                    ...        ...        ...      ...  \n",
       "2250285    DC5349              Alok Kunj  28.727686  77.130562     4033  \n",
       "2250286    DC5349              Alok Kunj  28.727686  77.130562     4033  \n",
       "2250287    DC5349              Alok Kunj  28.727686  77.130562     4033  \n",
       "2250288    DC5349              Alok Kunj  28.727686  77.130562     4033  \n",
       "2250289    DC5349              Alok Kunj  28.727686  77.130562     4033  \n",
       "\n",
       "[2250290 rows x 10 columns]"
      ]
     },
     "execution_count": 34,
     "metadata": {},
     "output_type": "execute_result"
    }
   ],
   "source": [
    "stop_times_with_loc = stop_times.merge(stops, on='stop_id')\n",
    "stop_times_with_loc"
   ]
  },
  {
   "cell_type": "markdown",
   "id": "214444eb",
   "metadata": {},
   "source": [
    "I can't find the code for this one\n",
    "\n",
    "but 175STLDOWN and 133DOWN shares the first half - then continues after the last stop\n",
    "\n",
    "https://www.transsee.ca/stoplist?a=delhi&r=1102\n",
    "\n",
    "https://www.transsee.ca/stoplist?a=delhi&r=1230"
   ]
  },
  {
   "cell_type": "code",
   "execution_count": 35,
   "id": "a1a79d36",
   "metadata": {},
   "outputs": [
    {
     "data": {
      "text/html": [
       "<div>\n",
       "<style scoped>\n",
       "    .dataframe tbody tr th:only-of-type {\n",
       "        vertical-align: middle;\n",
       "    }\n",
       "\n",
       "    .dataframe tbody tr th {\n",
       "        vertical-align: top;\n",
       "    }\n",
       "\n",
       "    .dataframe thead th {\n",
       "        text-align: right;\n",
       "    }\n",
       "</style>\n",
       "<table border=\"1\" class=\"dataframe\">\n",
       "  <thead>\n",
       "    <tr style=\"text-align: right;\">\n",
       "      <th></th>\n",
       "      <th>trip_id</th>\n",
       "      <th>arrival_time</th>\n",
       "      <th>departure_time</th>\n",
       "      <th>stop_id</th>\n",
       "      <th>stop_sequence</th>\n",
       "      <th>stop_code</th>\n",
       "      <th>stop_name</th>\n",
       "      <th>stop_lat</th>\n",
       "      <th>stop_lon</th>\n",
       "      <th>zone_id</th>\n",
       "    </tr>\n",
       "  </thead>\n",
       "  <tbody>\n",
       "    <tr>\n",
       "      <th>1028702</th>\n",
       "      <td>0_20_20</td>\n",
       "      <td>20:20:00</td>\n",
       "      <td>20:20:00</td>\n",
       "      <td>3</td>\n",
       "      <td>0</td>\n",
       "      <td>DC4542</td>\n",
       "      <td>Ramdev Chowk Pithori Jhori</td>\n",
       "      <td>28.857752</td>\n",
       "      <td>77.092856</td>\n",
       "      <td>3</td>\n",
       "    </tr>\n",
       "    <tr>\n",
       "      <th>1030702</th>\n",
       "      <td>0_20_20</td>\n",
       "      <td>20:21:08</td>\n",
       "      <td>20:21:08</td>\n",
       "      <td>4</td>\n",
       "      <td>1</td>\n",
       "      <td>DC4543</td>\n",
       "      <td>Narela A-6 / CPJ College</td>\n",
       "      <td>28.857652</td>\n",
       "      <td>77.095746</td>\n",
       "      <td>4</td>\n",
       "    </tr>\n",
       "    <tr>\n",
       "      <th>918200</th>\n",
       "      <td>0_20_20</td>\n",
       "      <td>20:22:02</td>\n",
       "      <td>20:22:02</td>\n",
       "      <td>5</td>\n",
       "      <td>2</td>\n",
       "      <td>DC4544</td>\n",
       "      <td>State Bank Of Allahbad</td>\n",
       "      <td>28.857128</td>\n",
       "      <td>77.097951</td>\n",
       "      <td>5</td>\n",
       "    </tr>\n",
       "    <tr>\n",
       "      <th>919841</th>\n",
       "      <td>0_20_20</td>\n",
       "      <td>20:23:10</td>\n",
       "      <td>20:23:10</td>\n",
       "      <td>6</td>\n",
       "      <td>3</td>\n",
       "      <td>DC4545</td>\n",
       "      <td>Sec A-9 Narela</td>\n",
       "      <td>28.854546</td>\n",
       "      <td>77.097907</td>\n",
       "      <td>6</td>\n",
       "    </tr>\n",
       "    <tr>\n",
       "      <th>921482</th>\n",
       "      <td>0_20_20</td>\n",
       "      <td>20:24:24</td>\n",
       "      <td>20:24:24</td>\n",
       "      <td>7</td>\n",
       "      <td>4</td>\n",
       "      <td>DC4546</td>\n",
       "      <td>Sec A-9 and A-6 Narela</td>\n",
       "      <td>28.851771</td>\n",
       "      <td>77.097849</td>\n",
       "      <td>7</td>\n",
       "    </tr>\n",
       "    <tr>\n",
       "      <th>923123</th>\n",
       "      <td>0_20_20</td>\n",
       "      <td>20:25:38</td>\n",
       "      <td>20:25:38</td>\n",
       "      <td>8</td>\n",
       "      <td>5</td>\n",
       "      <td>DC4547</td>\n",
       "      <td>A-7 Narela Sec- 10A Pocket- 66</td>\n",
       "      <td>28.849048</td>\n",
       "      <td>77.098446</td>\n",
       "      <td>8</td>\n",
       "    </tr>\n",
       "    <tr>\n",
       "      <th>924764</th>\n",
       "      <td>0_20_20</td>\n",
       "      <td>20:29:33</td>\n",
       "      <td>20:29:33</td>\n",
       "      <td>9</td>\n",
       "      <td>6</td>\n",
       "      <td>DC4548</td>\n",
       "      <td>Harish Chandra Hospital</td>\n",
       "      <td>28.840806</td>\n",
       "      <td>77.102022</td>\n",
       "      <td>9</td>\n",
       "    </tr>\n",
       "    <tr>\n",
       "      <th>926276</th>\n",
       "      <td>0_20_20</td>\n",
       "      <td>20:31:44</td>\n",
       "      <td>20:31:44</td>\n",
       "      <td>10</td>\n",
       "      <td>7</td>\n",
       "      <td>DC4549</td>\n",
       "      <td>Kasturi Ram School</td>\n",
       "      <td>28.837182</td>\n",
       "      <td>77.098223</td>\n",
       "      <td>10</td>\n",
       "    </tr>\n",
       "    <tr>\n",
       "      <th>927898</th>\n",
       "      <td>0_20_20</td>\n",
       "      <td>20:34:10</td>\n",
       "      <td>20:34:10</td>\n",
       "      <td>11</td>\n",
       "      <td>8</td>\n",
       "      <td>DC4550</td>\n",
       "      <td>Munim Ji Ka Bagh</td>\n",
       "      <td>28.836163</td>\n",
       "      <td>77.092108</td>\n",
       "      <td>11</td>\n",
       "    </tr>\n",
       "    <tr>\n",
       "      <th>929341</th>\n",
       "      <td>0_20_20</td>\n",
       "      <td>20:35:10</td>\n",
       "      <td>20:35:10</td>\n",
       "      <td>12</td>\n",
       "      <td>9</td>\n",
       "      <td>DC4551</td>\n",
       "      <td>New Anaj Mandi</td>\n",
       "      <td>28.838335</td>\n",
       "      <td>77.091413</td>\n",
       "      <td>12</td>\n",
       "    </tr>\n",
       "    <tr>\n",
       "      <th>930796</th>\n",
       "      <td>0_20_20</td>\n",
       "      <td>20:36:19</td>\n",
       "      <td>20:36:19</td>\n",
       "      <td>13</td>\n",
       "      <td>10</td>\n",
       "      <td>DC4552</td>\n",
       "      <td>Kurani More</td>\n",
       "      <td>28.840835</td>\n",
       "      <td>77.090527</td>\n",
       "      <td>13</td>\n",
       "    </tr>\n",
       "    <tr>\n",
       "      <th>931976</th>\n",
       "      <td>0_20_20</td>\n",
       "      <td>20:40:15</td>\n",
       "      <td>20:40:15</td>\n",
       "      <td>14</td>\n",
       "      <td>11</td>\n",
       "      <td>DC4893</td>\n",
       "      <td>Prem Nagar Narela</td>\n",
       "      <td>28.837755</td>\n",
       "      <td>77.081097</td>\n",
       "      <td>14</td>\n",
       "    </tr>\n",
       "    <tr>\n",
       "      <th>932484</th>\n",
       "      <td>0_20_20</td>\n",
       "      <td>20:41:19</td>\n",
       "      <td>20:41:19</td>\n",
       "      <td>15</td>\n",
       "      <td>12</td>\n",
       "      <td>DC4554</td>\n",
       "      <td>Maharaja Agrassen School</td>\n",
       "      <td>28.835906</td>\n",
       "      <td>77.079333</td>\n",
       "      <td>15</td>\n",
       "    </tr>\n",
       "    <tr>\n",
       "      <th>932992</th>\n",
       "      <td>0_20_20</td>\n",
       "      <td>20:42:54</td>\n",
       "      <td>20:42:54</td>\n",
       "      <td>16</td>\n",
       "      <td>13</td>\n",
       "      <td>DC4555</td>\n",
       "      <td>Bharat Mata School</td>\n",
       "      <td>28.833074</td>\n",
       "      <td>77.076871</td>\n",
       "      <td>16</td>\n",
       "    </tr>\n",
       "    <tr>\n",
       "      <th>933431</th>\n",
       "      <td>0_20_20</td>\n",
       "      <td>20:47:15</td>\n",
       "      <td>20:47:15</td>\n",
       "      <td>17</td>\n",
       "      <td>14</td>\n",
       "      <td>DC4556</td>\n",
       "      <td>Kaushal Devi Netraheen Ashram</td>\n",
       "      <td>28.825201</td>\n",
       "      <td>77.070198</td>\n",
       "      <td>17</td>\n",
       "    </tr>\n",
       "    <tr>\n",
       "      <th>1442291</th>\n",
       "      <td>0_20_20</td>\n",
       "      <td>20:50:52</td>\n",
       "      <td>20:50:52</td>\n",
       "      <td>18</td>\n",
       "      <td>15</td>\n",
       "      <td>DC5264</td>\n",
       "      <td>Sannoth Crossing / Ghoga Crossing</td>\n",
       "      <td>28.819549</td>\n",
       "      <td>77.063550</td>\n",
       "      <td>18</td>\n",
       "    </tr>\n",
       "    <tr>\n",
       "      <th>933930</th>\n",
       "      <td>0_20_20</td>\n",
       "      <td>20:53:45</td>\n",
       "      <td>20:53:45</td>\n",
       "      <td>19</td>\n",
       "      <td>16</td>\n",
       "      <td>DC4558</td>\n",
       "      <td>Delhi Jal Board Bawana</td>\n",
       "      <td>28.815305</td>\n",
       "      <td>77.057968</td>\n",
       "      <td>19</td>\n",
       "    </tr>\n",
       "    <tr>\n",
       "      <th>934537</th>\n",
       "      <td>0_20_20</td>\n",
       "      <td>20:55:53</td>\n",
       "      <td>20:55:53</td>\n",
       "      <td>20</td>\n",
       "      <td>17</td>\n",
       "      <td>DC4559</td>\n",
       "      <td>Jain Bekhunth Mandir</td>\n",
       "      <td>28.811877</td>\n",
       "      <td>77.054111</td>\n",
       "      <td>20</td>\n",
       "    </tr>\n",
       "    <tr>\n",
       "      <th>935191</th>\n",
       "      <td>0_20_20</td>\n",
       "      <td>20:59:09</td>\n",
       "      <td>20:59:09</td>\n",
       "      <td>21</td>\n",
       "      <td>18</td>\n",
       "      <td>DC4560</td>\n",
       "      <td>JJ Colony Bawana Crpf Camp</td>\n",
       "      <td>28.806836</td>\n",
       "      <td>77.048010</td>\n",
       "      <td>21</td>\n",
       "    </tr>\n",
       "    <tr>\n",
       "      <th>1442363</th>\n",
       "      <td>0_20_20</td>\n",
       "      <td>21:05:02</td>\n",
       "      <td>21:05:02</td>\n",
       "      <td>22</td>\n",
       "      <td>19</td>\n",
       "      <td>DC5263</td>\n",
       "      <td>Bawana Sec 1 Cluster Depot</td>\n",
       "      <td>28.794721</td>\n",
       "      <td>77.041829</td>\n",
       "      <td>22</td>\n",
       "    </tr>\n",
       "  </tbody>\n",
       "</table>\n",
       "</div>"
      ],
      "text/plain": [
       "         trip_id arrival_time departure_time  stop_id  stop_sequence  \\\n",
       "1028702  0_20_20     20:20:00       20:20:00        3              0   \n",
       "1030702  0_20_20     20:21:08       20:21:08        4              1   \n",
       "918200   0_20_20     20:22:02       20:22:02        5              2   \n",
       "919841   0_20_20     20:23:10       20:23:10        6              3   \n",
       "921482   0_20_20     20:24:24       20:24:24        7              4   \n",
       "923123   0_20_20     20:25:38       20:25:38        8              5   \n",
       "924764   0_20_20     20:29:33       20:29:33        9              6   \n",
       "926276   0_20_20     20:31:44       20:31:44       10              7   \n",
       "927898   0_20_20     20:34:10       20:34:10       11              8   \n",
       "929341   0_20_20     20:35:10       20:35:10       12              9   \n",
       "930796   0_20_20     20:36:19       20:36:19       13             10   \n",
       "931976   0_20_20     20:40:15       20:40:15       14             11   \n",
       "932484   0_20_20     20:41:19       20:41:19       15             12   \n",
       "932992   0_20_20     20:42:54       20:42:54       16             13   \n",
       "933431   0_20_20     20:47:15       20:47:15       17             14   \n",
       "1442291  0_20_20     20:50:52       20:50:52       18             15   \n",
       "933930   0_20_20     20:53:45       20:53:45       19             16   \n",
       "934537   0_20_20     20:55:53       20:55:53       20             17   \n",
       "935191   0_20_20     20:59:09       20:59:09       21             18   \n",
       "1442363  0_20_20     21:05:02       21:05:02       22             19   \n",
       "\n",
       "        stop_code                          stop_name   stop_lat   stop_lon  \\\n",
       "1028702    DC4542         Ramdev Chowk Pithori Jhori  28.857752  77.092856   \n",
       "1030702    DC4543           Narela A-6 / CPJ College  28.857652  77.095746   \n",
       "918200     DC4544             State Bank Of Allahbad  28.857128  77.097951   \n",
       "919841     DC4545                     Sec A-9 Narela  28.854546  77.097907   \n",
       "921482     DC4546             Sec A-9 and A-6 Narela  28.851771  77.097849   \n",
       "923123     DC4547     A-7 Narela Sec- 10A Pocket- 66  28.849048  77.098446   \n",
       "924764     DC4548            Harish Chandra Hospital  28.840806  77.102022   \n",
       "926276     DC4549                 Kasturi Ram School  28.837182  77.098223   \n",
       "927898     DC4550                   Munim Ji Ka Bagh  28.836163  77.092108   \n",
       "929341     DC4551                     New Anaj Mandi  28.838335  77.091413   \n",
       "930796     DC4552                        Kurani More  28.840835  77.090527   \n",
       "931976     DC4893                  Prem Nagar Narela  28.837755  77.081097   \n",
       "932484     DC4554           Maharaja Agrassen School  28.835906  77.079333   \n",
       "932992     DC4555                 Bharat Mata School  28.833074  77.076871   \n",
       "933431     DC4556      Kaushal Devi Netraheen Ashram  28.825201  77.070198   \n",
       "1442291    DC5264  Sannoth Crossing / Ghoga Crossing  28.819549  77.063550   \n",
       "933930     DC4558             Delhi Jal Board Bawana  28.815305  77.057968   \n",
       "934537     DC4559               Jain Bekhunth Mandir  28.811877  77.054111   \n",
       "935191     DC4560         JJ Colony Bawana Crpf Camp  28.806836  77.048010   \n",
       "1442363    DC5263         Bawana Sec 1 Cluster Depot  28.794721  77.041829   \n",
       "\n",
       "         zone_id  \n",
       "1028702        3  \n",
       "1030702        4  \n",
       "918200         5  \n",
       "919841         6  \n",
       "921482         7  \n",
       "923123         8  \n",
       "924764         9  \n",
       "926276        10  \n",
       "927898        11  \n",
       "929341        12  \n",
       "930796        13  \n",
       "931976        14  \n",
       "932484        15  \n",
       "932992        16  \n",
       "933431        17  \n",
       "1442291       18  \n",
       "933930        19  \n",
       "934537        20  \n",
       "935191        21  \n",
       "1442363       22  "
      ]
     },
     "execution_count": 35,
     "metadata": {},
     "output_type": "execute_result"
    }
   ],
   "source": [
    "stop_times_with_loc[stop_times_with_loc.trip_id == '0_20_20'].sort_values('stop_sequence')"
   ]
  },
  {
   "cell_type": "code",
   "execution_count": 36,
   "id": "cbd5fb13",
   "metadata": {},
   "outputs": [
    {
     "data": {
      "text/html": [
       "<div>\n",
       "<style scoped>\n",
       "    .dataframe tbody tr th:only-of-type {\n",
       "        vertical-align: middle;\n",
       "    }\n",
       "\n",
       "    .dataframe tbody tr th {\n",
       "        vertical-align: top;\n",
       "    }\n",
       "\n",
       "    .dataframe thead th {\n",
       "        text-align: right;\n",
       "    }\n",
       "</style>\n",
       "<table border=\"1\" class=\"dataframe\">\n",
       "  <thead>\n",
       "    <tr style=\"text-align: right;\">\n",
       "      <th></th>\n",
       "      <th>route_id</th>\n",
       "      <th>service_id</th>\n",
       "      <th>trip_id</th>\n",
       "      <th>shape_id</th>\n",
       "    </tr>\n",
       "  </thead>\n",
       "  <tbody>\n",
       "    <tr>\n",
       "      <th>0</th>\n",
       "      <td>0</td>\n",
       "      <td>1</td>\n",
       "      <td>0_20_20</td>\n",
       "      <td>NaN</td>\n",
       "    </tr>\n",
       "  </tbody>\n",
       "</table>\n",
       "</div>"
      ],
      "text/plain": [
       "   route_id  service_id  trip_id  shape_id\n",
       "0         0           1  0_20_20       NaN"
      ]
     },
     "execution_count": 36,
     "metadata": {},
     "output_type": "execute_result"
    }
   ],
   "source": [
    "trips[trips.trip_id == '0_20_20']"
   ]
  },
  {
   "cell_type": "code",
   "execution_count": 37,
   "id": "38224dcf",
   "metadata": {},
   "outputs": [
    {
     "data": {
      "text/html": [
       "<div>\n",
       "<style scoped>\n",
       "    .dataframe tbody tr th:only-of-type {\n",
       "        vertical-align: middle;\n",
       "    }\n",
       "\n",
       "    .dataframe tbody tr th {\n",
       "        vertical-align: top;\n",
       "    }\n",
       "\n",
       "    .dataframe thead th {\n",
       "        text-align: right;\n",
       "    }\n",
       "</style>\n",
       "<table border=\"1\" class=\"dataframe\">\n",
       "  <thead>\n",
       "    <tr style=\"text-align: right;\">\n",
       "      <th></th>\n",
       "      <th>route_short_name</th>\n",
       "      <th>route_long_name</th>\n",
       "      <th>route_type</th>\n",
       "      <th>route_id</th>\n",
       "      <th>agency_id</th>\n",
       "    </tr>\n",
       "  </thead>\n",
       "  <tbody>\n",
       "    <tr>\n",
       "      <th>0</th>\n",
       "      <td>NaN</td>\n",
       "      <td>193STLDOWN</td>\n",
       "      <td>3</td>\n",
       "      <td>0</td>\n",
       "      <td>DIMTS</td>\n",
       "    </tr>\n",
       "  </tbody>\n",
       "</table>\n",
       "</div>"
      ],
      "text/plain": [
       "   route_short_name route_long_name  route_type  route_id agency_id\n",
       "0               NaN      193STLDOWN           3         0     DIMTS"
      ]
     },
     "execution_count": 37,
     "metadata": {},
     "output_type": "execute_result"
    }
   ],
   "source": [
    "routes[routes.route_id == 0]"
   ]
  },
  {
   "cell_type": "code",
   "execution_count": 38,
   "id": "92ac10e6",
   "metadata": {},
   "outputs": [
    {
     "data": {
      "text/plain": [
       "trip_id\n",
       "0_20_20    LINESTRING (8581937.473719167 3357553.47980293...\n",
       "0_20_30    LINESTRING (8581937.473719167 3357553.47980293...\n",
       "0_20_40    LINESTRING (8581937.473719167 3357553.47980293...\n",
       "0_20_50    LINESTRING (8581937.473719167 3357553.47980293...\n",
       "0_21_00    LINESTRING (8581937.473719167 3357553.47980293...\n",
       "                                 ...                        \n",
       "9_21_10    LINESTRING (8591437.033785501 3338474.19579364...\n",
       "9_21_20    LINESTRING (8591437.033785501 3338474.19579364...\n",
       "9_21_30    LINESTRING (8591437.033785501 3338474.19579364...\n",
       "9_21_40    LINESTRING (8591437.033785501 3338474.19579364...\n",
       "9_21_50    LINESTRING (8591437.033785501 3338474.19579364...\n",
       "Length: 50355, dtype: object"
      ]
     },
     "execution_count": 38,
     "metadata": {},
     "output_type": "execute_result"
    }
   ],
   "source": [
    "def f(x):\n",
    "    df = x.sort_values('stop_sequence')\n",
    "    points = df[['stop_lon', 'stop_lat']].apply(\n",
    "        lambda row: transformer(Point(row.stop_lon, row.stop_lat)),\n",
    "        axis=1\n",
    "    )\n",
    "    return LineString(points.reset_index(drop=True))\n",
    "\n",
    "trip_lines = stop_times_with_loc.groupby('trip_id').apply(f)\n",
    "trip_lines"
   ]
  },
  {
   "cell_type": "code",
   "execution_count": 39,
   "id": "d3a430a2",
   "metadata": {},
   "outputs": [
    {
     "data": {
      "text/plain": [
       "trip_id\n",
       "0_20_20    12877.486982\n",
       "0_20_30    12877.486982\n",
       "0_20_40    12877.486982\n",
       "0_20_50    12877.486982\n",
       "0_21_00    12877.486982\n",
       "               ...     \n",
       "9_21_10    26993.556533\n",
       "9_21_20    26993.556533\n",
       "9_21_30    26993.556533\n",
       "9_21_40    26993.556533\n",
       "9_21_50    26993.556533\n",
       "Length: 50355, dtype: float64"
      ]
     },
     "execution_count": 39,
     "metadata": {},
     "output_type": "execute_result"
    }
   ],
   "source": [
    "trip_lengths = trip_lines.apply(lambda x: x.length)\n",
    "trip_lengths"
   ]
  },
  {
   "cell_type": "code",
   "execution_count": 40,
   "id": "a37cb60c",
   "metadata": {},
   "outputs": [
    {
     "data": {
      "text/plain": [
       "26952.221183462545"
      ]
     },
     "execution_count": 40,
     "metadata": {},
     "output_type": "execute_result"
    }
   ],
   "source": [
    "# Average trip length in meters\n",
    "trip_lengths.mean()"
   ]
  },
  {
   "cell_type": "code",
   "execution_count": 41,
   "id": "8e5a3561",
   "metadata": {},
   "outputs": [
    {
     "data": {
      "text/plain": [
       "26043.582617595206"
      ]
     },
     "execution_count": 41,
     "metadata": {},
     "output_type": "execute_result"
    }
   ],
   "source": [
    "trip_lengths.median()"
   ]
  },
  {
   "cell_type": "code",
   "execution_count": 42,
   "id": "f54127ab",
   "metadata": {},
   "outputs": [
    {
     "data": {
      "image/png": "[encoded data removed]",
      "text/plain": [
       "<Figure size 432x288 with 1 Axes>"
      ]
     },
     "metadata": {
      "needs_background": "light"
     },
     "output_type": "display_data"
    }
   ],
   "source": [
    "sns.histplot(x=trip_lengths, bins=40)\n",
    "sns.despine()\n",
    "plt.title('Delhi')\n",
    "plt.xlabel('Route length (m)')\n",
    "plt.savefig('figures/d_rlengths.png')"
   ]
  },
  {
   "cell_type": "code",
   "execution_count": 43,
   "id": "8c782106",
   "metadata": {},
   "outputs": [],
   "source": [
    "trip_lengths.to_csv('gen/d_rlengths.csv')"
   ]
  },
  {
   "cell_type": "code",
   "execution_count": 44,
   "id": "b29aff6b",
   "metadata": {},
   "outputs": [
    {
     "data": {
      "text/plain": [
       "trip_id\n",
       "261_10_40    92735.71019\n",
       "261_18_20    92735.71019\n",
       "261_18_00    92735.71019\n",
       "261_17_50    92735.71019\n",
       "261_17_40    92735.71019\n",
       "dtype: float64"
      ]
     },
     "execution_count": 44,
     "metadata": {},
     "output_type": "execute_result"
    }
   ],
   "source": [
    "trip_lengths.sort_values(ascending=False).head()"
   ]
  },
  {
   "cell_type": "markdown",
   "id": "69d634f5",
   "metadata": {},
   "source": [
    "# Restore old code again"
   ]
  },
  {
   "cell_type": "code",
   "execution_count": 46,
   "id": "ef456813",
   "metadata": {},
   "outputs": [
    {
     "data": {
      "text/plain": [
       "route_id\n",
       "0       12877.486982\n",
       "1       30744.084545\n",
       "2        8262.196860\n",
       "3       22570.834831\n",
       "4       18806.029158\n",
       "            ...     \n",
       "1265    18061.321531\n",
       "1266    33703.261014\n",
       "1267    26941.728181\n",
       "1268    62078.381617\n",
       "1269    35559.108203\n",
       "Length: 1187, dtype: float64"
      ]
     },
     "execution_count": 46,
     "metadata": {},
     "output_type": "execute_result"
    }
   ],
   "source": [
    "# Very slow\n",
    "def h(x):\n",
    "    \"\"\"x is a list of trip_ids, all belong to the same route\"\"\"\n",
    "    lens = []\n",
    "    for trip_id in x:\n",
    "        points = []\n",
    "        # for every stop in this trip, get its point coordinates\n",
    "        for stop in trip_stops[trip_id]:\n",
    "            df = stops[stops.stop_id == stop]\n",
    "            x_c = df.stop_lon.iloc[0]\n",
    "            y_c = df.stop_lat.iloc[0]\n",
    "            points.append(transformer(Point(x_c, y_c)))\n",
    "        # line length of this trip\n",
    "        lens.append(LineString(points).length)\n",
    "    # mean linestring len of every trip in this route\n",
    "    return np.mean(lens)\n",
    "\n",
    "route_lengths = route_trips.apply(h)\n",
    "route_lengths"
   ]
  },
  {
   "cell_type": "code",
   "execution_count": 47,
   "id": "0a778cec",
   "metadata": {},
   "outputs": [
    {
     "data": {
      "text/plain": [
       "24261.984206622277"
      ]
     },
     "execution_count": 47,
     "metadata": {},
     "output_type": "execute_result"
    }
   ],
   "source": [
    "# Average route length in meters\n",
    "route_lengths.mean()"
   ]
  },
  {
   "cell_type": "code",
   "execution_count": 48,
   "id": "41adb431",
   "metadata": {},
   "outputs": [
    {
     "data": {
      "text/plain": [
       "<AxesSubplot:ylabel='Frequency'>"
      ]
     },
     "execution_count": 48,
     "metadata": {},
     "output_type": "execute_result"
    },
    {
     "data": {
      "image/png": "[encoded data removed]",
      "text/plain": [
       "<Figure size 432x288 with 1 Axes>"
      ]
     },
     "metadata": {
      "needs_background": "light"
     },
     "output_type": "display_data"
    }
   ],
   "source": [
    "route_lengths.plot.hist()"
   ]
  },
  {
   "cell_type": "code",
   "execution_count": 49,
   "id": "88bdccaa",
   "metadata": {},
   "outputs": [],
   "source": [
    "route_lengths.to_csv('gen/d_rlengths2.csv')"
   ]
  },
  {
   "cell_type": "markdown",
   "id": "b07159a6",
   "metadata": {},
   "source": [
    "# Average distance between stops"
   ]
  },
  {
   "cell_type": "code",
   "execution_count": 25,
   "id": "b525570c",
   "metadata": {},
   "outputs": [],
   "source": [
    "def calc_distances(x):\n",
    "    '''\n",
    "    input: [(float, float)]\n",
    "        a list of coordinates\n",
    "    output: [float]\n",
    "        the distances between each coordinates\n",
    "    '''\n",
    "    return [Point(a).distance(Point(b)) for a, b in zip(x, x[1:])]"
   ]
  },
  {
   "cell_type": "code",
   "execution_count": 26,
   "id": "2ba75ee6",
   "metadata": {},
   "outputs": [
    {
     "data": {
      "text/plain": [
       "trip_id\n",
       "0_20_20    [321.9643107629447, 254.33472327080472, 328.21...\n",
       "0_20_30    [321.9643107629447, 254.33472327080472, 328.21...\n",
       "0_20_40    [321.9643107629447, 254.33472327080472, 328.21...\n",
       "0_20_50    [321.9643107629447, 254.33472327080472, 328.21...\n",
       "0_21_00    [321.9643107629447, 254.33472327080472, 328.21...\n",
       "                                 ...                        \n",
       "9_21_10    [1026.7149419510426, 313.99021599772726, 716.3...\n",
       "9_21_20    [1026.7149419510426, 313.99021599772726, 716.3...\n",
       "9_21_30    [1026.7149419510426, 313.99021599772726, 716.3...\n",
       "9_21_40    [1026.7149419510426, 313.99021599772726, 716.3...\n",
       "9_21_50    [1026.7149419510426, 313.99021599772726, 716.3...\n",
       "Length: 50355, dtype: object"
      ]
     },
     "execution_count": 26,
     "metadata": {},
     "output_type": "execute_result"
    }
   ],
   "source": [
    "def f(x):\n",
    "    df = x.sort_values('stop_sequence')\n",
    "    points = df[['stop_lon', 'stop_lat']].apply(\n",
    "        lambda row: transformer(Point(row.stop_lon, row.stop_lat)),\n",
    "        axis=1\n",
    "    )\n",
    "    return calc_distances(points.reset_index(drop=True))\n",
    "\n",
    "trip_stop_dists = stop_times_with_loc.groupby('trip_id').apply(f)\n",
    "trip_stop_dists"
   ]
  },
  {
   "cell_type": "code",
   "execution_count": 27,
   "id": "31f9e55d",
   "metadata": {},
   "outputs": [
    {
     "data": {
      "text/plain": [
       "trip_id\n",
       "0_20_20    677.762473\n",
       "0_20_30    677.762473\n",
       "0_20_40    677.762473\n",
       "0_20_50    677.762473\n",
       "0_21_00    677.762473\n",
       "              ...    \n",
       "9_21_10    692.142475\n",
       "9_21_20    692.142475\n",
       "9_21_30    692.142475\n",
       "9_21_40    692.142475\n",
       "9_21_50    692.142475\n",
       "Length: 50355, dtype: float64"
      ]
     },
     "execution_count": 27,
     "metadata": {},
     "output_type": "execute_result"
    }
   ],
   "source": [
    "trip_avg_stop_dists = trip_stop_dists.apply(np.mean)\n",
    "trip_avg_stop_dists"
   ]
  },
  {
   "cell_type": "code",
   "execution_count": 28,
   "id": "a42a36cb",
   "metadata": {},
   "outputs": [
    {
     "data": {
      "text/plain": [
       "624.6303957414559"
      ]
     },
     "execution_count": 28,
     "metadata": {},
     "output_type": "execute_result"
    }
   ],
   "source": [
    "# Global average distance between stops (meters)\n",
    "trip_avg_stop_dists.mean()"
   ]
  },
  {
   "cell_type": "code",
   "execution_count": 29,
   "id": "ff3a9072",
   "metadata": {},
   "outputs": [
    {
     "data": {
      "text/plain": [
       "586.3672753869846"
      ]
     },
     "execution_count": 29,
     "metadata": {},
     "output_type": "execute_result"
    }
   ],
   "source": [
    "trip_avg_stop_dists.median()"
   ]
  },
  {
   "cell_type": "code",
   "execution_count": 30,
   "id": "6bf88e63",
   "metadata": {},
   "outputs": [
    {
     "data": {
      "text/plain": [
       "<AxesSubplot:ylabel='Count'>"
      ]
     },
     "execution_count": 30,
     "metadata": {},
     "output_type": "execute_result"
    },
    {
     "data": {
      "image/png": "[encoded data removed]",
      "text/plain": [
       "<Figure size 432x288 with 1 Axes>"
      ]
     },
     "metadata": {
      "needs_background": "light"
     },
     "output_type": "display_data"
    }
   ],
   "source": [
    "sns.histplot(x=trip_avg_stop_dists)"
   ]
  },
  {
   "cell_type": "code",
   "execution_count": 31,
   "id": "f6aa64af",
   "metadata": {},
   "outputs": [
    {
     "data": {
      "text/plain": [
       "count    2.199935e+06\n",
       "mean     6.169178e+02\n",
       "std      4.431542e+02\n",
       "min      0.000000e+00\n",
       "25%      3.772639e+02\n",
       "50%      5.266410e+02\n",
       "75%      7.303141e+02\n",
       "max      2.761651e+04\n",
       "dtype: float64"
      ]
     },
     "execution_count": 31,
     "metadata": {},
     "output_type": "execute_result"
    }
   ],
   "source": [
    "# The individual distances between every stops in every route\n",
    "trip_stop_dists.explode().astype(float).describe()"
   ]
  },
  {
   "cell_type": "code",
   "execution_count": 32,
   "id": "25f9b173",
   "metadata": {},
   "outputs": [
    {
     "data": {
      "text/plain": [
       "<AxesSubplot:>"
      ]
     },
     "execution_count": 32,
     "metadata": {},
     "output_type": "execute_result"
    },
    {
     "data": {
      "image/png": "[encoded data removed]",
      "text/plain": [
       "<Figure size 432x288 with 1 Axes>"
      ]
     },
     "metadata": {
      "needs_background": "light"
     },
     "output_type": "display_data"
    }
   ],
   "source": [
    "trip_stop_dists.explode().astype(float).plot.box()"
   ]
  },
  {
   "cell_type": "code",
   "execution_count": 33,
   "id": "91dd7d7e",
   "metadata": {},
   "outputs": [
    {
     "data": {
      "text/plain": [
       "trip_id\n",
       "136_06_10    1531.839260\n",
       "136_08_10    1531.839260\n",
       "136_06_40    1531.839260\n",
       "136_06_50    1531.839260\n",
       "136_07_00    1531.839260\n",
       "                ...     \n",
       "310_21_40     232.317376\n",
       "310_22_00     232.317376\n",
       "310_22_10     232.317376\n",
       "310_22_20     232.317376\n",
       "310_20_20     232.317376\n",
       "Length: 50355, dtype: float64"
      ]
     },
     "execution_count": 33,
     "metadata": {},
     "output_type": "execute_result"
    }
   ],
   "source": [
    "trip_avg_stop_dists.sort_values(ascending=False)"
   ]
  },
  {
   "cell_type": "markdown",
   "id": "32d4a73f",
   "metadata": {},
   "source": [
    "# Median bus speed"
   ]
  },
  {
   "cell_type": "markdown",
   "id": "8737ba57",
   "metadata": {},
   "source": [
    "Removed because some stops don't have an associated stop time:"
   ]
  },
  {
   "cell_type": "code",
   "execution_count": 28,
   "id": "c893b498",
   "metadata": {},
   "outputs": [
    {
     "data": {
      "text/plain": [
       "array([1730, 1731, 2443, 2444, 3128, 3129, 3130, 3131, 3132, 3134, 3747,\n",
       "       3748, 3749, 3750, 3751, 3752, 3753, 3754, 3755, 3832, 3833, 3834,\n",
       "       3835, 3836, 3837, 3855, 3914, 3935, 3947, 3948, 3949, 3950, 4104,\n",
       "       4143])"
      ]
     },
     "execution_count": 28,
     "metadata": {},
     "output_type": "execute_result"
    }
   ],
   "source": [
    "np.setdiff1d(stops.stop_id.unique(), stop_times.stop_id.unique())"
   ]
  },
  {
   "cell_type": "code",
   "execution_count": 29,
   "id": "d72f49b1",
   "metadata": {},
   "outputs": [
    {
     "data": {
      "text/html": [
       "<div>\n",
       "<style scoped>\n",
       "    .dataframe tbody tr th:only-of-type {\n",
       "        vertical-align: middle;\n",
       "    }\n",
       "\n",
       "    .dataframe tbody tr th {\n",
       "        vertical-align: top;\n",
       "    }\n",
       "\n",
       "    .dataframe thead th {\n",
       "        text-align: right;\n",
       "    }\n",
       "</style>\n",
       "<table border=\"1\" class=\"dataframe\">\n",
       "  <thead>\n",
       "    <tr style=\"text-align: right;\">\n",
       "      <th></th>\n",
       "      <th>trip_id</th>\n",
       "      <th>arrival_time</th>\n",
       "      <th>departure_time</th>\n",
       "      <th>stop_id</th>\n",
       "      <th>stop_sequence</th>\n",
       "    </tr>\n",
       "  </thead>\n",
       "  <tbody>\n",
       "  </tbody>\n",
       "</table>\n",
       "</div>"
      ],
      "text/plain": [
       "Empty DataFrame\n",
       "Columns: [trip_id, arrival_time, departure_time, stop_id, stop_sequence]\n",
       "Index: []"
      ]
     },
     "execution_count": 29,
     "metadata": {},
     "output_type": "execute_result"
    }
   ],
   "source": [
    "stop_times[stop_times.stop_id == 1730]"
   ]
  },
  {
   "cell_type": "code",
   "execution_count": 30,
   "id": "501a39e7",
   "metadata": {},
   "outputs": [
    {
     "data": {
      "text/html": [
       "<div>\n",
       "<style scoped>\n",
       "    .dataframe tbody tr th:only-of-type {\n",
       "        vertical-align: middle;\n",
       "    }\n",
       "\n",
       "    .dataframe tbody tr th {\n",
       "        vertical-align: top;\n",
       "    }\n",
       "\n",
       "    .dataframe thead th {\n",
       "        text-align: right;\n",
       "    }\n",
       "</style>\n",
       "<table border=\"1\" class=\"dataframe\">\n",
       "  <thead>\n",
       "    <tr style=\"text-align: right;\">\n",
       "      <th></th>\n",
       "      <th>stop_id</th>\n",
       "      <th>stop_code</th>\n",
       "      <th>stop_name</th>\n",
       "      <th>stop_lat</th>\n",
       "      <th>stop_lon</th>\n",
       "      <th>zone_id</th>\n",
       "    </tr>\n",
       "  </thead>\n",
       "  <tbody>\n",
       "    <tr>\n",
       "      <th>1713</th>\n",
       "      <td>1730</td>\n",
       "      <td>DC4019</td>\n",
       "      <td>Dauralla Border</td>\n",
       "      <td>28.507925</td>\n",
       "      <td>76.896927</td>\n",
       "      <td>1730</td>\n",
       "    </tr>\n",
       "  </tbody>\n",
       "</table>\n",
       "</div>"
      ],
      "text/plain": [
       "      stop_id stop_code        stop_name   stop_lat   stop_lon  zone_id\n",
       "1713     1730    DC4019  Dauralla Border  28.507925  76.896927     1730"
      ]
     },
     "execution_count": 30,
     "metadata": {},
     "output_type": "execute_result"
    }
   ],
   "source": [
    "stops[stops.stop_id == 1730]"
   ]
  },
  {
   "cell_type": "markdown",
   "id": "19d08ed6",
   "metadata": {},
   "source": [
    "# Number of links"
   ]
  },
  {
   "cell_type": "markdown",
   "id": "4ef13326",
   "metadata": {},
   "source": [
    "# Number of nodes"
   ]
  },
  {
   "cell_type": "markdown",
   "id": "ac6e2a24",
   "metadata": {},
   "source": [
    "# Network diameter"
   ]
  },
  {
   "cell_type": "code",
   "execution_count": 65,
   "id": "51d53960",
   "metadata": {},
   "outputs": [
    {
     "data": {
      "text/plain": [
       "trip_id\n",
       "0_20_20    [(8581937.473719167, 3357553.47980293), (85822...\n",
       "0_20_30    [(8581937.473719167, 3357553.47980293), (85822...\n",
       "0_20_40    [(8581937.473719167, 3357553.47980293), (85822...\n",
       "0_20_50    [(8581937.473719167, 3357553.47980293), (85822...\n",
       "0_21_00    [(8581937.473719167, 3357553.47980293), (85822...\n",
       "                                 ...                        \n",
       "9_21_10    [(8591437.033785501, 3338474.1957936427), (859...\n",
       "9_21_20    [(8591437.033785501, 3338474.1957936427), (859...\n",
       "9_21_30    [(8591437.033785501, 3338474.1957936427), (859...\n",
       "9_21_40    [(8591437.033785501, 3338474.1957936427), (859...\n",
       "9_21_50    [(8591437.033785501, 3338474.1957936427), (859...\n",
       "Length: 50355, dtype: object"
      ]
     },
     "execution_count": 65,
     "metadata": {},
     "output_type": "execute_result"
    }
   ],
   "source": [
    "def f(x):\n",
    "    df = x.sort_values('stop_sequence')\n",
    "    # networkx refuses to take Points so we need to transform it back to floats\n",
    "    def g(row):\n",
    "        p = transformer(Point(row.stop_lon, row.stop_lat))\n",
    "        return (p.x, p.y)\n",
    "    points = df[['stop_lon', 'stop_lat']].apply(g,axis=1)\n",
    "    # combine all stops into a single list for the single trip_id\n",
    "    return points.reset_index(drop=True).to_list()\n",
    "\n",
    "trip_stop_coords = stop_times_with_loc.groupby('trip_id').apply(f)\n",
    "trip_stop_coords"
   ]
  },
  {
   "cell_type": "code",
   "execution_count": 66,
   "id": "1a2a9f5e",
   "metadata": {},
   "outputs": [],
   "source": [
    "trip_stop_coords_dict = trip_stop_coords.to_dict()"
   ]
  },
  {
   "cell_type": "code",
   "execution_count": 67,
   "id": "544d31a4",
   "metadata": {
    "tags": []
   },
   "outputs": [],
   "source": [
    "g = nx.from_dict_of_lists(trip_stop_coords_dict)"
   ]
  },
  {
   "cell_type": "code",
   "execution_count": null,
   "id": "62a9b23b",
   "metadata": {},
   "outputs": [],
   "source": [
    "#nx.algorithms.distance_measures.diameter(g)"
   ]
  },
  {
   "cell_type": "markdown",
   "id": "a5fdc4a5",
   "metadata": {},
   "source": [
    "# Network density"
   ]
  },
  {
   "cell_type": "code",
   "execution_count": null,
   "id": "deaee50d",
   "metadata": {},
   "outputs": [],
   "source": [
    "#nx.classes.function.density(g)"
   ]
  }
 ],
 "metadata": {
  "kernelspec": {
   "display_name": "Python 3 (ipykernel)",
   "language": "python",
   "name": "python3"
  },
  "language_info": {
   "codemirror_mode": {
    "name": "ipython",
    "version": 3
   },
   "file_extension": ".py",
   "mimetype": "text/x-python",
   "name": "python",
   "nbconvert_exporter": "python",
   "pygments_lexer": "ipython3",
   "version": "3.9.1"
  }
 },
 "nbformat": 4,
 "nbformat_minor": 5
}
