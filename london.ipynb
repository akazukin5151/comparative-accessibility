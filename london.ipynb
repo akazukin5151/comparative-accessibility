{
 "cells": [
  {
   "cell_type": "code",
   "execution_count": 1,
   "id": "b3d6ead1",
   "metadata": {},
   "outputs": [
    {
     "name": "stderr",
     "output_type": "stream",
     "text": [
      "/home/twenty/miniconda3/lib/python3.9/site-packages/geopandas/_compat.py:111: UserWarning: The Shapely GEOS version (3.8.0-CAPI-1.13.1 ) is incompatible with the GEOS version PyGEOS was compiled with (3.9.0-CAPI-1.16.2). Conversions between both will be slow.\n",
      "  warnings.warn(\n"
     ]
    }
   ],
   "source": [
    "import datetime as dt\n",
    "from datetime import date\n",
    "from datetime import datetime\n",
    "from datetime import timedelta\n",
    "import pandas as pd\n",
    "import geopandas as gpd\n",
    "import numpy as np\n",
    "import seaborn as sns\n",
    "import matplotlib.pyplot as plt\n",
    "from shapely.geometry import LineString, Point\n",
    "import pyproj\n",
    "from shapely.ops import transform\n",
    "import networkx as nx\n",
    "import momepy\n"
   ]
  },
  {
   "cell_type": "markdown",
   "id": "5a775e75",
   "metadata": {},
   "source": [
    "# Number of routes"
   ]
  },
  {
   "cell_type": "code",
   "execution_count": 2,
   "id": "792f34ec",
   "metadata": {},
   "outputs": [],
   "source": [
    "bus_sequences = pd.read_csv('data/london/bus-sequences.csv')"
   ]
  },
  {
   "cell_type": "code",
   "execution_count": 3,
   "id": "2244c967",
   "metadata": {},
   "outputs": [
    {
     "data": {
      "text/html": [
       "<div>\n",
       "<style scoped>\n",
       "    .dataframe tbody tr th:only-of-type {\n",
       "        vertical-align: middle;\n",
       "    }\n",
       "\n",
       "    .dataframe tbody tr th {\n",
       "        vertical-align: top;\n",
       "    }\n",
       "\n",
       "    .dataframe thead th {\n",
       "        text-align: right;\n",
       "    }\n",
       "</style>\n",
       "<table border=\"1\" class=\"dataframe\">\n",
       "  <thead>\n",
       "    <tr style=\"text-align: right;\">\n",
       "      <th></th>\n",
       "      <th>Route</th>\n",
       "      <th>Run</th>\n",
       "      <th>Sequence</th>\n",
       "      <th>Stop_Code_LBSL</th>\n",
       "      <th>Bus_Stop_Code</th>\n",
       "      <th>Naptan_Atco</th>\n",
       "      <th>Stop_Name</th>\n",
       "      <th>Location_Easting</th>\n",
       "      <th>Location_Northing</th>\n",
       "      <th>Heading</th>\n",
       "      <th>Virtual_Bus_Stop</th>\n",
       "    </tr>\n",
       "  </thead>\n",
       "  <tbody>\n",
       "    <tr>\n",
       "      <th>0</th>\n",
       "      <td>1</td>\n",
       "      <td>1</td>\n",
       "      <td>1</td>\n",
       "      <td>14456</td>\n",
       "      <td>53369</td>\n",
       "      <td>490000235Z</td>\n",
       "      <td>NEW OXFORD STREET</td>\n",
       "      <td>529998</td>\n",
       "      <td>181428</td>\n",
       "      <td>74.0</td>\n",
       "      <td>0</td>\n",
       "    </tr>\n",
       "    <tr>\n",
       "      <th>1</th>\n",
       "      <td>1</td>\n",
       "      <td>1</td>\n",
       "      <td>2</td>\n",
       "      <td>29844</td>\n",
       "      <td>54468</td>\n",
       "      <td>490010131WB</td>\n",
       "      <td>MUSEUM STREET</td>\n",
       "      <td>530237</td>\n",
       "      <td>181523</td>\n",
       "      <td>53.0</td>\n",
       "      <td>0</td>\n",
       "    </tr>\n",
       "    <tr>\n",
       "      <th>2</th>\n",
       "      <td>1</td>\n",
       "      <td>1</td>\n",
       "      <td>3</td>\n",
       "      <td>26425</td>\n",
       "      <td>54321</td>\n",
       "      <td>490000112M</td>\n",
       "      <td>KINGSWAY / HOLBORN STATION &lt;&gt;</td>\n",
       "      <td>530560</td>\n",
       "      <td>181433</td>\n",
       "      <td>155.0</td>\n",
       "      <td>0</td>\n",
       "    </tr>\n",
       "    <tr>\n",
       "      <th>3</th>\n",
       "      <td>1</td>\n",
       "      <td>1</td>\n",
       "      <td>4</td>\n",
       "      <td>BP6517</td>\n",
       "      <td>92618</td>\n",
       "      <td>490019703Z</td>\n",
       "      <td>ALDWYCH / DRURY LANE</td>\n",
       "      <td>530637</td>\n",
       "      <td>180940</td>\n",
       "      <td>201.0</td>\n",
       "      <td>0</td>\n",
       "    </tr>\n",
       "    <tr>\n",
       "      <th>4</th>\n",
       "      <td>1</td>\n",
       "      <td>1</td>\n",
       "      <td>5</td>\n",
       "      <td>1835</td>\n",
       "      <td>71368</td>\n",
       "      <td>490014271N</td>\n",
       "      <td>WATERLOO BRIDGE / SOUTH BANK</td>\n",
       "      <td>530890</td>\n",
       "      <td>180366</td>\n",
       "      <td>149.0</td>\n",
       "      <td>0</td>\n",
       "    </tr>\n",
       "    <tr>\n",
       "      <th>...</th>\n",
       "      <td>...</td>\n",
       "      <td>...</td>\n",
       "      <td>...</td>\n",
       "      <td>...</td>\n",
       "      <td>...</td>\n",
       "      <td>...</td>\n",
       "      <td>...</td>\n",
       "      <td>...</td>\n",
       "      <td>...</td>\n",
       "      <td>...</td>\n",
       "      <td>...</td>\n",
       "    </tr>\n",
       "    <tr>\n",
       "      <th>58100</th>\n",
       "      <td>X68</td>\n",
       "      <td>2</td>\n",
       "      <td>32</td>\n",
       "      <td>6545</td>\n",
       "      <td>73787</td>\n",
       "      <td>490010343S</td>\n",
       "      <td>NORTHCOTE ROAD / LEGACY YOUTH ZONE</td>\n",
       "      <td>532571</td>\n",
       "      <td>167119</td>\n",
       "      <td>196.0</td>\n",
       "      <td>0</td>\n",
       "    </tr>\n",
       "    <tr>\n",
       "      <th>58101</th>\n",
       "      <td>X68</td>\n",
       "      <td>2</td>\n",
       "      <td>33</td>\n",
       "      <td>6544</td>\n",
       "      <td>56294</td>\n",
       "      <td>490013376S</td>\n",
       "      <td>CROMWELL ROAD</td>\n",
       "      <td>532488</td>\n",
       "      <td>166822</td>\n",
       "      <td>195.0</td>\n",
       "      <td>0</td>\n",
       "    </tr>\n",
       "    <tr>\n",
       "      <th>58102</th>\n",
       "      <td>X68</td>\n",
       "      <td>2</td>\n",
       "      <td>34</td>\n",
       "      <td>6543</td>\n",
       "      <td>58680</td>\n",
       "      <td>490015451S</td>\n",
       "      <td>HOGARTH CRESCENT</td>\n",
       "      <td>532429</td>\n",
       "      <td>166605</td>\n",
       "      <td>198.0</td>\n",
       "      <td>0</td>\n",
       "    </tr>\n",
       "    <tr>\n",
       "      <th>58103</th>\n",
       "      <td>X68</td>\n",
       "      <td>2</td>\n",
       "      <td>35</td>\n",
       "      <td>6542</td>\n",
       "      <td>57633</td>\n",
       "      <td>490003793S</td>\n",
       "      <td>BEDFORD HALL</td>\n",
       "      <td>532368</td>\n",
       "      <td>166379</td>\n",
       "      <td>191.0</td>\n",
       "      <td>0</td>\n",
       "    </tr>\n",
       "    <tr>\n",
       "      <th>58104</th>\n",
       "      <td>X68</td>\n",
       "      <td>2</td>\n",
       "      <td>36</td>\n",
       "      <td>BP6119</td>\n",
       "      <td>92195</td>\n",
       "      <td>490014420Z</td>\n",
       "      <td>WEST CROYDON BUS STATION</td>\n",
       "      <td>532236</td>\n",
       "      <td>166185</td>\n",
       "      <td>238.0</td>\n",
       "      <td>0</td>\n",
       "    </tr>\n",
       "  </tbody>\n",
       "</table>\n",
       "<p>58105 rows × 11 columns</p>\n",
       "</div>"
      ],
      "text/plain": [
       "      Route  Run  Sequence Stop_Code_LBSL Bus_Stop_Code  Naptan_Atco  \\\n",
       "0         1    1         1          14456         53369   490000235Z   \n",
       "1         1    1         2          29844         54468  490010131WB   \n",
       "2         1    1         3          26425         54321   490000112M   \n",
       "3         1    1         4         BP6517         92618   490019703Z   \n",
       "4         1    1         5           1835         71368   490014271N   \n",
       "...     ...  ...       ...            ...           ...          ...   \n",
       "58100   X68    2        32           6545         73787   490010343S   \n",
       "58101   X68    2        33           6544         56294   490013376S   \n",
       "58102   X68    2        34           6543         58680   490015451S   \n",
       "58103   X68    2        35           6542         57633   490003793S   \n",
       "58104   X68    2        36         BP6119         92195   490014420Z   \n",
       "\n",
       "                                Stop_Name  Location_Easting  \\\n",
       "0                       NEW OXFORD STREET            529998   \n",
       "1                           MUSEUM STREET            530237   \n",
       "2           KINGSWAY / HOLBORN STATION <>            530560   \n",
       "3                    ALDWYCH / DRURY LANE            530637   \n",
       "4            WATERLOO BRIDGE / SOUTH BANK            530890   \n",
       "...                                   ...               ...   \n",
       "58100  NORTHCOTE ROAD / LEGACY YOUTH ZONE            532571   \n",
       "58101                       CROMWELL ROAD            532488   \n",
       "58102                    HOGARTH CRESCENT            532429   \n",
       "58103                        BEDFORD HALL            532368   \n",
       "58104            WEST CROYDON BUS STATION            532236   \n",
       "\n",
       "       Location_Northing  Heading  Virtual_Bus_Stop  \n",
       "0                 181428     74.0                 0  \n",
       "1                 181523     53.0                 0  \n",
       "2                 181433    155.0                 0  \n",
       "3                 180940    201.0                 0  \n",
       "4                 180366    149.0                 0  \n",
       "...                  ...      ...               ...  \n",
       "58100             167119    196.0                 0  \n",
       "58101             166822    195.0                 0  \n",
       "58102             166605    198.0                 0  \n",
       "58103             166379    191.0                 0  \n",
       "58104             166185    238.0                 0  \n",
       "\n",
       "[58105 rows x 11 columns]"
      ]
     },
     "execution_count": 3,
     "metadata": {},
     "output_type": "execute_result"
    }
   ],
   "source": [
    "bus_sequences"
   ]
  },
  {
   "cell_type": "code",
   "execution_count": 4,
   "id": "df5ef669",
   "metadata": {},
   "outputs": [
    {
     "data": {
      "text/plain": [
       "(793,)"
      ]
     },
     "execution_count": 4,
     "metadata": {},
     "output_type": "execute_result"
    }
   ],
   "source": [
    "bus_sequences.Route.unique().shape"
   ]
  },
  {
   "cell_type": "markdown",
   "id": "9859853c",
   "metadata": {},
   "source": [
    "# Number of stops"
   ]
  },
  {
   "cell_type": "markdown",
   "id": "6dd682bb",
   "metadata": {},
   "source": [
    "The reference on LBSL stop code says:\n",
    "\n",
    "> *** KEY FIELD *** This is the alphanumeric identifier of a bus stop used by LBSL.\n",
    "\n",
    "This number is pretty similar to the \"bus stop code\", so it must be \"double counting\" stops by distinguishing direction"
   ]
  },
  {
   "cell_type": "code",
   "execution_count": 5,
   "id": "49db0c10",
   "metadata": {},
   "outputs": [
    {
     "data": {
      "text/plain": [
       "(20478,)"
      ]
     },
     "execution_count": 5,
     "metadata": {},
     "output_type": "execute_result"
    }
   ],
   "source": [
    "bus_sequences.Stop_Code_LBSL.unique().shape"
   ]
  },
  {
   "cell_type": "markdown",
   "id": "cca45916",
   "metadata": {},
   "source": [
    "The reference on Bus stop code says:\n",
    "\n",
    "> The area code for London is “1”.  As an example, the bus stop code for Southwark Station heading northbound is: 77293.  The NaPTAN NaptanCode for this stop is therefore 177293\n",
    "\n",
    "Should this \"double count\" stops by distinguishing direction?"
   ]
  },
  {
   "cell_type": "code",
   "execution_count": 6,
   "id": "e771bcae",
   "metadata": {},
   "outputs": [
    {
     "data": {
      "text/plain": [
       "(20184,)"
      ]
     },
     "execution_count": 6,
     "metadata": {},
     "output_type": "execute_result"
    }
   ],
   "source": [
    "bus_sequences.Bus_Stop_Code.unique().shape"
   ]
  },
  {
   "cell_type": "code",
   "execution_count": 7,
   "id": "54e92cce",
   "metadata": {},
   "outputs": [
    {
     "data": {
      "text/plain": [
       "(10499,)"
      ]
     },
     "execution_count": 7,
     "metadata": {},
     "output_type": "execute_result"
    }
   ],
   "source": [
    "bus_sequences.Stop_Name.unique().shape"
   ]
  },
  {
   "cell_type": "code",
   "execution_count": 8,
   "id": "cd75f45b",
   "metadata": {},
   "outputs": [
    {
     "data": {
      "text/plain": [
       "(20429,)"
      ]
     },
     "execution_count": 8,
     "metadata": {},
     "output_type": "execute_result"
    }
   ],
   "source": [
    "bus_sequences.Naptan_Atco.unique().shape"
   ]
  },
  {
   "cell_type": "markdown",
   "id": "1f8acf23",
   "metadata": {},
   "source": [
    "Maybe virtual bus stops need to be filtered out"
   ]
  },
  {
   "cell_type": "code",
   "execution_count": 9,
   "id": "56d5d2c1",
   "metadata": {},
   "outputs": [
    {
     "data": {
      "text/plain": [
       "(18919,)"
      ]
     },
     "execution_count": 9,
     "metadata": {},
     "output_type": "execute_result"
    }
   ],
   "source": [
    "bus_sequences[bus_sequences.Virtual_Bus_Stop == 0].Stop_Code_LBSL.unique().shape"
   ]
  },
  {
   "cell_type": "code",
   "execution_count": 10,
   "id": "866fe5ab",
   "metadata": {},
   "outputs": [
    {
     "data": {
      "text/plain": [
       "(18872,)"
      ]
     },
     "execution_count": 10,
     "metadata": {},
     "output_type": "execute_result"
    }
   ],
   "source": [
    "bus_sequences[bus_sequences.Virtual_Bus_Stop == 0].Bus_Stop_Code.unique().shape"
   ]
  },
  {
   "cell_type": "code",
   "execution_count": 11,
   "id": "21ad3b2f",
   "metadata": {},
   "outputs": [
    {
     "data": {
      "text/plain": [
       "(9693,)"
      ]
     },
     "execution_count": 11,
     "metadata": {},
     "output_type": "execute_result"
    }
   ],
   "source": [
    "bus_sequences[bus_sequences.Virtual_Bus_Stop == 0].Stop_Name.unique().shape"
   ]
  },
  {
   "cell_type": "code",
   "execution_count": 12,
   "id": "1cd398af",
   "metadata": {},
   "outputs": [
    {
     "data": {
      "text/plain": [
       "(18919,)"
      ]
     },
     "execution_count": 12,
     "metadata": {},
     "output_type": "execute_result"
    }
   ],
   "source": [
    "bus_sequences[bus_sequences.Virtual_Bus_Stop == 0].Naptan_Atco.unique().shape"
   ]
  },
  {
   "cell_type": "markdown",
   "id": "7226dd24",
   "metadata": {},
   "source": [
    "# Average number of stops per route"
   ]
  },
  {
   "cell_type": "markdown",
   "id": "72641926",
   "metadata": {},
   "source": [
    "Let's accomodate all the different measures..."
   ]
  },
  {
   "cell_type": "code",
   "execution_count": 13,
   "id": "0a0bc447",
   "metadata": {},
   "outputs": [],
   "source": [
    "measures = [\n",
    "    lambda x: x.Stop_Code_LBSL,\n",
    "    lambda x: x.Bus_Stop_Code,\n",
    "    lambda x: x.Stop_Name,\n",
    "    lambda x: x.Naptan_Atco\n",
    "]"
   ]
  },
  {
   "cell_type": "code",
   "execution_count": 14,
   "id": "11475f94",
   "metadata": {},
   "outputs": [
    {
     "name": "stdout",
     "output_type": "stream",
     "text": [
      "73.27238335435057\n",
      "73.2673392181589\n",
      "73.27238335435057\n",
      "73.27112232030265\n"
     ]
    }
   ],
   "source": [
    "for measure in measures:\n",
    "    print(measure(bus_sequences.groupby('Route')).count().mean())"
   ]
  },
  {
   "cell_type": "code",
   "execution_count": 15,
   "id": "9c711e99",
   "metadata": {},
   "outputs": [
    {
     "data": {
      "text/plain": [
       "<AxesSubplot:xlabel='Route'>"
      ]
     },
     "execution_count": 15,
     "metadata": {},
     "output_type": "execute_result"
    },
    {
     "data": {
      "image/png": "[encoded data removed]",
      "text/plain": [
       "<Figure size 432x288 with 1 Axes>"
      ]
     },
     "metadata": {
      "needs_background": "light"
     },
     "output_type": "display_data"
    }
   ],
   "source": [
    "bus_sequences.groupby('Route').Stop_Code_LBSL.count().plot.bar()"
   ]
  },
  {
   "cell_type": "markdown",
   "id": "64f0ce4f",
   "metadata": {},
   "source": [
    "# Average route length"
   ]
  },
  {
   "cell_type": "markdown",
   "id": "28b74868",
   "metadata": {},
   "source": [
    "The CRS is British National Grid (27700), which is in metres"
   ]
  },
  {
   "cell_type": "code",
   "execution_count": 16,
   "id": "fd3f4f2a",
   "metadata": {},
   "outputs": [],
   "source": [
    "c = bus_sequences[['Location_Easting', 'Location_Northing']].apply(Point, axis=1)"
   ]
  },
  {
   "cell_type": "code",
   "execution_count": 17,
   "id": "e2b28d77",
   "metadata": {},
   "outputs": [
    {
     "data": {
      "text/plain": [
       "0        POINT (529998 181428)\n",
       "1        POINT (530237 181523)\n",
       "2        POINT (530560 181433)\n",
       "3        POINT (530637 180940)\n",
       "4        POINT (530890 180366)\n",
       "                 ...          \n",
       "58100    POINT (532571 167119)\n",
       "58101    POINT (532488 166822)\n",
       "58102    POINT (532429 166605)\n",
       "58103    POINT (532368 166379)\n",
       "58104    POINT (532236 166185)\n",
       "Length: 58105, dtype: object"
      ]
     },
     "execution_count": 17,
     "metadata": {},
     "output_type": "execute_result"
    }
   ],
   "source": [
    "c"
   ]
  },
  {
   "cell_type": "code",
   "execution_count": 18,
   "id": "c0c6bae0",
   "metadata": {},
   "outputs": [],
   "source": [
    "bus_sequences['geometry'] = c"
   ]
  },
  {
   "cell_type": "code",
   "execution_count": 19,
   "id": "aa76d36c",
   "metadata": {},
   "outputs": [
    {
     "data": {
      "text/plain": [
       "Route  Run\n",
       "1      1      LINESTRING (529998 181428, 530237 181523, 5305...\n",
       "       2      LINESTRING (535467 179451, 535430 179135, 5357...\n",
       "100    1      LINESTRING (532026 181450, 532062 181569, 5322...\n",
       "       2      LINESTRING (534799 180910, 534821 180706, 5348...\n",
       "101    1      LINESTRING (540542 188400, 540584 188379, 5405...\n",
       "                                    ...                        \n",
       "X140   2      LINESTRING (515288 188108, 514225 186352, 5137...\n",
       "X26    1      LINESTRING (532220 166139, 532748 165706, 5287...\n",
       "       2      LINESTRING (507514 175845, 509614 175382, 5157...\n",
       "X68    1      LINESTRING (532250 166167, 532365 166417, 5323...\n",
       "       2      LINESTRING (530033 182042, 530289 181907, 5304...\n",
       "Length: 1702, dtype: object"
      ]
     },
     "execution_count": 19,
     "metadata": {},
     "output_type": "execute_result"
    }
   ],
   "source": [
    "def to_linestring(x):\n",
    "    geom = x.geometry\n",
    "    if len(geom) == 1:\n",
    "        return None\n",
    "    return LineString(geom.reset_index(drop=True))\n",
    "\n",
    "# For every route and run...\n",
    "linestring_by_runs = bus_sequences.groupby(['Route', 'Run']).apply(to_linestring)\n",
    "linestring_by_runs"
   ]
  },
  {
   "cell_type": "code",
   "execution_count": 22,
   "id": "3fbe3bf9",
   "metadata": {},
   "outputs": [
    {
     "data": {
      "text/plain": [
       "Route  Run\n",
       "1      1       8247.834640\n",
       "       2       8552.044646\n",
       "100    1       5753.782624\n",
       "       2       5209.819719\n",
       "101    1      10804.467542\n",
       "                  ...     \n",
       "X140   2      14821.371159\n",
       "X26    1      30937.166032\n",
       "       2      31094.572755\n",
       "X68    1      17299.840987\n",
       "       2      17573.124391\n",
       "Length: 1600, dtype: float64"
      ]
     },
     "execution_count": 22,
     "metadata": {},
     "output_type": "execute_result"
    }
   ],
   "source": [
    "route_lengths = linestring_by_runs.dropna().apply(lambda x: x.length)\n",
    "route_lengths"
   ]
  },
  {
   "cell_type": "code",
   "execution_count": 23,
   "id": "02f00851",
   "metadata": {},
   "outputs": [
    {
     "data": {
      "text/plain": [
       "12122.48348203137"
      ]
     },
     "execution_count": 23,
     "metadata": {},
     "output_type": "execute_result"
    }
   ],
   "source": [
    "# Global Average route length in metres\n",
    "route_lengths.mean()"
   ]
  },
  {
   "cell_type": "code",
   "execution_count": 24,
   "id": "68ba334a",
   "metadata": {},
   "outputs": [
    {
     "data": {
      "text/plain": [
       "<AxesSubplot:ylabel='Frequency'>"
      ]
     },
     "execution_count": 24,
     "metadata": {},
     "output_type": "execute_result"
    },
    {
     "data": {
      "image/png": "[encoded data removed]",
      "text/plain": [
       "<Figure size 432x288 with 1 Axes>"
      ]
     },
     "metadata": {
      "needs_background": "light"
     },
     "output_type": "display_data"
    }
   ],
   "source": [
    "route_lengths.plot.hist(bins=30)"
   ]
  },
  {
   "cell_type": "markdown",
   "id": "48540479",
   "metadata": {},
   "source": [
    "# Average distance between stops"
   ]
  },
  {
   "cell_type": "code",
   "execution_count": 25,
   "id": "491c5196",
   "metadata": {},
   "outputs": [],
   "source": [
    "# TODO: copied from delhi.ipynb\n",
    "def calc_distances(x):\n",
    "    '''\n",
    "    input: [(float, float)]\n",
    "        a list of coordinates\n",
    "    output: [float]\n",
    "        the distances between each coordinates\n",
    "    '''\n",
    "    return [Point(a).distance(Point(b)) for a, b in zip(x, x[1:])]"
   ]
  },
  {
   "cell_type": "code",
   "execution_count": 26,
   "id": "71421467",
   "metadata": {},
   "outputs": [
    {
     "data": {
      "text/plain": [
       "Route  Run\n",
       "1      1      [257.1886467167631, 335.3043393694749, 498.976...\n",
       "       2      [318.15876539866065, 311.8236681203016, 68.680...\n",
       "100    1      [124.32618388738553, 200.0024999843752, 376.22...\n",
       "       2      [205.1828452868319, 320.30610359467084, 141.99...\n",
       "101    1      [46.95742752749558, 208.83725721240452, 345.85...\n",
       "                                    ...                        \n",
       "X140   2      [2052.682391408861, 884.7762428998645, 1156.41...\n",
       "X26    1      [682.8418557762844, 4148.835981332595, 534.899...\n",
       "       2      [2150.434607236407, 7529.286353964763, 2696.28...\n",
       "X68    1      [275.1817581163403, 259.5149321330085, 351.410...\n",
       "       2      [289.4149270511112, 206.4654934849889, 343.209...\n",
       "Length: 1702, dtype: object"
      ]
     },
     "execution_count": 26,
     "metadata": {},
     "output_type": "execute_result"
    }
   ],
   "source": [
    "def f(x):\n",
    "    geom = x.geometry\n",
    "    if len(geom) == 1:\n",
    "        return None\n",
    "    return calc_distances(geom.reset_index(drop=True))\n",
    "\n",
    "route_stop_dists = bus_sequences.groupby(['Route', 'Run']).apply(f)\n",
    "route_stop_dists"
   ]
  },
  {
   "cell_type": "code",
   "execution_count": 27,
   "id": "72693078",
   "metadata": {},
   "outputs": [
    {
     "data": {
      "text/plain": [
       "Route  Run\n",
       "1      1       305.475357\n",
       "       2       316.742394\n",
       "100    1       250.164462\n",
       "       2       248.086653\n",
       "101    1       251.266687\n",
       "                 ...     \n",
       "X140   2      1235.114263\n",
       "X26    1      2379.782002\n",
       "       2      2391.890212\n",
       "X68    1       540.620031\n",
       "       2       502.089268\n",
       "Length: 1600, dtype: float64"
      ]
     },
     "execution_count": 27,
     "metadata": {},
     "output_type": "execute_result"
    }
   ],
   "source": [
    "route_avg_stop_dists = route_stop_dists.dropna().apply(np.mean)\n",
    "route_avg_stop_dists"
   ]
  },
  {
   "cell_type": "code",
   "execution_count": 28,
   "id": "b8951a65",
   "metadata": {},
   "outputs": [
    {
     "data": {
      "text/plain": [
       "536.8036534744423"
      ]
     },
     "execution_count": 28,
     "metadata": {},
     "output_type": "execute_result"
    }
   ],
   "source": [
    "# Global average distance between stops meters\n",
    "route_avg_stop_dists.mean()"
   ]
  },
  {
   "cell_type": "code",
   "execution_count": 29,
   "id": "50e85ed3",
   "metadata": {},
   "outputs": [
    {
     "data": {
      "text/plain": [
       "<AxesSubplot:>"
      ]
     },
     "execution_count": 29,
     "metadata": {},
     "output_type": "execute_result"
    },
    {
     "data": {
      "image/png": "[encoded data removed]",
      "text/plain": [
       "<Figure size 432x288 with 1 Axes>"
      ]
     },
     "metadata": {
      "needs_background": "light"
     },
     "output_type": "display_data"
    }
   ],
   "source": [
    "sns.boxplot(x=route_avg_stop_dists)"
   ]
  },
  {
   "cell_type": "code",
   "execution_count": 30,
   "id": "0d52bf8a",
   "metadata": {},
   "outputs": [
    {
     "data": {
      "text/plain": [
       "<AxesSubplot:>"
      ]
     },
     "execution_count": 30,
     "metadata": {},
     "output_type": "execute_result"
    },
    {
     "data": {
      "image/png": "[encoded data removed]",
      "text/plain": [
       "<Figure size 432x288 with 1 Axes>"
      ]
     },
     "metadata": {
      "needs_background": "light"
     },
     "output_type": "display_data"
    }
   ],
   "source": [
    "# The individual distances between every stops in every route\n",
    "sns.boxplot(x=route_stop_dists.explode().values.astype(float))"
   ]
  },
  {
   "cell_type": "markdown",
   "id": "994b711a",
   "metadata": {},
   "source": [
    "# Median bus speed"
   ]
  },
  {
   "cell_type": "markdown",
   "id": "53445e46",
   "metadata": {},
   "source": [
    "I don't have static time data for London buses (at least, not in this dataset)\n",
    "\n",
    "But tbf, in the delhi dataset, the time data is unreliable too, as it is the scheduled times not the actual times"
   ]
  },
  {
   "cell_type": "markdown",
   "id": "d478dce0",
   "metadata": {},
   "source": [
    "# Network diameter"
   ]
  },
  {
   "cell_type": "code",
   "execution_count": 50,
   "id": "d3954357",
   "metadata": {},
   "outputs": [
    {
     "data": {
      "text/plain": [
       "<pandas.core.groupby.generic.DataFrameGroupBy object at 0x7f49a279c880>"
      ]
     },
     "execution_count": 50,
     "metadata": {},
     "output_type": "execute_result"
    }
   ],
   "source": [
    "route_stop_coords = bus_sequences.groupby(['Route', 'Run'])\n",
    "route_stop_coords"
   ]
  },
  {
   "cell_type": "code",
   "execution_count": 51,
   "id": "fdaaf172",
   "metadata": {},
   "outputs": [
    {
     "data": {
      "text/plain": [
       "Route  Run\n",
       "1      1      [(14456, 529998, 181428), (29844, 530237, 1815...\n",
       "       2      [(BP2391, 535467, 179451), (25923, 535430, 179...\n",
       "100    1      [(BP5593, 532026, 181450), (BP5594, 532062, 18...\n",
       "       2      [(BP2340, 534799, 180910), (LE108, 534821, 180...\n",
       "101    1      [(34050, 540542, 188400), (15555, 540584, 1883...\n",
       "                                    ...                        \n",
       "X140   2      [(R0842, 515288, 188108), (26472, 514225, 1863...\n",
       "X26    1      [(BP6117, 532220, 166139), (BP2129, 532748, 16...\n",
       "       2      [(BP5117, 507514, 175845), (35287, 509614, 175...\n",
       "X68    1      [(BP6115, 532250, 166167), (6564, 532365, 1664...\n",
       "       2      [(33925, 530033, 182042), (8437, 530289, 18190...\n",
       "Length: 1702, dtype: object"
      ]
     },
     "execution_count": 51,
     "metadata": {},
     "output_type": "execute_result"
    }
   ],
   "source": [
    "def f(x):\n",
    "    return [(n, x, y) for n, x, y in zip(x.Stop_Code_LBSL, x.Location_Easting, x.Location_Northing)]\n",
    "    \n",
    "route_stop_coords = route_stop_coords.apply(f)\n",
    "route_stop_coords"
   ]
  },
  {
   "cell_type": "code",
   "execution_count": 62,
   "id": "fc718976",
   "metadata": {},
   "outputs": [
    {
     "data": {
      "text/plain": [
       "0        (14456, 529998, 181428)\n",
       "0        (29844, 530237, 181523)\n",
       "0        (26425, 530560, 181433)\n",
       "0       (BP6517, 530637, 180940)\n",
       "0         (1835, 530890, 180366)\n",
       "                  ...           \n",
       "1701      (6545, 532571, 167119)\n",
       "1701      (6544, 532488, 166822)\n",
       "1701      (6543, 532429, 166605)\n",
       "1701      (6542, 532368, 166379)\n",
       "1701    (BP6119, 532236, 166185)\n",
       "Length: 58105, dtype: object"
      ]
     },
     "execution_count": 62,
     "metadata": {},
     "output_type": "execute_result"
    }
   ],
   "source": [
    "exploded = route_stop_coords.reset_index(drop=True).explode()\n",
    "exploded"
   ]
  },
  {
   "cell_type": "code",
   "execution_count": 64,
   "id": "c53e87e2",
   "metadata": {},
   "outputs": [],
   "source": [
    "df = pd.DataFrame()\n",
    "df['names'] = exploded.map(lambda x: x[0])\n",
    "df['x'] = exploded.map(lambda x: x[1])\n",
    "df['y'] = exploded.map(lambda x: x[2])"
   ]
  },
  {
   "cell_type": "code",
   "execution_count": 65,
   "id": "fd28375c",
   "metadata": {},
   "outputs": [],
   "source": [
    "g = nx.from_dict_of_lists(df.to_dict())"
   ]
  },
  {
   "cell_type": "code",
   "execution_count": 66,
   "id": "236154e2",
   "metadata": {},
   "outputs": [
    {
     "data": {
      "text/plain": [
       "2"
      ]
     },
     "execution_count": 66,
     "metadata": {},
     "output_type": "execute_result"
    }
   ],
   "source": [
    "nx.algorithms.distance_measures.diameter(g)"
   ]
  },
  {
   "cell_type": "markdown",
   "id": "0fc6b802",
   "metadata": {},
   "source": [
    "# Network density"
   ]
  },
  {
   "cell_type": "code",
   "execution_count": 67,
   "id": "b0733a0e",
   "metadata": {},
   "outputs": [
    {
     "data": {
      "text/plain": [
       "0.003514931229606377"
      ]
     },
     "execution_count": 67,
     "metadata": {},
     "output_type": "execute_result"
    }
   ],
   "source": [
    "nx.classes.function.density(g)"
   ]
  },
  {
   "cell_type": "code",
   "execution_count": 69,
   "id": "93b3fedf",
   "metadata": {},
   "outputs": [
    {
     "data": {
      "image/png": "[encoded data removed]",
      "text/plain": [
       "<Figure size 432x288 with 1 Axes>"
      ]
     },
     "metadata": {},
     "output_type": "display_data"
    }
   ],
   "source": [
    "nx.draw(g, node_size=5)"
   ]
  }
 ],
 "metadata": {
  "kernelspec": {
   "display_name": "Python 3 (ipykernel)",
   "language": "python",
   "name": "python3"
  },
  "language_info": {
   "codemirror_mode": {
    "name": "ipython",
    "version": 3
   },
   "file_extension": ".py",
   "mimetype": "text/x-python",
   "name": "python",
   "nbconvert_exporter": "python",
   "pygments_lexer": "ipython3",
   "version": "3.9.1"
  }
 },
 "nbformat": 4,
 "nbformat_minor": 5
}
