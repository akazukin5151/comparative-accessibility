{
 "cells": [
  {
   "cell_type": "code",
   "execution_count": 1,
   "id": "6e3a3af8",
   "metadata": {},
   "outputs": [
    {
     "name": "stderr",
     "output_type": "stream",
     "text": [
      "/home/twenty/miniconda3/lib/python3.9/site-packages/geopandas/_compat.py:111: UserWarning: The Shapely GEOS version (3.8.0-CAPI-1.13.1 ) is incompatible with the GEOS version PyGEOS was compiled with (3.9.0-CAPI-1.16.2). Conversions between both will be slow.\n",
      "  warnings.warn(\n"
     ]
    }
   ],
   "source": [
    "import datetime as dt\n",
    "from datetime import date\n",
    "from datetime import datetime\n",
    "from datetime import timedelta\n",
    "import pandas as pd\n",
    "import geopandas as gpd\n",
    "import numpy as np\n",
    "import seaborn as sns\n",
    "import matplotlib.pyplot as plt\n",
    "from shapely.geometry import LineString, Point\n",
    "import pyproj\n",
    "from shapely.ops import transform\n",
    "import networkx as nx\n",
    "import momepy\n"
   ]
  },
  {
   "cell_type": "markdown",
   "id": "ba0528dd",
   "metadata": {},
   "source": [
    "# Number of routes"
   ]
  },
  {
   "cell_type": "code",
   "execution_count": 2,
   "id": "03f6f19d",
   "metadata": {},
   "outputs": [],
   "source": [
    "bus_sequences = pd.read_csv('data/london/bus-sequences.csv')"
   ]
  },
  {
   "cell_type": "code",
   "execution_count": 3,
   "id": "06c72a30",
   "metadata": {},
   "outputs": [
    {
     "data": {
      "text/html": [
       "<div>\n",
       "<style scoped>\n",
       "    .dataframe tbody tr th:only-of-type {\n",
       "        vertical-align: middle;\n",
       "    }\n",
       "\n",
       "    .dataframe tbody tr th {\n",
       "        vertical-align: top;\n",
       "    }\n",
       "\n",
       "    .dataframe thead th {\n",
       "        text-align: right;\n",
       "    }\n",
       "</style>\n",
       "<table border=\"1\" class=\"dataframe\">\n",
       "  <thead>\n",
       "    <tr style=\"text-align: right;\">\n",
       "      <th></th>\n",
       "      <th>Route</th>\n",
       "      <th>Run</th>\n",
       "      <th>Sequence</th>\n",
       "      <th>Stop_Code_LBSL</th>\n",
       "      <th>Bus_Stop_Code</th>\n",
       "      <th>Naptan_Atco</th>\n",
       "      <th>Stop_Name</th>\n",
       "      <th>Location_Easting</th>\n",
       "      <th>Location_Northing</th>\n",
       "      <th>Heading</th>\n",
       "      <th>Virtual_Bus_Stop</th>\n",
       "    </tr>\n",
       "  </thead>\n",
       "  <tbody>\n",
       "    <tr>\n",
       "      <th>0</th>\n",
       "      <td>1</td>\n",
       "      <td>1</td>\n",
       "      <td>1</td>\n",
       "      <td>14456</td>\n",
       "      <td>53369</td>\n",
       "      <td>490000235Z</td>\n",
       "      <td>NEW OXFORD STREET</td>\n",
       "      <td>529998</td>\n",
       "      <td>181428</td>\n",
       "      <td>74.0</td>\n",
       "      <td>0</td>\n",
       "    </tr>\n",
       "    <tr>\n",
       "      <th>1</th>\n",
       "      <td>1</td>\n",
       "      <td>1</td>\n",
       "      <td>2</td>\n",
       "      <td>29844</td>\n",
       "      <td>54468</td>\n",
       "      <td>490010131WB</td>\n",
       "      <td>MUSEUM STREET</td>\n",
       "      <td>530237</td>\n",
       "      <td>181523</td>\n",
       "      <td>53.0</td>\n",
       "      <td>0</td>\n",
       "    </tr>\n",
       "    <tr>\n",
       "      <th>2</th>\n",
       "      <td>1</td>\n",
       "      <td>1</td>\n",
       "      <td>3</td>\n",
       "      <td>26425</td>\n",
       "      <td>54321</td>\n",
       "      <td>490000112M</td>\n",
       "      <td>KINGSWAY / HOLBORN STATION &lt;&gt;</td>\n",
       "      <td>530560</td>\n",
       "      <td>181433</td>\n",
       "      <td>155.0</td>\n",
       "      <td>0</td>\n",
       "    </tr>\n",
       "    <tr>\n",
       "      <th>3</th>\n",
       "      <td>1</td>\n",
       "      <td>1</td>\n",
       "      <td>4</td>\n",
       "      <td>BP6517</td>\n",
       "      <td>92618</td>\n",
       "      <td>490019703Z</td>\n",
       "      <td>ALDWYCH / DRURY LANE</td>\n",
       "      <td>530637</td>\n",
       "      <td>180940</td>\n",
       "      <td>201.0</td>\n",
       "      <td>0</td>\n",
       "    </tr>\n",
       "    <tr>\n",
       "      <th>4</th>\n",
       "      <td>1</td>\n",
       "      <td>1</td>\n",
       "      <td>5</td>\n",
       "      <td>1835</td>\n",
       "      <td>71368</td>\n",
       "      <td>490014271N</td>\n",
       "      <td>WATERLOO BRIDGE / SOUTH BANK</td>\n",
       "      <td>530890</td>\n",
       "      <td>180366</td>\n",
       "      <td>149.0</td>\n",
       "      <td>0</td>\n",
       "    </tr>\n",
       "    <tr>\n",
       "      <th>...</th>\n",
       "      <td>...</td>\n",
       "      <td>...</td>\n",
       "      <td>...</td>\n",
       "      <td>...</td>\n",
       "      <td>...</td>\n",
       "      <td>...</td>\n",
       "      <td>...</td>\n",
       "      <td>...</td>\n",
       "      <td>...</td>\n",
       "      <td>...</td>\n",
       "      <td>...</td>\n",
       "    </tr>\n",
       "    <tr>\n",
       "      <th>58100</th>\n",
       "      <td>X68</td>\n",
       "      <td>2</td>\n",
       "      <td>32</td>\n",
       "      <td>6545</td>\n",
       "      <td>73787</td>\n",
       "      <td>490010343S</td>\n",
       "      <td>NORTHCOTE ROAD / LEGACY YOUTH ZONE</td>\n",
       "      <td>532571</td>\n",
       "      <td>167119</td>\n",
       "      <td>196.0</td>\n",
       "      <td>0</td>\n",
       "    </tr>\n",
       "    <tr>\n",
       "      <th>58101</th>\n",
       "      <td>X68</td>\n",
       "      <td>2</td>\n",
       "      <td>33</td>\n",
       "      <td>6544</td>\n",
       "      <td>56294</td>\n",
       "      <td>490013376S</td>\n",
       "      <td>CROMWELL ROAD</td>\n",
       "      <td>532488</td>\n",
       "      <td>166822</td>\n",
       "      <td>195.0</td>\n",
       "      <td>0</td>\n",
       "    </tr>\n",
       "    <tr>\n",
       "      <th>58102</th>\n",
       "      <td>X68</td>\n",
       "      <td>2</td>\n",
       "      <td>34</td>\n",
       "      <td>6543</td>\n",
       "      <td>58680</td>\n",
       "      <td>490015451S</td>\n",
       "      <td>HOGARTH CRESCENT</td>\n",
       "      <td>532429</td>\n",
       "      <td>166605</td>\n",
       "      <td>198.0</td>\n",
       "      <td>0</td>\n",
       "    </tr>\n",
       "    <tr>\n",
       "      <th>58103</th>\n",
       "      <td>X68</td>\n",
       "      <td>2</td>\n",
       "      <td>35</td>\n",
       "      <td>6542</td>\n",
       "      <td>57633</td>\n",
       "      <td>490003793S</td>\n",
       "      <td>BEDFORD HALL</td>\n",
       "      <td>532368</td>\n",
       "      <td>166379</td>\n",
       "      <td>191.0</td>\n",
       "      <td>0</td>\n",
       "    </tr>\n",
       "    <tr>\n",
       "      <th>58104</th>\n",
       "      <td>X68</td>\n",
       "      <td>2</td>\n",
       "      <td>36</td>\n",
       "      <td>BP6119</td>\n",
       "      <td>92195</td>\n",
       "      <td>490014420Z</td>\n",
       "      <td>WEST CROYDON BUS STATION</td>\n",
       "      <td>532236</td>\n",
       "      <td>166185</td>\n",
       "      <td>238.0</td>\n",
       "      <td>0</td>\n",
       "    </tr>\n",
       "  </tbody>\n",
       "</table>\n",
       "<p>58105 rows × 11 columns</p>\n",
       "</div>"
      ],
      "text/plain": [
       "      Route  Run  Sequence Stop_Code_LBSL Bus_Stop_Code  Naptan_Atco  \\\n",
       "0         1    1         1          14456         53369   490000235Z   \n",
       "1         1    1         2          29844         54468  490010131WB   \n",
       "2         1    1         3          26425         54321   490000112M   \n",
       "3         1    1         4         BP6517         92618   490019703Z   \n",
       "4         1    1         5           1835         71368   490014271N   \n",
       "...     ...  ...       ...            ...           ...          ...   \n",
       "58100   X68    2        32           6545         73787   490010343S   \n",
       "58101   X68    2        33           6544         56294   490013376S   \n",
       "58102   X68    2        34           6543         58680   490015451S   \n",
       "58103   X68    2        35           6542         57633   490003793S   \n",
       "58104   X68    2        36         BP6119         92195   490014420Z   \n",
       "\n",
       "                                Stop_Name  Location_Easting  \\\n",
       "0                       NEW OXFORD STREET            529998   \n",
       "1                           MUSEUM STREET            530237   \n",
       "2           KINGSWAY / HOLBORN STATION <>            530560   \n",
       "3                    ALDWYCH / DRURY LANE            530637   \n",
       "4            WATERLOO BRIDGE / SOUTH BANK            530890   \n",
       "...                                   ...               ...   \n",
       "58100  NORTHCOTE ROAD / LEGACY YOUTH ZONE            532571   \n",
       "58101                       CROMWELL ROAD            532488   \n",
       "58102                    HOGARTH CRESCENT            532429   \n",
       "58103                        BEDFORD HALL            532368   \n",
       "58104            WEST CROYDON BUS STATION            532236   \n",
       "\n",
       "       Location_Northing  Heading  Virtual_Bus_Stop  \n",
       "0                 181428     74.0                 0  \n",
       "1                 181523     53.0                 0  \n",
       "2                 181433    155.0                 0  \n",
       "3                 180940    201.0                 0  \n",
       "4                 180366    149.0                 0  \n",
       "...                  ...      ...               ...  \n",
       "58100             167119    196.0                 0  \n",
       "58101             166822    195.0                 0  \n",
       "58102             166605    198.0                 0  \n",
       "58103             166379    191.0                 0  \n",
       "58104             166185    238.0                 0  \n",
       "\n",
       "[58105 rows x 11 columns]"
      ]
     },
     "execution_count": 3,
     "metadata": {},
     "output_type": "execute_result"
    }
   ],
   "source": [
    "bus_sequences"
   ]
  },
  {
   "cell_type": "code",
   "execution_count": 6,
   "id": "97c4e0d7",
   "metadata": {},
   "outputs": [
    {
     "data": {
      "text/plain": [
       "(793,)"
      ]
     },
     "execution_count": 6,
     "metadata": {},
     "output_type": "execute_result"
    }
   ],
   "source": [
    "bus_sequences.Route.unique().shape"
   ]
  },
  {
   "cell_type": "markdown",
   "id": "2d6de97f",
   "metadata": {},
   "source": [
    "# Number of stops"
   ]
  },
  {
   "cell_type": "markdown",
   "id": "280368fe",
   "metadata": {},
   "source": [
    "The reference on LBSL stop code says:\n",
    "\n",
    "> *** KEY FIELD *** This is the alphanumeric identifier of a bus stop used by LBSL.\n",
    "\n",
    "This number is pretty similar to the \"bus stop code\", so it must be \"double counting\" stops by distinguishing direction"
   ]
  },
  {
   "cell_type": "code",
   "execution_count": 7,
   "id": "d77a2b4e",
   "metadata": {},
   "outputs": [
    {
     "data": {
      "text/plain": [
       "(20478,)"
      ]
     },
     "execution_count": 7,
     "metadata": {},
     "output_type": "execute_result"
    }
   ],
   "source": [
    "bus_sequences.Stop_Code_LBSL.unique().shape"
   ]
  },
  {
   "cell_type": "markdown",
   "id": "261e042a",
   "metadata": {},
   "source": [
    "The reference on Bus stop code says:\n",
    "\n",
    "> The area code for London is “1”.  As an example, the bus stop code for Southwark Station heading northbound is: 77293.  The NaPTAN NaptanCode for this stop is therefore 177293\n",
    "\n",
    "Should this \"double count\" stops by distinguishing direction?"
   ]
  },
  {
   "cell_type": "code",
   "execution_count": 8,
   "id": "e85eaab0",
   "metadata": {},
   "outputs": [
    {
     "data": {
      "text/plain": [
       "(20184,)"
      ]
     },
     "execution_count": 8,
     "metadata": {},
     "output_type": "execute_result"
    }
   ],
   "source": [
    "bus_sequences.Bus_Stop_Code.unique().shape"
   ]
  },
  {
   "cell_type": "code",
   "execution_count": 9,
   "id": "8a8c6526",
   "metadata": {},
   "outputs": [
    {
     "data": {
      "text/plain": [
       "(10499,)"
      ]
     },
     "execution_count": 9,
     "metadata": {},
     "output_type": "execute_result"
    }
   ],
   "source": [
    "bus_sequences.Stop_Name.unique().shape"
   ]
  },
  {
   "cell_type": "code",
   "execution_count": 10,
   "id": "f34548db",
   "metadata": {},
   "outputs": [
    {
     "data": {
      "text/plain": [
       "(20429,)"
      ]
     },
     "execution_count": 10,
     "metadata": {},
     "output_type": "execute_result"
    }
   ],
   "source": [
    "bus_sequences.Naptan_Atco.unique().shape"
   ]
  },
  {
   "cell_type": "markdown",
   "id": "91c0f9ea",
   "metadata": {},
   "source": [
    "Maybe virtual bus stops need to be filtered out"
   ]
  },
  {
   "cell_type": "code",
   "execution_count": 13,
   "id": "f1c43506",
   "metadata": {},
   "outputs": [
    {
     "data": {
      "text/plain": [
       "(18919,)"
      ]
     },
     "execution_count": 13,
     "metadata": {},
     "output_type": "execute_result"
    }
   ],
   "source": [
    "bus_sequences[bus_sequences.Virtual_Bus_Stop == 0].Stop_Code_LBSL.unique().shape"
   ]
  },
  {
   "cell_type": "code",
   "execution_count": 14,
   "id": "6f4470b2",
   "metadata": {},
   "outputs": [
    {
     "data": {
      "text/plain": [
       "(18872,)"
      ]
     },
     "execution_count": 14,
     "metadata": {},
     "output_type": "execute_result"
    }
   ],
   "source": [
    "bus_sequences[bus_sequences.Virtual_Bus_Stop == 0].Bus_Stop_Code.unique().shape"
   ]
  },
  {
   "cell_type": "code",
   "execution_count": 15,
   "id": "fc2df640",
   "metadata": {},
   "outputs": [
    {
     "data": {
      "text/plain": [
       "(9693,)"
      ]
     },
     "execution_count": 15,
     "metadata": {},
     "output_type": "execute_result"
    }
   ],
   "source": [
    "bus_sequences[bus_sequences.Virtual_Bus_Stop == 0].Stop_Name.unique().shape"
   ]
  },
  {
   "cell_type": "code",
   "execution_count": 16,
   "id": "5e5ae803",
   "metadata": {},
   "outputs": [
    {
     "data": {
      "text/plain": [
       "(18919,)"
      ]
     },
     "execution_count": 16,
     "metadata": {},
     "output_type": "execute_result"
    }
   ],
   "source": [
    "bus_sequences[bus_sequences.Virtual_Bus_Stop == 0].Naptan_Atco.unique().shape"
   ]
  },
  {
   "cell_type": "markdown",
   "id": "6d2810d1",
   "metadata": {},
   "source": [
    "# Average number of stops per route"
   ]
  },
  {
   "cell_type": "code",
   "execution_count": 19,
   "id": "de82fd75",
   "metadata": {},
   "outputs": [
    {
     "data": {
      "text/plain": [
       "73.27238335435057"
      ]
     },
     "execution_count": 19,
     "metadata": {},
     "output_type": "execute_result"
    }
   ],
   "source": [
    "bus_sequences.groupby('Route').Stop_Code_LBSL.count().mean()"
   ]
  },
  {
   "cell_type": "code",
   "execution_count": 21,
   "id": "e501afe8",
   "metadata": {},
   "outputs": [
    {
     "data": {
      "text/plain": [
       "<AxesSubplot:xlabel='Route'>"
      ]
     },
     "execution_count": 21,
     "metadata": {},
     "output_type": "execute_result"
    },
    {
     "data": {
      "image/png": "[encoded data removed]",
      "text/plain": [
       "<Figure size 432x288 with 1 Axes>"
      ]
     },
     "metadata": {
      "needs_background": "light"
     },
     "output_type": "display_data"
    }
   ],
   "source": [
    "bus_sequences.groupby('Route').Stop_Code_LBSL.count().plot.bar()"
   ]
  },
  {
   "cell_type": "code",
   "execution_count": 19,
   "id": "d786601d",
   "metadata": {},
   "outputs": [
    {
     "data": {
      "text/plain": [
       "73.27238335435057"
      ]
     },
     "execution_count": 19,
     "metadata": {},
     "output_type": "execute_result"
    }
   ],
   "source": [
    "bus_sequences.groupby('Route').Stop_Code_LBSL.count().mean()"
   ]
  },
  {
   "cell_type": "code",
   "execution_count": 8,
   "id": "6ed586ab",
   "metadata": {},
   "outputs": [
    {
     "data": {
      "text/plain": [
       "(20184,)"
      ]
     },
     "execution_count": 8,
     "metadata": {},
     "output_type": "execute_result"
    }
   ],
   "source": [
    "measures = [\n",
    "    lambda x: x.Bus_Stop_Code,\n",
    "    lambda x: x.Stop_Name,\n",
    "    lambda x: x.Naptan_Atco\n",
    "]"
   ]
  }
 ],
 "metadata": {
  "kernelspec": {
   "display_name": "Python 3 (ipykernel)",
   "language": "python",
   "name": "python3"
  },
  "language_info": {
   "codemirror_mode": {
    "name": "ipython",
    "version": 3
   },
   "file_extension": ".py",
   "mimetype": "text/x-python",
   "name": "python",
   "nbconvert_exporter": "python",
   "pygments_lexer": "ipython3",
   "version": "3.9.1"
  }
 },
 "nbformat": 4,
 "nbformat_minor": 5
}
